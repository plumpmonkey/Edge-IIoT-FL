{
 "cells": [
  {
   "cell_type": "markdown",
   "metadata": {},
   "source": [
    "# 04b - Multiclass Federated Learning with Edge IIoT Dataset using Flower and TensorFlow/Keras\n",
    "\n",
    "In this notebook we use the Flower Federated Learning library (flower.dev) with Tensorflow/Keras to distribute the Edge-IIoT data across multiple clients in various different ways."
   ]
  },
  {
   "cell_type": "code",
   "execution_count": 1,
   "metadata": {},
   "outputs": [
    {
     "name": "stdout",
     "output_type": "stream",
     "text": [
      "STRATIFIED\n"
     ]
    }
   ],
   "source": [
    "### THIS SECTION NEEDS TO BE SET TO DETERMINE WHICH CONFIGURATION METHOD TO UTILISE\n",
    "\n",
    "SPLIT_AVAILABLE_METHODS = ['INDIVIDUAL_ATTACK', 'ATTACK_GROUP', 'STRATIFIED']\n",
    "METHOD = 'STRATIFIED'\n",
    "NUM_OF_STRATIFIED_CLIENTS = 10 # only applies to stratified method\n",
    "print (METHOD)"
   ]
  },
  {
   "cell_type": "code",
   "execution_count": 2,
   "metadata": {},
   "outputs": [],
   "source": [
    "%%capture\n",
    "%pip install flwr[simulation] torch torchvision matplotlib sklearn openml"
   ]
  },
  {
   "cell_type": "code",
   "execution_count": 3,
   "metadata": {},
   "outputs": [],
   "source": [
    "import os\n",
    "import pandas as pd\n",
    "import numpy as np\n",
    "import flwr as fl\n",
    "import sklearn\n",
    "from sklearn import preprocessing\n",
    "from sklearn.utils import shuffle\n",
    "from sklearn.model_selection import train_test_split\n",
    "from sklearn.preprocessing import StandardScaler\n",
    "from sklearn.preprocessing import MinMaxScaler\n",
    "from sklearn.metrics import classification_report\n",
    "from sklearn.metrics import confusion_matrix\n",
    "from sklearn.metrics import accuracy_score\n",
    "\n",
    "import torch\n",
    "import torch.nn as nn\n",
    "import torchvision\n",
    "import torch.nn.functional as F\n",
    "import torchvision.transforms as transforms\n",
    "from flwr.common import Metrics\n",
    "from torch.utils.data import DataLoader, random_split\n",
    "from torchvision.datasets import CIFAR10\n"
   ]
  },
  {
   "cell_type": "code",
   "execution_count": 4,
   "metadata": {},
   "outputs": [
    {
     "name": "stdout",
     "output_type": "stream",
     "text": [
      "flwr 1.3.0\n",
      "numpy 1.24.2\n",
      "torch 1.13.1\n",
      "torchvision 0.14.1\n",
      "Training on cuda:0\n"
     ]
    }
   ],
   "source": [
    "print(\"flwr\", fl.__version__)\n",
    "print(\"numpy\", np.__version__)\n",
    "print(\"torch\", torch.__version__)\n",
    "print(\"torchvision\", torchvision.__version__)\n",
    "\n",
    "DEVICE = torch.device(\"cuda:0\" if torch.cuda.is_available() else \"cpu\")\n",
    "print(f\"Training on {DEVICE}\")"
   ]
  },
  {
   "cell_type": "code",
   "execution_count": 5,
   "metadata": {},
   "outputs": [],
   "source": [
    "dataset_path = \"../datasets/Edge-IIoT/\"\n",
    "\n",
    "df = pd.read_pickle(dataset_path + \"Edge-IIoTset dataset/Selected dataset for ML and DL/ML-EdgeIIoT-dataset.pkl\")   "
   ]
  },
  {
   "cell_type": "markdown",
   "metadata": {},
   "source": [
    "## Make dataframe for Multi-class classification"
   ]
  },
  {
   "cell_type": "code",
   "execution_count": 6,
   "metadata": {},
   "outputs": [],
   "source": [
    "# Multiclass attack dataframe\n",
    "multiclass_df = df[['frame.time', 'ip.src_host', 'ip.dst_host', 'arp.dst.proto_ipv4',\n",
    "       'arp.opcode', 'arp.hw.size', 'arp.src.proto_ipv4', 'icmp.checksum',\n",
    "       'icmp.seq_le', 'icmp.transmit_timestamp', 'icmp.unused',\n",
    "       'http.file_data', 'http.content_length', 'http.request.uri.query',\n",
    "       'http.request.method', 'http.referer', 'http.request.full_uri',\n",
    "       'http.request.version', 'http.response', 'http.tls_port', 'tcp.ack',\n",
    "       'tcp.ack_raw', 'tcp.checksum', 'tcp.connection.fin',\n",
    "       'tcp.connection.rst', 'tcp.connection.syn', 'tcp.connection.synack',\n",
    "       'tcp.dstport', 'tcp.flags', 'tcp.flags.ack', 'tcp.len', 'tcp.options',\n",
    "       'tcp.payload', 'tcp.seq', 'tcp.srcport', 'udp.port', 'udp.stream',\n",
    "       'udp.time_delta', 'dns.qry.name', 'dns.qry.name.len', 'dns.qry.qu',\n",
    "       'dns.qry.type', 'dns.retransmission', 'dns.retransmit_request',\n",
    "       'dns.retransmit_request_in', 'mqtt.conack.flags',\n",
    "       'mqtt.conflag.cleansess', 'mqtt.conflags', 'mqtt.hdrflags', 'mqtt.len',\n",
    "       'mqtt.msg_decoded_as', 'mqtt.msg', 'mqtt.msgtype', 'mqtt.proto_len',\n",
    "       'mqtt.protoname', 'mqtt.topic', 'mqtt.topic_len', 'mqtt.ver',\n",
    "       'mbtcp.len', 'mbtcp.trans_id', 'mbtcp.unit_id',\n",
    "       'Attack_type']]"
   ]
  },
  {
   "cell_type": "code",
   "execution_count": 7,
   "metadata": {},
   "outputs": [
    {
     "name": "stdout",
     "output_type": "stream",
     "text": [
      "known_sensor_ip_addresses: ['192.168.0.101', '192.168.2.194', '192.168.3.18', '192.168.4.73', '192.168.5.47', '192.168.6.56', '192.768.7.62', '192.168.8.163']\n",
      "known_attacker_ip_addresses: \n",
      "Number of IPs 22\n",
      "['207.192.25.133', '153.125.214.15', '192.168.0.152', '142.250.201.10', '220.146.94.148', '91.184.12.91', '192.168.0.101', '183.223.100.122', '94.196.109.185', '166.153.227.121', '133.149.252.77', '172.217.19.35', '104.16.87.20', '142.250.200.205', '172.217.19.42', '190.123.219.128', '227.117.33.125', '216.58.198.74', '213.117.18.213', '192.168.0.170', '16.226.184.201', '49.81.59.152']\n"
     ]
    }
   ],
   "source": [
    "known_sensor_ip_addresses = [ '192.168.0.101', '192.168.2.194', '192.168.3.18', '192.168.4.73', '192.168.5.47', '192.168.6.56', '192.768.7.62', '192.168.8.163']\n",
    "print (\"known_sensor_ip_addresses:\", known_sensor_ip_addresses)\n",
    "\n",
    "tcp_dos_attack_ip_addresses = [ '207.192.25.133', '94.196.109.185', '133.149.252.77', '220.146.94.148' ]\n",
    "tdp_dos_atack_ip_addresses = [ '190.123.219.128', '16.226.184.201', '153.125.214.15', '91.184.12.91' ]\n",
    "http_attack_ip_addresses = [ '192.168.0.170', '216.58.198.74' ]\n",
    "icmp_flood_attack_ip_addresses = [ '213.117.18.213', '183.223.100.122', '166.153.227.121', '49.81.59.152', '227.117.33.125' ]\n",
    "port_scan_attack_ip_addresses = [ '192.168.0.170' ]\n",
    "os_fingerprinting_attack_ip_addresses = [ '192.168.0.170' ]\n",
    "vuln_scan_attack_ip_addresses = [ '192.168.0.170', '142.250.200.205', '172.217.19.35', '142.250.201.10' ]\n",
    "dns_spoof_attack_ip_addresses = [ '192.168.0.101', '192.168.0.152', '172.217.19.35', '192.168.0.170' ]\n",
    "arp_spoof_attack_ip_addresses = [ '192.168.0.101', '192.168.0.152', '172.217.19.35', '192.168.0.170' ]\n",
    "xss_attack_ip_addresses = [ '192.168.0.170', '172.217.19.42', '104.16.87.20' ]\n",
    "sql_injection_attack_ip_addresses = [ '192.168.0.170' ]\n",
    "upload_attack_ip_addresses = [ '192.168.0.170' ]\n",
    "backdoor_attack_ip_addresses = [ '192.168.0.170' ]\n",
    "password_attack_ip_addresses = [ '192.168.0.170' ]\n",
    "ransomware_attack_ip_addresses = [ '192.168.0.170' ] \n",
    "\n",
    "# Combine all attack IP addresses into one list, ensuring no duplicates\n",
    "known_attacker_ip_addresses = list(set(tcp_dos_attack_ip_addresses + tdp_dos_atack_ip_addresses + http_attack_ip_addresses + icmp_flood_attack_ip_addresses + port_scan_attack_ip_addresses + os_fingerprinting_attack_ip_addresses + vuln_scan_attack_ip_addresses + dns_spoof_attack_ip_addresses + arp_spoof_attack_ip_addresses + xss_attack_ip_addresses + sql_injection_attack_ip_addresses + upload_attack_ip_addresses + backdoor_attack_ip_addresses + password_attack_ip_addresses + ransomware_attack_ip_addresses))\n",
    "print (f\"known_attacker_ip_addresses: \\nNumber of IPs {len(known_attacker_ip_addresses)}\\n{known_attacker_ip_addresses}\")\n"
   ]
  },
  {
   "cell_type": "markdown",
   "metadata": {},
   "source": [
    "With the exception of DDOS attacks, the attacks mainly come from a small subset of IP addresses. `192.168.0.170` being responsible for a lot of the attacks. From the data exploration workbook `02b-ML-Data-Exploration.ipynb` we can also see that the attacked IP is always the `192.168.0.128` edge server. This means it is not feasible the divide the traffic either by attacker or attacked IP address."
   ]
  },
  {
   "cell_type": "markdown",
   "metadata": {},
   "source": [
    "## Multiclass Classification"
   ]
  },
  {
   "cell_type": "markdown",
   "metadata": {},
   "source": [
    "Categorical data encoding (Dummy Encoding):\n",
    "\n",
    "EG. Takes a product category and converts it to a binary vector"
   ]
  },
  {
   "cell_type": "code",
   "execution_count": 8,
   "metadata": {},
   "outputs": [],
   "source": [
    "def encode_text_dummy(df, name):\n",
    "\n",
    "    dummies = pd.get_dummies(df[name])\n",
    "\n",
    "    for x in dummies.columns:\n",
    "\n",
    "        dummy_name = f\"{name}-{x}\"\n",
    "\n",
    "        df[dummy_name] = dummies[x]\n",
    "\n",
    "    df.drop(name, axis=1, inplace=True)\n",
    "\n",
    "encode_text_dummy(multiclass_df,'http.request.method')\n",
    "\n",
    "encode_text_dummy(multiclass_df,'http.referer')\n",
    "\n",
    "encode_text_dummy(multiclass_df,\"http.request.version\")\n",
    "\n",
    "encode_text_dummy(multiclass_df,\"dns.qry.name.len\")\n",
    "\n",
    "encode_text_dummy(multiclass_df,\"mqtt.conack.flags\")\n",
    "\n",
    "encode_text_dummy(multiclass_df,\"mqtt.protoname\")\n",
    "\n",
    "encode_text_dummy(multiclass_df,\"mqtt.topic\")"
   ]
  },
  {
   "cell_type": "code",
   "execution_count": 9,
   "metadata": {},
   "outputs": [
    {
     "name": "stdout",
     "output_type": "stream",
     "text": [
      "max index value of binary_df: 157799\n",
      "(157800, 90)\n"
     ]
    }
   ],
   "source": [
    "# print max index value of binary_df\n",
    "print(\"max index value of binary_df:\", max(multiclass_df.index))\n",
    "print(multiclass_df.shape)"
   ]
  },
  {
   "cell_type": "markdown",
   "metadata": {},
   "source": [
    "We need to drop some unrequired columns from the DF, but we need to keep the original around as we may need to split the data differently for different models based on things like the IP address"
   ]
  },
  {
   "cell_type": "code",
   "execution_count": 10,
   "metadata": {},
   "outputs": [
    {
     "data": {
      "text/plain": [
       "ip.src_host                            0\n",
       "ip.dst_host                            0\n",
       "arp.opcode                             0\n",
       "arp.hw.size                            0\n",
       "icmp.checksum                          0\n",
       "                                      ..\n",
       "mqtt.protoname-0.0                     0\n",
       "mqtt.protoname-MQTT                    0\n",
       "mqtt.topic-0                           0\n",
       "mqtt.topic-0.0                         0\n",
       "mqtt.topic-Temperature_and_Humidity    0\n",
       "Length: 77, dtype: int64"
      ]
     },
     "execution_count": 10,
     "metadata": {},
     "output_type": "execute_result"
    }
   ],
   "source": [
    "#drop_columns = [\"frame.time\", \"ip.src_host\", \"ip.dst_host\", \"arp.src.proto_ipv4\",\"arp.dst.proto_ipv4\", \n",
    "drop_columns = [\"frame.time\", \"arp.src.proto_ipv4\",\"arp.dst.proto_ipv4\", \n",
    "\n",
    "         \"http.file_data\",\"http.request.full_uri\",\"icmp.transmit_timestamp\",\n",
    "\n",
    "         \"http.request.uri.query\", \"tcp.options\",\"tcp.payload\",\"tcp.srcport\",\n",
    "\n",
    "         \"tcp.dstport\", \"udp.port\", \"mqtt.msg\"]\n",
    "\n",
    "multiclass_df = multiclass_df.drop(drop_columns, axis=1)\n",
    "\n",
    "multiclass_df = multiclass_df.dropna(axis=0, how='any')\n",
    "\n",
    "multiclass_df = multiclass_df.drop_duplicates(subset=None, keep=\"first\")\n",
    "\n",
    "# We cant shuffle at this point as we need to keep the order so we can split the dataset later based on things like IP address\n",
    "#binary_df_copy = shuffle(binary_df_copy)\n",
    "\n",
    "# Compute the number of missing values (NaN or null) in each column of a pandas DataFrame object named df.\n",
    "multiclass_df.isna().sum()"
   ]
  },
  {
   "cell_type": "code",
   "execution_count": 11,
   "metadata": {},
   "outputs": [
    {
     "name": "stdout",
     "output_type": "stream",
     "text": [
      "max index value of binary_df: 157799\n",
      "(153225, 77)\n",
      "max index value of binary_df: 153224\n",
      "(153225, 77)\n"
     ]
    }
   ],
   "source": [
    "# print max index value of binary_df\n",
    "print(\"max index value of binary_df:\", max(multiclass_df.index))\n",
    "print(multiclass_df.shape)\n",
    "\n",
    "multiclass_df.reset_index(drop=True, inplace=True)\n",
    "\n",
    "# print max index value of binary_df\n",
    "print(\"max index value of binary_df:\", max(multiclass_df.index))\n",
    "print(multiclass_df.shape)\n"
   ]
  },
  {
   "cell_type": "markdown",
   "metadata": {},
   "source": [
    "Change the Attack Type to be a unique number for the attack type"
   ]
  },
  {
   "cell_type": "code",
   "execution_count": 12,
   "metadata": {},
   "outputs": [],
   "source": [
    "# Creating a dictionary of Types\n",
    "attacks = {'Normal': 0 ,'Backdoor' :1, 'DDoS_HTTP':2,  'DDoS_ICMP':3, 'DDoS_TCP':4, 'DDoS_UDP':5, \n",
    "           'Fingerprinting':6, 'MITM':7, 'Password':8, 'Port_Scanning':9, 'Ransomware':10, \n",
    "           'SQL_injection':11, 'Uploading':12, 'Vulnerability_scanner':13, 'XSS':14}\n",
    "\n",
    "multiclass_df['Attack_type'] = multiclass_df['Attack_type'].map(attacks)\n"
   ]
  },
  {
   "cell_type": "code",
   "execution_count": 13,
   "metadata": {},
   "outputs": [
    {
     "name": "stdout",
     "output_type": "stream",
     "text": [
      "(122580, 77)\n",
      "122579\n",
      "153224\n"
     ]
    }
   ],
   "source": [
    "label = multiclass_df['Attack_type']\n",
    "le = preprocessing.LabelEncoder()\n",
    "label_n = le.fit_transform(label.values)\n",
    "\n",
    "# Stratify based on the attack label to balance the dataset - This is our original copy of the data include IP addresses\n",
    "X_train_df, X_test_df, y_train_df, y_test_df = train_test_split(multiclass_df, label_n, stratify=label_n, test_size=0.2, random_state=42)\n",
    "\n",
    "print(X_train_df.shape)\n",
    "\n",
    "X_train_df.reset_index(drop=True, inplace=True)\n",
    "\n",
    "#print the max index of X_train_df\n",
    "print(X_train_df.index.max())\n",
    "\n",
    "#  print the max index of multiclass_df\n",
    "print(multiclass_df.index.max())"
   ]
  },
  {
   "cell_type": "code",
   "execution_count": 14,
   "metadata": {},
   "outputs": [
    {
     "name": "stdout",
     "output_type": "stream",
     "text": [
      "[7 7 7 ... 3 3 3]\n"
     ]
    }
   ],
   "source": [
    "print(label_n)"
   ]
  },
  {
   "cell_type": "code",
   "execution_count": 15,
   "metadata": {},
   "outputs": [
    {
     "name": "stdout",
     "output_type": "stream",
     "text": [
      "Train: (122580, 74) (122580,)\n",
      "Test: (30645, 74) (30645,)\n"
     ]
    }
   ],
   "source": [
    "multiclass_df_copy = multiclass_df.copy()\n",
    "\n",
    "multiclass_df_copy = multiclass_df_copy.drop([\"ip.src_host\", \"ip.dst_host\", \"Attack_type\"], axis=1)\n",
    "\n",
    "# This is our copy of the data without IP addresses\n",
    "scaled_features = StandardScaler().fit_transform(multiclass_df_copy.values)\n",
    "X_train, X_test, y_train, y_test = train_test_split(scaled_features, label_n, stratify=label_n, test_size=0.2, random_state=42)\n",
    "\n",
    "print (\"Train:\", X_train.shape, y_train.shape)\n",
    "print (\"Test:\", X_test.shape, y_test.shape)\n"
   ]
  },
  {
   "cell_type": "code",
   "execution_count": 16,
   "metadata": {},
   "outputs": [
    {
     "name": "stdout",
     "output_type": "stream",
     "text": [
      "TRAIN: [     0     19     25 ... 122549 122557 122567]\n",
      "TRAIN: [     2     13     21 ... 122544 122568 122573]\n",
      "TRAIN: [     6     12     20 ... 122574 122576 122577]\n",
      "TRAIN: [    35     56     73 ... 122554 122565 122570]\n",
      "TRAIN: [     3      4      5 ... 122536 122572 122579]\n",
      "TRAIN: [     7     11     14 ... 122533 122563 122575]\n",
      "TRAIN: [    10     50     61 ... 122561 122564 122571]\n",
      "TRAIN: [     9     18     24 ... 122550 122555 122560]\n",
      "TRAIN: [     1     15     26 ... 122547 122562 122569]\n",
      "TRAIN: [    17     29     32 ... 122559 122566 122578]\n"
     ]
    }
   ],
   "source": [
    "fl_X_train = []\n",
    "fl_y_train = []\n",
    "\n",
    "if METHOD == 'STRATIFIED':\n",
    "    # Stratfiy the dataset\n",
    "    from sklearn.model_selection import StratifiedKFold\n",
    "\n",
    "    skf = StratifiedKFold(n_splits=NUM_OF_STRATIFIED_CLIENTS, shuffle=True, random_state=42)\n",
    "    skf.get_n_splits(X_train, y_train)\n",
    "\n",
    "    for _, train_index in skf.split(X_train, y_train):\n",
    "        print(\"TRAIN:\", train_index)\n",
    "        X_np = X_train[train_index]\n",
    "        y_np = y_train[train_index]\n",
    "\n",
    "        fl_X_train.append(X_np)\n",
    "        fl_y_train.append(y_np)\n",
    "\n",
    "else: # UNUSED\n",
    "    # Individual IP address\n",
    "    for ip in known_sensor_ip_addresses:\n",
    "        new_ip = [ip]\n",
    "        print(\"new_ip:\", new_ip)\n",
    "\n",
    "        X_train_df['ip.src_host']\n",
    "        \n",
    "        print(\"Shape X_Train:\", X_train.shape)\n",
    "        print(\"Shape y_Train:\", y_train.shape)\n",
    "\n",
    "        # Filter dataframe by IP address\n",
    "        new_df_src = X_train_df[ X_train_df['ip.src_host'].isin(new_ip) ]\n",
    "        new_df_dst = X_train_df[ X_train_df['ip.dst_host'].isin(new_ip) ]\n",
    "\n",
    "        print(\"Shape new_df_src:\", new_df_src.shape)\n",
    "        print(\"Shape new_df_dst:\", new_df_dst.shape)\n",
    "\n",
    "        X_np = np.vstack([ X_train[ new_df_src.index, : ], X_train[ new_df_dst.index, :] ])\n",
    "        y_np = np.hstack([ y_train[ new_df_src.index ], y_train[ new_df_dst.index ] ])\n",
    "\n",
    "        print (\"x_np:\", X_np.shape)\n",
    "        print (\"y_np:\", y_np.shape)\n",
    "\n",
    "        fl_X_train.append(X_np)\n",
    "        fl_y_train.append(y_np)\n"
   ]
  },
  {
   "cell_type": "code",
   "execution_count": 17,
   "metadata": {},
   "outputs": [
    {
     "name": "stdout",
     "output_type": "stream",
     "text": [
      "fl_X_train size: 10\n",
      "fl_X_train[ 0 ]: (12258, 74)\n",
      "fl_y_train[ 0 ]: (12258,)\n",
      "fl_X_train[ 1 ]: (12258, 74)\n",
      "fl_y_train[ 1 ]: (12258,)\n",
      "fl_X_train[ 2 ]: (12258, 74)\n",
      "fl_y_train[ 2 ]: (12258,)\n",
      "fl_X_train[ 3 ]: (12258, 74)\n",
      "fl_y_train[ 3 ]: (12258,)\n",
      "fl_X_train[ 4 ]: (12258, 74)\n",
      "fl_y_train[ 4 ]: (12258,)\n",
      "fl_X_train[ 5 ]: (12258, 74)\n",
      "fl_y_train[ 5 ]: (12258,)\n",
      "fl_X_train[ 6 ]: (12258, 74)\n",
      "fl_y_train[ 6 ]: (12258,)\n",
      "fl_X_train[ 7 ]: (12258, 74)\n",
      "fl_y_train[ 7 ]: (12258,)\n",
      "fl_X_train[ 8 ]: (12258, 74)\n",
      "fl_y_train[ 8 ]: (12258,)\n",
      "fl_X_train[ 9 ]: (12258, 74)\n",
      "fl_y_train[ 9 ]: (12258,)\n"
     ]
    }
   ],
   "source": [
    "# Print out the size of the fl_X_train\n",
    "print (\"fl_X_train size:\", len(fl_X_train))\n",
    "\n",
    "# Print out the size of each element in the fl_X_train\n",
    "for i in range(len(fl_X_train)):\n",
    "    print (\"fl_X_train[\", i, \"]:\", fl_X_train[i].shape)\n",
    "    print (\"fl_y_train[\", i, \"]:\", fl_y_train[i].shape)\n"
   ]
  },
  {
   "cell_type": "code",
   "execution_count": 18,
   "metadata": {},
   "outputs": [
    {
     "data": {
      "text/plain": [
       "15"
      ]
     },
     "execution_count": 18,
     "metadata": {},
     "output_type": "execute_result"
    }
   ],
   "source": [
    "len(label.unique()) "
   ]
  },
  {
   "cell_type": "code",
   "execution_count": 19,
   "metadata": {},
   "outputs": [
    {
     "name": "stdout",
     "output_type": "stream",
     "text": [
      "NUM_OF_CLIENTS: 10\n",
      "Checking data split groups\n",
      "0 : X Shape (12258, 74) Y Shape (12258,)\n",
      "1 : X Shape (12258, 74) Y Shape (12258,)\n",
      "2 : X Shape (12258, 74) Y Shape (12258,)\n",
      "3 : X Shape (12258, 74) Y Shape (12258,)\n",
      "4 : X Shape (12258, 74) Y Shape (12258,)\n",
      "5 : X Shape (12258, 74) Y Shape (12258,)\n",
      "6 : X Shape (12258, 74) Y Shape (12258,)\n",
      "7 : X Shape (12258, 74) Y Shape (12258,)\n",
      "8 : X Shape (12258, 74) Y Shape (12258,)\n",
      "9 : X Shape (12258, 74) Y Shape (12258,)\n",
      "\n",
      "Deploy Simulation\n"
     ]
    }
   ],
   "source": [
    "NUM_OF_CLIENTS = len(fl_X_train)\n",
    "print(\"NUM_OF_CLIENTS:\", NUM_OF_CLIENTS)    \n",
    "\n",
    "NUM_OF_ROUNDS = 10\n",
    "\n",
    "print(\"Checking data split groups\")\n",
    "for i in range(len(fl_X_train)):\n",
    "    print(i, \":\", \"X Shape\", fl_X_train[i].shape, \"Y Shape\", fl_y_train[i].shape)\n",
    "\n",
    "print(\"\\nDeploy Simulation\")\n"
   ]
  },
  {
   "cell_type": "markdown",
   "metadata": {},
   "source": [
    "# FL Part"
   ]
  },
  {
   "cell_type": "markdown",
   "metadata": {},
   "source": [
    "NOTE TO SELF - BUILD IN F1 SCORE  - https://www.kaggle.com/code/gpiosenka/flower-classification-f1-score-93\n"
   ]
  },
  {
   "cell_type": "code",
   "execution_count": 54,
   "metadata": {},
   "outputs": [
    {
     "name": "stderr",
     "output_type": "stream",
     "text": [
      "INFO flwr 2023-07-06 18:48:16,430 | app.py:146 | Starting Flower simulation, config: ServerConfig(num_rounds=10, round_timeout=None)\n",
      "INFO:flwr:Starting Flower simulation, config: ServerConfig(num_rounds=10, round_timeout=None)\n"
     ]
    },
    {
     "name": "stdout",
     "output_type": "stream",
     "text": [
      "scikit-learn 1.2.0.\n",
      "flwr 1.4.0\n",
      "numpy 1.24.2\n",
      "tf 2.11.0\n",
      "Deploy simulation...\n",
      "\u001b[2m\u001b[36m(launch_and_fit pid=36136)\u001b[0m 24/24 [==============================] - ETA: 0s - loss: 0.3951 - accuracy: 0.8100\n",
      "\u001b[2m\u001b[36m(launch_and_fit pid=43488)\u001b[0m 16/24 [===================>..........] - ETA: 0s - loss: 0.3912 - accuracy: 0.8123\u001b[32m [repeated 11x across cluster]\u001b[0m\n",
      "\u001b[2m\u001b[36m(launch_and_fit pid=37272)\u001b[0m 15/24 [=================>............] - ETA: 0s - loss: 0.4044 - accuracy: 0.8085\u001b[32m [repeated 6x across cluster]\u001b[0m\n",
      "\u001b[2m\u001b[36m(launch_and_evaluate pid=43488)\u001b[0m Client ID: 4\u001b[32m [repeated 5x across cluster]\u001b[0m\n",
      "\u001b[2m\u001b[36m(launch_and_fit pid=29552)\u001b[0m Epoch 10/10\u001b[32m [repeated 53x across cluster]\u001b[0m\n",
      "\u001b[2m\u001b[36m(launch_and_evaluate pid=11820)\u001b[0m \u001b[32m [repeated 160x across cluster]\u001b[0m\n",
      "\u001b[2m\u001b[36m(launch_and_evaluate pid=11820)\u001b[0m  1/24 [>.............................] - ETA: 3s - loss: 0.3740 - accuracy: 0.8047\u001b[32m [repeated 58x across cluster]\u001b[0m\n",
      "\u001b[2m\u001b[36m(launch_and_evaluate pid=11820)\u001b[0m 24/24 [==============================] - 0s 1ms/step - loss: 0.3851 - accuracy: 0.8235\u001b[32m [repeated 5x across cluster]\u001b[0m\n",
      "\u001b[2m\u001b[36m(launch_and_evaluate pid=25520)\u001b[0m Client  7 Evaluating...\u001b[32m [repeated 5x across cluster]\u001b[0m\n",
      "\u001b[2m\u001b[36m(launch_and_evaluate pid=11820)\u001b[0m Client  9 Evaluating complete... 0.8235437870025635 0.38513368368148804\u001b[32m [repeated 5x across cluster]\u001b[0m\n"
     ]
    },
    {
     "name": "stderr",
     "output_type": "stream",
     "text": [
      "2023-07-06 18:48:25,415\tINFO worker.py:1636 -- Started a local Ray instance.\n",
      "INFO flwr 2023-07-06 18:48:30,234 | app.py:180 | Flower VCE: Ray initialized with resources: {'memory': 6719447040.0, 'object_store_memory': 3359723520.0, 'node:127.0.0.1': 1.0, 'GPU': 1.0, 'CPU': 24.0}\n",
      "INFO:flwr:Flower VCE: Ray initialized with resources: {'memory': 6719447040.0, 'object_store_memory': 3359723520.0, 'node:127.0.0.1': 1.0, 'GPU': 1.0, 'CPU': 24.0}\n",
      "INFO flwr 2023-07-06 18:48:30,237 | server.py:86 | Initializing global parameters\n",
      "INFO:flwr:Initializing global parameters\n",
      "INFO flwr 2023-07-06 18:48:30,238 | server.py:273 | Requesting initial parameters from one random client\n",
      "INFO:flwr:Requesting initial parameters from one random client\n",
      "INFO flwr 2023-07-06 18:48:34,794 | server.py:277 | Received initial parameters from one random client\n",
      "INFO:flwr:Received initial parameters from one random client\n",
      "INFO flwr 2023-07-06 18:48:34,796 | server.py:88 | Evaluating initial parameters\n",
      "INFO:flwr:Evaluating initial parameters\n"
     ]
    },
    {
     "name": "stdout",
     "output_type": "stream",
     "text": [
      "Server Evaluating... 0\n",
      "\u001b[2m\u001b[36m(launch_and_get_parameters pid=38200)\u001b[0m Client ID: 7\n",
      "958/958 [==============================] - 1s 866us/step - loss: 2.7574 - accuracy: 0.0561\n",
      "958/958 [==============================] - 1s 793us/step\n"
     ]
    },
    {
     "name": "stderr",
     "output_type": "stream",
     "text": [
      "INFO flwr 2023-07-06 18:48:36,911 | server.py:91 | initial parameters (loss, other metrics): 2.7574028968811035, {'accuracy': 0.056126609444618225}\n",
      "INFO:flwr:initial parameters (loss, other metrics): 2.7574028968811035, {'accuracy': 0.056126609444618225}\n",
      "INFO flwr 2023-07-06 18:48:36,913 | server.py:101 | FL starting\n",
      "INFO:flwr:FL starting\n",
      "DEBUG flwr 2023-07-06 18:48:36,914 | server.py:218 | fit_round 1: strategy sampled 10 clients (out of 10)\n",
      "DEBUG:flwr:fit_round 1: strategy sampled 10 clients (out of 10)\n"
     ]
    },
    {
     "name": "stdout",
     "output_type": "stream",
     "text": [
      "Prediction:  [[1.5143695e-01 6.0633946e-02 4.8871908e-02 ... 8.6608201e-02\n",
      "  5.6539323e-02 6.8384916e-02]\n",
      " [1.2638277e-02 4.3480471e-03 4.7798294e-01 ... 4.0453490e-02\n",
      "  5.6197032e-02 3.7506256e-02]\n",
      " [4.9133565e-02 2.1103945e-02 6.3954063e-02 ... 2.1724973e-02\n",
      "  7.2884254e-02 5.4897245e-02]\n",
      " ...\n",
      " [1.0497146e-02 9.8640710e-05 2.3062721e-02 ... 5.1498283e-03\n",
      "  3.4630988e-02 2.1472592e-02]\n",
      " [6.4446963e-02 6.7797914e-02 7.5274311e-02 ... 5.1576223e-02\n",
      "  7.2888553e-02 7.3770970e-02]\n",
      " [9.4743513e-02 4.8035592e-02 6.2433399e-02 ... 8.3289020e-02\n",
      "  6.9180869e-02 6.6852085e-02]] (30645, 15)\n",
      "Server Evaluating complete... 0.056126609444618225 2.7574028968811035\n",
      "\u001b[2m\u001b[36m(launch_and_fit pid=38200)\u001b[0m Client ID: 4\n",
      "\u001b[2m\u001b[36m(launch_and_fit pid=38200)\u001b[0m Client  4 Training...\n",
      "\u001b[2m\u001b[36m(launch_and_fit pid=38200)\u001b[0m Epoch 1/10\n",
      "\u001b[2m\u001b[36m(launch_and_fit pid=38200)\u001b[0m \n",
      "\u001b[2m\u001b[36m(launch_and_fit pid=38200)\u001b[0m   1/192 [..............................] - ETA: 2:17 - loss: 2.6373 - accuracy: 0.0469\n",
      "\u001b[2m\u001b[36m(launch_and_fit pid=38200)\u001b[0m  39/192 [=====>........................] - ETA: 0s - loss: 2.2948 - accuracy: 0.2961  \n",
      "\u001b[2m\u001b[36m(launch_and_fit pid=38200)\u001b[0m \n",
      "\u001b[2m\u001b[36m(launch_and_fit pid=38200)\u001b[0m  74/192 [==========>...................] - ETA: 0s - loss: 1.9799 - accuracy: 0.4204\n",
      "\u001b[2m\u001b[36m(launch_and_fit pid=38200)\u001b[0m 105/192 [===============>..............] - ETA: 0s - loss: 1.7675 - accuracy: 0.4818\n",
      "\u001b[2m\u001b[36m(launch_and_fit pid=38200)\u001b[0m 142/192 [=====================>........] - ETA: 0s - loss: 1.5643 - accuracy: 0.5287\n",
      "\u001b[2m\u001b[36m(launch_and_fit pid=38200)\u001b[0m \n",
      "\u001b[2m\u001b[36m(launch_and_fit pid=38200)\u001b[0m 179/192 [==========================>...] - ETA: 0s - loss: 1.3966 - accuracy: 0.5628\n",
      "\u001b[2m\u001b[36m(launch_and_fit pid=38200)\u001b[0m 192/192 [==============================] - 1s 1ms/step - loss: 1.3489 - accuracy: 0.5720\n",
      "\u001b[2m\u001b[36m(launch_and_fit pid=38200)\u001b[0m Epoch 2/10\n",
      "\u001b[2m\u001b[36m(launch_and_fit pid=38200)\u001b[0m \n",
      "\u001b[2m\u001b[36m(launch_and_fit pid=38200)\u001b[0m   1/192 [..............................] - ETA: 0s - loss: 0.6462 - accuracy: 0.7812\n",
      "\u001b[2m\u001b[36m(launch_and_fit pid=38200)\u001b[0m  36/192 [====>.........................] - ETA: 0s - loss: 0.6226 - accuracy: 0.7218\n",
      "\u001b[2m\u001b[36m(launch_and_fit pid=38200)\u001b[0m \n",
      "\u001b[2m\u001b[36m(launch_and_fit pid=38200)\u001b[0m  71/192 [==========>...................] - ETA: 0s - loss: 0.6232 - accuracy: 0.7097\n",
      "\u001b[2m\u001b[36m(launch_and_fit pid=38200)\u001b[0m \n",
      "\u001b[2m\u001b[36m(launch_and_fit pid=38200)\u001b[0m 101/192 [==============>...............] - ETA: 0s - loss: 0.6138 - accuracy: 0.7101\n",
      "\u001b[2m\u001b[36m(launch_and_fit pid=38200)\u001b[0m 132/192 [===================>..........] - ETA: 0s - loss: 0.6064 - accuracy: 0.7103\n",
      "\u001b[2m\u001b[36m(launch_and_fit pid=38200)\u001b[0m 165/192 [========================>.....] - ETA: 0s - loss: 0.6030 - accuracy: 0.7073\n",
      "\u001b[2m\u001b[36m(launch_and_fit pid=38200)\u001b[0m \n",
      "\u001b[2m\u001b[36m(launch_and_fit pid=38200)\u001b[0m 192/192 [==============================] - 0s 2ms/step - loss: 0.6005 - accuracy: 0.7070\n",
      "\u001b[2m\u001b[36m(launch_and_fit pid=38200)\u001b[0m Epoch 3/10\n",
      "\u001b[2m\u001b[36m(launch_and_fit pid=38200)\u001b[0m \n",
      "\u001b[2m\u001b[36m(launch_and_fit pid=38200)\u001b[0m   1/192 [..............................] - ETA: 0s - loss: 0.7064 - accuracy: 0.6719\n",
      "\u001b[2m\u001b[36m(launch_and_fit pid=38200)\u001b[0m  37/192 [====>.........................] - ETA: 0s - loss: 0.5655 - accuracy: 0.7111\n",
      "\u001b[2m\u001b[36m(launch_and_fit pid=38200)\u001b[0m  69/192 [=========>....................] - ETA: 0s - loss: 0.5668 - accuracy: 0.7140\n",
      "\u001b[2m\u001b[36m(launch_and_fit pid=38200)\u001b[0m \n",
      "\u001b[2m\u001b[36m(launch_and_fit pid=38200)\u001b[0m 103/192 [===============>..............] - ETA: 0s - loss: 0.5667 - accuracy: 0.7124\n",
      "\u001b[2m\u001b[36m(launch_and_fit pid=38200)\u001b[0m 141/192 [=====================>........] - ETA: 0s - loss: 0.5621 - accuracy: 0.7104\n",
      "\u001b[2m\u001b[36m(launch_and_fit pid=38200)\u001b[0m \n",
      "\u001b[2m\u001b[36m(launch_and_fit pid=38200)\u001b[0m 178/192 [==========================>...] - ETA: 0s - loss: 0.5574 - accuracy: 0.7135\n",
      "\u001b[2m\u001b[36m(launch_and_fit pid=38200)\u001b[0m \n",
      "\u001b[2m\u001b[36m(launch_and_fit pid=38200)\u001b[0m 192/192 [==============================] - 0s 1ms/step - loss: 0.5544 - accuracy: 0.7151\n",
      "\u001b[2m\u001b[36m(launch_and_fit pid=38200)\u001b[0m Epoch 4/10\n",
      "\u001b[2m\u001b[36m(launch_and_fit pid=38200)\u001b[0m \n",
      "\u001b[2m\u001b[36m(launch_and_fit pid=38200)\u001b[0m   1/192 [..............................] - ETA: 0s - loss: 0.5845 - accuracy: 0.5938\n",
      "\u001b[2m\u001b[36m(launch_and_fit pid=38200)\u001b[0m \n",
      "\u001b[2m\u001b[36m(launch_and_fit pid=38200)\u001b[0m  38/192 [====>.........................] - ETA: 0s - loss: 0.5403 - accuracy: 0.7097\n",
      "\u001b[2m\u001b[36m(launch_and_fit pid=38200)\u001b[0m  75/192 [==========>...................] - ETA: 0s - loss: 0.5301 - accuracy: 0.7171\n",
      "\u001b[2m\u001b[36m(launch_and_fit pid=38200)\u001b[0m 114/192 [================>.............] - ETA: 0s - loss: 0.5415 - accuracy: 0.7140\n",
      "\u001b[2m\u001b[36m(launch_and_fit pid=38200)\u001b[0m \n",
      "\u001b[2m\u001b[36m(launch_and_fit pid=38200)\u001b[0m 154/192 [=======================>......] - ETA: 0s - loss: 0.5453 - accuracy: 0.7164\n",
      "\u001b[2m\u001b[36m(launch_and_fit pid=38200)\u001b[0m 192/192 [==============================] - 0s 1ms/step - loss: 0.5421 - accuracy: 0.7181\n",
      "\u001b[2m\u001b[36m(launch_and_fit pid=38200)\u001b[0m Epoch 5/10\n",
      "\u001b[2m\u001b[36m(launch_and_fit pid=38200)\u001b[0m \n",
      "\u001b[2m\u001b[36m(launch_and_fit pid=38200)\u001b[0m   1/192 [..............................] - ETA: 0s - loss: 0.5429 - accuracy: 0.7031\n",
      "\u001b[2m\u001b[36m(launch_and_fit pid=38200)\u001b[0m  39/192 [=====>........................] - ETA: 0s - loss: 0.5391 - accuracy: 0.7135\n",
      "\u001b[2m\u001b[36m(launch_and_fit pid=38200)\u001b[0m \n",
      "\u001b[2m\u001b[36m(launch_and_fit pid=38200)\u001b[0m  78/192 [===========>..................] - ETA: 0s - loss: 0.5351 - accuracy: 0.7165\n",
      "\u001b[2m\u001b[36m(launch_and_fit pid=38200)\u001b[0m 117/192 [=================>............] - ETA: 0s - loss: 0.5361 - accuracy: 0.7135\n",
      "\u001b[2m\u001b[36m(launch_and_fit pid=38200)\u001b[0m \n",
      "\u001b[2m\u001b[36m(launch_and_fit pid=38200)\u001b[0m 155/192 [=======================>......] - ETA: 0s - loss: 0.5374 - accuracy: 0.7165\n",
      "\u001b[2m\u001b[36m(launch_and_fit pid=38200)\u001b[0m \n",
      "\u001b[2m\u001b[36m(launch_and_fit pid=38200)\u001b[0m 191/192 [============================>.] - ETA: 0s - loss: 0.5328 - accuracy: 0.7201\n",
      "\u001b[2m\u001b[36m(launch_and_fit pid=38200)\u001b[0m 192/192 [==============================] - 0s 1ms/step - loss: 0.5322 - accuracy: 0.7204\n",
      "\u001b[2m\u001b[36m(launch_and_fit pid=38200)\u001b[0m Epoch 6/10\n",
      "\u001b[2m\u001b[36m(launch_and_fit pid=38200)\u001b[0m \n",
      "\u001b[2m\u001b[36m(launch_and_fit pid=38200)\u001b[0m   1/192 [..............................] - ETA: 0s - loss: 0.5356 - accuracy: 0.7500\n",
      "\u001b[2m\u001b[36m(launch_and_fit pid=38200)\u001b[0m  38/192 [====>.........................] - ETA: 0s - loss: 0.5274 - accuracy: 0.7171\n",
      "\u001b[2m\u001b[36m(launch_and_fit pid=38200)\u001b[0m \n",
      "\u001b[2m\u001b[36m(launch_and_fit pid=38200)\u001b[0m  78/192 [===========>..................] - ETA: 0s - loss: 0.5291 - accuracy: 0.7159\n",
      "\u001b[2m\u001b[36m(launch_and_fit pid=38200)\u001b[0m \n",
      "\u001b[2m\u001b[36m(launch_and_fit pid=38200)\u001b[0m 113/192 [================>.............] - ETA: 0s - loss: 0.5279 - accuracy: 0.7174\n",
      "\u001b[2m\u001b[36m(launch_and_fit pid=38200)\u001b[0m 144/192 [=====================>........] - ETA: 0s - loss: 0.5245 - accuracy: 0.7217\n",
      "\u001b[2m\u001b[36m(launch_and_fit pid=38200)\u001b[0m 177/192 [==========================>...] - ETA: 0s - loss: 0.5257 - accuracy: 0.7243\n",
      "\u001b[2m\u001b[36m(launch_and_fit pid=38200)\u001b[0m \n",
      "\u001b[2m\u001b[36m(launch_and_fit pid=38200)\u001b[0m 192/192 [==============================] - 0s 1ms/step - loss: 0.5244 - accuracy: 0.7263\n",
      "\u001b[2m\u001b[36m(launch_and_fit pid=38200)\u001b[0m Epoch 7/10\n",
      "\u001b[2m\u001b[36m(launch_and_fit pid=38200)\u001b[0m \n",
      "\u001b[2m\u001b[36m(launch_and_fit pid=38200)\u001b[0m   1/192 [..............................] - ETA: 0s - loss: 0.5286 - accuracy: 0.6875\n",
      "\u001b[2m\u001b[36m(launch_and_fit pid=38200)\u001b[0m \n",
      "\u001b[2m\u001b[36m(launch_and_fit pid=38200)\u001b[0m  30/192 [===>..........................] - ETA: 0s - loss: 0.5289 - accuracy: 0.7036\n",
      "\u001b[2m\u001b[36m(launch_and_fit pid=38200)\u001b[0m  63/192 [========>.....................] - ETA: 0s - loss: 0.5248 - accuracy: 0.7083\n",
      "\u001b[2m\u001b[36m(launch_and_fit pid=38200)\u001b[0m  95/192 [=============>................] - ETA: 0s - loss: 0.5250 - accuracy: 0.7109\n",
      "\u001b[2m\u001b[36m(launch_and_fit pid=38200)\u001b[0m \n",
      "\u001b[2m\u001b[36m(launch_and_fit pid=38200)\u001b[0m 128/192 [===================>..........] - ETA: 0s - loss: 0.5167 - accuracy: 0.7168\n",
      "\u001b[2m\u001b[36m(launch_and_fit pid=38200)\u001b[0m 162/192 [========================>.....] - ETA: 0s - loss: 0.5154 - accuracy: 0.7184\n",
      "\u001b[2m\u001b[36m(launch_and_fit pid=38200)\u001b[0m 192/192 [==============================] - 0s 2ms/step - loss: 0.5170 - accuracy: 0.7190\n",
      "\u001b[2m\u001b[36m(launch_and_fit pid=38200)\u001b[0m Epoch 8/10\n",
      "\u001b[2m\u001b[36m(launch_and_fit pid=38200)\u001b[0m \n",
      "\u001b[2m\u001b[36m(launch_and_fit pid=38200)\u001b[0m   1/192 [..............................] - ETA: 0s - loss: 0.5338 - accuracy: 0.7344\n",
      "\u001b[2m\u001b[36m(launch_and_fit pid=38200)\u001b[0m \n",
      "\u001b[2m\u001b[36m(launch_and_fit pid=38200)\u001b[0m  33/192 [====>.........................] - ETA: 0s - loss: 0.5348 - accuracy: 0.7022\n",
      "\u001b[2m\u001b[36m(launch_and_fit pid=38200)\u001b[0m  67/192 [=========>....................] - ETA: 0s - loss: 0.5122 - accuracy: 0.7241\n",
      "\u001b[2m\u001b[36m(launch_and_fit pid=38200)\u001b[0m 104/192 [===============>..............] - ETA: 0s - loss: 0.5168 - accuracy: 0.7186\n",
      "\u001b[2m\u001b[36m(launch_and_fit pid=38200)\u001b[0m \n",
      "\u001b[2m\u001b[36m(launch_and_fit pid=38200)\u001b[0m 138/192 [====================>.........] - ETA: 0s - loss: 0.5174 - accuracy: 0.7206\n",
      "\u001b[2m\u001b[36m(launch_and_fit pid=38200)\u001b[0m 173/192 [==========================>...] - ETA: 0s - loss: 0.5135 - accuracy: 0.7239\n",
      "\u001b[2m\u001b[36m(launch_and_fit pid=38200)\u001b[0m 192/192 [==============================] - 0s 1ms/step - loss: 0.5129 - accuracy: 0.7255\n",
      "\u001b[2m\u001b[36m(launch_and_fit pid=38200)\u001b[0m Epoch 9/10\n",
      "\u001b[2m\u001b[36m(launch_and_fit pid=38200)\u001b[0m \n",
      "\u001b[2m\u001b[36m(launch_and_fit pid=38200)\u001b[0m   1/192 [..............................] - ETA: 0s - loss: 0.5016 - accuracy: 0.6719\n",
      "\u001b[2m\u001b[36m(launch_and_fit pid=38200)\u001b[0m \n",
      "\u001b[2m\u001b[36m(launch_and_fit pid=38200)\u001b[0m  40/192 [=====>........................] - ETA: 0s - loss: 0.5296 - accuracy: 0.7172\n",
      "\u001b[2m\u001b[36m(launch_and_fit pid=38200)\u001b[0m  77/192 [===========>..................] - ETA: 0s - loss: 0.5130 - accuracy: 0.7297\n",
      "\u001b[2m\u001b[36m(launch_and_fit pid=38200)\u001b[0m 115/192 [================>.............] - ETA: 0s - loss: 0.5129 - accuracy: 0.7307\n",
      "\u001b[2m\u001b[36m(launch_and_fit pid=38200)\u001b[0m \n",
      "\u001b[2m\u001b[36m(launch_and_fit pid=38200)\u001b[0m 152/192 [======================>.......] - ETA: 0s - loss: 0.5119 - accuracy: 0.7300\n",
      "\u001b[2m\u001b[36m(launch_and_fit pid=38200)\u001b[0m 189/192 [============================>.] - ETA: 0s - loss: 0.5092 - accuracy: 0.7301\n",
      "\u001b[2m\u001b[36m(launch_and_fit pid=38200)\u001b[0m 192/192 [==============================] - 0s 1ms/step - loss: 0.5092 - accuracy: 0.7302\n",
      "\u001b[2m\u001b[36m(launch_and_fit pid=38200)\u001b[0m Epoch 10/10\n",
      "\u001b[2m\u001b[36m(launch_and_fit pid=38200)\u001b[0m \n",
      "\u001b[2m\u001b[36m(launch_and_fit pid=38200)\u001b[0m   1/192 [..............................] - ETA: 0s - loss: 0.5621 - accuracy: 0.7188\n",
      "\u001b[2m\u001b[36m(launch_and_fit pid=38200)\u001b[0m  33/192 [====>.........................] - ETA: 0s - loss: 0.5144 - accuracy: 0.7306\n",
      "\u001b[2m\u001b[36m(launch_and_fit pid=38200)\u001b[0m \n",
      "\u001b[2m\u001b[36m(launch_and_fit pid=38200)\u001b[0m  68/192 [=========>....................] - ETA: 0s - loss: 0.5198 - accuracy: 0.7305\n",
      "\u001b[2m\u001b[36m(launch_and_fit pid=38200)\u001b[0m 107/192 [===============>..............] - ETA: 0s - loss: 0.5170 - accuracy: 0.7298\n",
      "\u001b[2m\u001b[36m(launch_and_fit pid=38200)\u001b[0m \n",
      "\u001b[2m\u001b[36m(launch_and_fit pid=38200)\u001b[0m 143/192 [=====================>........] - ETA: 0s - loss: 0.5103 - accuracy: 0.7330\n",
      "\u001b[2m\u001b[36m(launch_and_fit pid=38200)\u001b[0m \n",
      "\u001b[2m\u001b[36m(launch_and_fit pid=38200)\u001b[0m 178/192 [==========================>...] - ETA: 0s - loss: 0.5053 - accuracy: 0.7342\n",
      "\u001b[2m\u001b[36m(launch_and_fit pid=38200)\u001b[0m 192/192 [==============================] - 0s 1ms/step - loss: 0.5047 - accuracy: 0.7341\n",
      "\u001b[2m\u001b[36m(launch_and_fit pid=38200)\u001b[0m Client  4 Training complete...\n",
      "\u001b[2m\u001b[36m(launch_and_fit pid=45812)\u001b[0m Client ID: 9\n",
      "\u001b[2m\u001b[36m(launch_and_fit pid=25464)\u001b[0m Client  5 Training...\n",
      "\u001b[2m\u001b[36m(launch_and_fit pid=45812)\u001b[0m Epoch 1/10\n",
      "\u001b[2m\u001b[36m(launch_and_fit pid=25464)\u001b[0m \n",
      "\u001b[2m\u001b[36m(launch_and_fit pid=25464)\u001b[0m   1/192 [..............................] - ETA: 2:49 - loss: 2.7550 - accuracy: 0.0312\n",
      "\u001b[2m\u001b[36m(launch_and_fit pid=25464)\u001b[0m  32/192 [====>.........................] - ETA: 0s - loss: 2.4064 - accuracy: 0.2773  \n",
      "\u001b[2m\u001b[36m(launch_and_fit pid=12836)\u001b[0m  64/192 [=========>....................] - ETA: 0s - loss: 2.0832 - accuracy: 0.3867\n",
      "\u001b[2m\u001b[36m(launch_and_fit pid=45812)\u001b[0m  89/192 [============>.................] - ETA: 0s - loss: 1.9344 - accuracy: 0.4458\n",
      "\u001b[2m\u001b[36m(launch_and_fit pid=12032)\u001b[0m  53/192 [=======>......................] - ETA: 0s - loss: 2.1860 - accuracy: 0.3774\n",
      "\u001b[2m\u001b[36m(launch_and_fit pid=12836)\u001b[0m 120/192 [=================>............] - ETA: 0s - loss: 1.6976 - accuracy: 0.5005\n",
      "\u001b[2m\u001b[36m(launch_and_fit pid=45420)\u001b[0m  83/192 [===========>..................] - ETA: 0s - loss: 1.9657 - accuracy: 0.4192\n",
      "\u001b[2m\u001b[36m(launch_and_fit pid=25464)\u001b[0m 110/192 [================>.............] - ETA: 0s - loss: 1.7602 - accuracy: 0.4925\n",
      "\u001b[2m\u001b[36m(launch_and_fit pid=45812)\u001b[0m 145/192 [=====================>........] - ETA: 0s - loss: 1.5966 - accuracy: 0.5298\n",
      "\u001b[2m\u001b[36m(launch_and_fit pid=12836)\u001b[0m 181/192 [===========================>..] - ETA: 0s - loss: 1.4130 - accuracy: 0.5660\n",
      "\u001b[2m\u001b[36m(launch_and_fit pid=45812)\u001b[0m 178/192 [==========================>...] - ETA: 0s - loss: 1.4488 - accuracy: 0.5624\n",
      "\u001b[2m\u001b[36m(launch_and_fit pid=12836)\u001b[0m 192/192 [==============================] - 1s 2ms/step - loss: 1.3748 - accuracy: 0.5731\n",
      "\u001b[2m\u001b[36m(launch_and_fit pid=25464)\u001b[0m 168/192 [=========================>....] - ETA: 0s - loss: 1.4724 - accuracy: 0.5541\n",
      "\u001b[2m\u001b[36m(launch_and_fit pid=25584)\u001b[0m 186/192 [============================>.] - ETA: 0s - loss: 1.3874 - accuracy: 0.5628\n",
      "\u001b[2m\u001b[36m(launch_and_fit pid=47648)\u001b[0m 164/192 [========================>.....] - ETA: 0s - loss: 1.4924 - accuracy: 0.5474\n",
      "\u001b[2m\u001b[36m(launch_and_fit pid=12836)\u001b[0m  65/192 [=========>....................] - ETA: 0s - loss: 0.6467 - accuracy: 0.7043\n",
      "\u001b[2m\u001b[36m(launch_and_fit pid=12836)\u001b[0m  96/192 [==============>...............] - ETA: 0s - loss: 0.6353 - accuracy: 0.7052\n",
      "\u001b[2m\u001b[36m(launch_and_fit pid=12836)\u001b[0m 130/192 [===================>..........] - ETA: 0s - loss: 0.6228 - accuracy: 0.7083\n",
      "\u001b[2m\u001b[36m(launch_and_fit pid=12032)\u001b[0m  31/192 [===>..........................] - ETA: 0s - loss: 0.6670 - accuracy: 0.7102\u001b[32m [repeated 10x across cluster]\u001b[0m\n",
      "\u001b[2m\u001b[36m(launch_and_fit pid=47648)\u001b[0m  61/192 [========>.....................] - ETA: 0s - loss: 0.6572 - accuracy: 0.7080\u001b[32m [repeated 7x across cluster]\u001b[0m\n",
      "\u001b[2m\u001b[36m(launch_and_fit pid=45420)\u001b[0m  91/192 [=============>................] - ETA: 0s - loss: 0.6435 - accuracy: 0.7074\u001b[32m [repeated 3x across cluster]\u001b[0m\n",
      "\u001b[2m\u001b[36m(launch_and_fit pid=12032)\u001b[0m 127/192 [==================>...........] - ETA: 0s - loss: 0.6342 - accuracy: 0.7023\n",
      "\u001b[2m\u001b[36m(launch_and_fit pid=12032)\u001b[0m 158/192 [=======================>......] - ETA: 0s - loss: 0.6247 - accuracy: 0.7024\n",
      "\u001b[2m\u001b[36m(launch_and_fit pid=33324)\u001b[0m 192/192 [==============================] - ETA: 0s - loss: 0.6068 - accuracy: 0.7027\n",
      "\u001b[2m\u001b[36m(launch_and_fit pid=25584)\u001b[0m 137/192 [====================>.........] - ETA: 0s - loss: 0.5604 - accuracy: 0.7181\u001b[32m [repeated 4x across cluster]\u001b[0m\n",
      "\u001b[2m\u001b[36m(launch_and_fit pid=33324)\u001b[0m  71/192 [==========>...................] - ETA: 0s - loss: 0.5364 - accuracy: 0.7207\n",
      "\u001b[2m\u001b[36m(launch_and_fit pid=57868)\u001b[0m 104/192 [===============>..............] - ETA: 0s - loss: 0.5442 - accuracy: 0.7221\n",
      "\u001b[2m\u001b[36m(launch_and_fit pid=47648)\u001b[0m 151/192 [======================>.......] - ETA: 0s - loss: 0.5691 - accuracy: 0.7151\u001b[32m [repeated 7x across cluster]\u001b[0m\n",
      "\u001b[2m\u001b[36m(launch_and_fit pid=25584)\u001b[0m  39/192 [=====>........................] - ETA: 0s - loss: 0.5351 - accuracy: 0.7147\n"
     ]
    },
    {
     "name": "stderr",
     "output_type": "stream",
     "text": [
      "DEBUG flwr 2023-07-06 18:48:47,243 | server.py:232 | fit_round 1 received 10 results and 0 failures\n",
      "DEBUG:flwr:fit_round 1 received 10 results and 0 failures\n",
      "WARNING flwr 2023-07-06 18:48:47,256 | fedavg.py:243 | No fit_metrics_aggregation_fn provided\n",
      "WARNING:flwr:No fit_metrics_aggregation_fn provided\n"
     ]
    },
    {
     "name": "stdout",
     "output_type": "stream",
     "text": [
      "\u001b[2m\u001b[36m(launch_and_fit pid=45812)\u001b[0m Client  9 Training complete...\n",
      "Server Evaluating... 1\n",
      "958/958 [==============================] - 1s 838us/step - loss: 0.5144 - accuracy: 0.7136\n",
      "958/958 [==============================] - 1s 762us/step\n"
     ]
    },
    {
     "name": "stderr",
     "output_type": "stream",
     "text": [
      "INFO flwr 2023-07-06 18:48:49,129 | server.py:119 | fit progress: (1, 0.5143721699714661, {'accuracy': 0.7136237621307373}, 12.215748999995412)\n",
      "INFO:flwr:fit progress: (1, 0.5143721699714661, {'accuracy': 0.7136237621307373}, 12.215748999995412)\n",
      "DEBUG flwr 2023-07-06 18:48:49,131 | server.py:168 | evaluate_round 1: strategy sampled 5 clients (out of 10)\n",
      "DEBUG:flwr:evaluate_round 1: strategy sampled 5 clients (out of 10)\n"
     ]
    },
    {
     "name": "stdout",
     "output_type": "stream",
     "text": [
      "Prediction:  [[2.37008397e-04 8.17529951e-07 5.98072631e-07 ... 2.71150857e-01\n",
      "  1.64062134e-04 2.48670636e-04]\n",
      " [9.99745548e-01 7.42218589e-08 9.30002776e-12 ... 1.82795891e-04\n",
      "  2.21804033e-08 1.18161855e-10]\n",
      " [9.99505401e-01 8.89573785e-05 4.00863398e-10 ... 1.48307263e-05\n",
      "  2.92257454e-08 1.49637802e-10]\n",
      " ...\n",
      " [9.99186218e-01 1.01011794e-08 2.22883127e-12 ... 9.26649591e-06\n",
      "  1.77889459e-09 8.65790526e-14]\n",
      " [9.77364325e-05 5.34626365e-01 4.96140456e-05 ... 3.88226408e-06\n",
      "  8.34279635e-05 8.73734971e-05]\n",
      " [1.55597038e-04 1.54504949e-06 3.62068181e-06 ... 2.76734650e-01\n",
      "  4.01715428e-04 3.57555575e-04]] (30645, 15)\n",
      "Server Evaluating complete... 0.7136237621307373 0.5143721699714661\n",
      "\u001b[2m\u001b[36m(launch_and_evaluate pid=25464)\u001b[0m Client  3 Evaluating...\n",
      "\u001b[2m\u001b[36m(launch_and_evaluate pid=25464)\u001b[0m Client ID: 3\u001b[32m [repeated 9x across cluster]\u001b[0m\n",
      "\u001b[2m\u001b[36m(launch_and_fit pid=47648)\u001b[0m Client  6 Training...\u001b[32m [repeated 8x across cluster]\u001b[0m\n",
      "\u001b[2m\u001b[36m(launch_and_fit pid=47648)\u001b[0m Epoch 10/10\u001b[32m [repeated 89x across cluster]\u001b[0m\n",
      "\u001b[2m\u001b[36m(launch_and_fit pid=47648)\u001b[0m \u001b[32m [repeated 557x across cluster]\u001b[0m\n",
      "\u001b[2m\u001b[36m(launch_and_fit pid=47648)\u001b[0m   1/192 [..............................] - ETA: 0s - loss: 0.4731 - accuracy: 0.8125\u001b[32m [repeated 89x across cluster]\u001b[0m\n",
      "\u001b[2m\u001b[36m(launch_and_fit pid=47648)\u001b[0m  36/192 [====>.........................] - ETA: 0s - loss: 0.5131 - accuracy: 0.7253\u001b[32m [repeated 74x across cluster]\u001b[0m\n",
      "\u001b[2m\u001b[36m(launch_and_fit pid=47648)\u001b[0m  69/192 [=========>....................] - ETA: 0s - loss: 0.5209 - accuracy: 0.7267\u001b[32m [repeated 46x across cluster]\u001b[0m\n",
      "\u001b[2m\u001b[36m(launch_and_fit pid=47648)\u001b[0m  87/192 [============>.................] - ETA: 0s - loss: 0.5741 - accuracy: 0.7114\u001b[32m [repeated 5x across cluster]\u001b[0m\n",
      "\u001b[2m\u001b[36m(launch_and_fit pid=47648)\u001b[0m  54/192 [=======>......................] - ETA: 0s - loss: 0.5830 - accuracy: 0.7046\u001b[32m [repeated 4x across cluster]\u001b[0m\n",
      "\u001b[2m\u001b[36m(launch_and_fit pid=25584)\u001b[0m 116/192 [=================>............] - ETA: 0s - loss: 0.5478 - accuracy: 0.7091\u001b[32m [repeated 8x across cluster]\u001b[0m\n",
      "\u001b[2m\u001b[36m(launch_and_fit pid=25584)\u001b[0m  80/192 [===========>..................] - ETA: 0s - loss: 0.5467 - accuracy: 0.7121\u001b[32m [repeated 5x across cluster]\u001b[0m\n"
     ]
    },
    {
     "name": "stderr",
     "output_type": "stream",
     "text": [
      "DEBUG flwr 2023-07-06 18:48:49,711 | server.py:182 | evaluate_round 1 received 5 results and 0 failures\n",
      "DEBUG:flwr:evaluate_round 1 received 5 results and 0 failures\n",
      "WARNING flwr 2023-07-06 18:48:49,713 | fedavg.py:274 | No evaluate_metrics_aggregation_fn provided\n",
      "WARNING:flwr:No evaluate_metrics_aggregation_fn provided\n",
      "DEBUG flwr 2023-07-06 18:48:49,715 | server.py:218 | fit_round 2: strategy sampled 10 clients (out of 10)\n",
      "DEBUG:flwr:fit_round 2: strategy sampled 10 clients (out of 10)\n"
     ]
    },
    {
     "name": "stdout",
     "output_type": "stream",
     "text": [
      "\u001b[2m\u001b[36m(launch_and_fit pid=47648)\u001b[0m 112/192 [================>.............] - ETA: 0s - loss: 0.5156 - accuracy: 0.7267\u001b[32m [repeated 15x across cluster]\u001b[0m\n",
      "\u001b[2m\u001b[36m(launch_and_fit pid=45420)\u001b[0m 145/192 [=====================>........] - ETA: 0s - loss: 0.5105 - accuracy: 0.7381\u001b[32m [repeated 21x across cluster]\u001b[0m\n",
      "\u001b[2m\u001b[36m(launch_and_fit pid=12032)\u001b[0m 184/192 [===========================>..] - ETA: 0s - loss: 0.5146 - accuracy: 0.7277\u001b[32m [repeated 11x across cluster]\u001b[0m\n",
      "\u001b[2m\u001b[36m(launch_and_fit pid=47648)\u001b[0m 177/192 [==========================>...] - ETA: 0s - loss: 0.5204 - accuracy: 0.7253\u001b[32m [repeated 18x across cluster]\u001b[0m\n",
      "\u001b[2m\u001b[36m(launch_and_fit pid=47648)\u001b[0m 192/192 [==============================] - 0s 1ms/step - loss: 0.5169 - accuracy: 0.7276\u001b[32m [repeated 89x across cluster]\u001b[0m\n",
      "\u001b[2m\u001b[36m(launch_and_fit pid=12836)\u001b[0m 172/192 [=========================>....] - ETA: 0s - loss: 0.5152 - accuracy: 0.7303\u001b[32m [repeated 20x across cluster]\u001b[0m\n",
      "\u001b[2m\u001b[36m(launch_and_fit pid=45420)\u001b[0m 186/192 [============================>.] - ETA: 0s - loss: 0.5111 - accuracy: 0.7361\u001b[32m [repeated 17x across cluster]\u001b[0m\n",
      "\u001b[2m\u001b[36m(launch_and_fit pid=33324)\u001b[0m 165/192 [========================>.....] - ETA: 0s - loss: 0.5268 - accuracy: 0.7272\u001b[32m [repeated 18x across cluster]\u001b[0m\n",
      "\u001b[2m\u001b[36m(launch_and_evaluate pid=25464)\u001b[0m 101/192 [==============>...............] - ETA: 0s - loss: 0.5285 - accuracy: 0.7050\u001b[32m [repeated 32x across cluster]\u001b[0m\n",
      "\u001b[2m\u001b[36m(launch_and_fit pid=47648)\u001b[0m 133/192 [===================>..........] - ETA: 0s - loss: 0.5311 - accuracy: 0.7211\u001b[32m [repeated 21x across cluster]\u001b[0m\n",
      "\u001b[2m\u001b[36m(launch_and_evaluate pid=33324)\u001b[0m Client  1 Evaluating complete... 0.71430903673172 0.5252260565757751\n",
      "\u001b[2m\u001b[36m(launch_and_fit pid=33324)\u001b[0m  31/192 [===>..........................] - ETA: 0s - loss: 0.5294 - accuracy: 0.7208\u001b[32m [repeated 4x across cluster]\u001b[0m\n",
      "\u001b[2m\u001b[36m(launch_and_fit pid=12032)\u001b[0m  60/192 [========>.....................] - ETA: 0s - loss: 0.5409 - accuracy: 0.7214\u001b[32m [repeated 6x across cluster]\u001b[0m\n",
      "\u001b[2m\u001b[36m(launch_and_fit pid=12032)\u001b[0m  92/192 [=============>................] - ETA: 0s - loss: 0.5350 - accuracy: 0.7206\u001b[32m [repeated 7x across cluster]\u001b[0m\n",
      "\u001b[2m\u001b[36m(launch_and_fit pid=47648)\u001b[0m 126/192 [==================>...........] - ETA: 0s - loss: 0.5344 - accuracy: 0.7201\u001b[32m [repeated 9x across cluster]\u001b[0m\n",
      "\u001b[2m\u001b[36m(launch_and_evaluate pid=45420)\u001b[0m 154/192 [=======================>......] - ETA: 0s - loss: 0.5160 - accuracy: 0.7111\u001b[32m [repeated 14x across cluster]\u001b[0m\n",
      "\u001b[2m\u001b[36m(launch_and_fit pid=45812)\u001b[0m Client  6 Training...\n",
      "\u001b[2m\u001b[36m(launch_and_fit pid=47648)\u001b[0m 139/192 [====================>.........] - ETA: 0s - loss: 0.5235 - accuracy: 0.7258\u001b[32m [repeated 21x across cluster]\u001b[0m\n",
      "\u001b[2m\u001b[36m(launch_and_fit pid=47648)\u001b[0m  73/192 [==========>...................] - ETA: 0s - loss: 0.5162 - accuracy: 0.7213\u001b[32m [repeated 22x across cluster]\u001b[0m\n",
      "\u001b[2m\u001b[36m(launch_and_evaluate pid=45420)\u001b[0m 103/192 [===============>..............] - ETA: 0s - loss: 0.5164 - accuracy: 0.7151\u001b[32m [repeated 27x across cluster]\u001b[0m\n",
      "\u001b[2m\u001b[36m(launch_and_evaluate pid=12032)\u001b[0m 153/192 [======================>.......] - ETA: 0s - loss: 0.5148 - accuracy: 0.7210\u001b[32m [repeated 6x across cluster]\u001b[0m\n",
      "\u001b[2m\u001b[36m(launch_and_fit pid=57868)\u001b[0m  39/192 [=====>........................] - ETA: 0s - loss: 0.5149 - accuracy: 0.7320  \n",
      "\u001b[2m\u001b[36m(launch_and_fit pid=45812)\u001b[0m 192/192 [==============================] - ETA: 0s - loss: 0.5223 - accuracy: 0.7235\n",
      "\u001b[2m\u001b[36m(launch_and_fit pid=47648)\u001b[0m Client  6 Training complete...\u001b[32m [repeated 8x across cluster]\u001b[0m\n"
     ]
    },
    {
     "name": "stderr",
     "output_type": "stream",
     "text": [
      "DEBUG flwr 2023-07-06 18:48:53,740 | server.py:232 | fit_round 2 received 10 results and 0 failures\n",
      "DEBUG:flwr:fit_round 2 received 10 results and 0 failures\n"
     ]
    },
    {
     "name": "stdout",
     "output_type": "stream",
     "text": [
      "Server Evaluating... 2\n",
      "958/958 [==============================] - 1s 817us/step - loss: 0.4589 - accuracy: 0.7856\n",
      "958/958 [==============================] - 1s 701us/step\n"
     ]
    },
    {
     "name": "stderr",
     "output_type": "stream",
     "text": [
      "INFO flwr 2023-07-06 18:48:55,543 | server.py:119 | fit progress: (2, 0.4589138627052307, {'accuracy': 0.7856420278549194}, 18.62940130000061)\n",
      "INFO:flwr:fit progress: (2, 0.4589138627052307, {'accuracy': 0.7856420278549194}, 18.62940130000061)\n",
      "DEBUG flwr 2023-07-06 18:48:55,545 | server.py:168 | evaluate_round 2: strategy sampled 5 clients (out of 10)\n",
      "DEBUG:flwr:evaluate_round 2: strategy sampled 5 clients (out of 10)\n"
     ]
    },
    {
     "name": "stdout",
     "output_type": "stream",
     "text": [
      "Prediction:  [[3.59696642e-05 7.30493127e-07 1.30583828e-07 ... 2.07102031e-01\n",
      "  3.15504440e-05 4.68278231e-05]\n",
      " [9.99991894e-01 9.46382070e-11 2.45787865e-16 ... 7.70104725e-06\n",
      "  1.54899653e-13 3.12061470e-16]\n",
      " [9.99996424e-01 1.13541148e-06 1.95496695e-13 ... 1.00802868e-06\n",
      "  7.94547848e-12 1.23522179e-15]\n",
      " ...\n",
      " [9.99996781e-01 5.51959043e-12 1.90807489e-17 ... 3.00088701e-08\n",
      "  8.36597417e-15 1.24103254e-21]\n",
      " [1.66443260e-05 2.73519516e-01 2.32177376e-06 ... 1.64512528e-06\n",
      "  3.15774596e-05 3.86869488e-06]\n",
      " [1.66287718e-05 1.09559983e-06 8.62253785e-07 ... 2.27315918e-01\n",
      "  1.17760734e-04 4.98327972e-05]] (30645, 15)\n",
      "Server Evaluating complete... 0.7856420278549194 0.4589138627052307\n",
      "\u001b[2m\u001b[36m(launch_and_evaluate pid=38200)\u001b[0m Client  2 Evaluating...\u001b[32m [repeated 5x across cluster]\u001b[0m\n",
      "\u001b[2m\u001b[36m(launch_and_evaluate pid=38200)\u001b[0m Client ID: 2\u001b[32m [repeated 15x across cluster]\u001b[0m\n",
      "\u001b[2m\u001b[36m(launch_and_fit pid=45812)\u001b[0m Client  8 Training...\u001b[32m [repeated 10x across cluster]\u001b[0m\n",
      "\u001b[2m\u001b[36m(launch_and_fit pid=25464)\u001b[0m Epoch 10/10\u001b[32m [repeated 100x across cluster]\u001b[0m\n",
      "\u001b[2m\u001b[36m(launch_and_fit pid=45812)\u001b[0m \u001b[32m [repeated 724x across cluster]\u001b[0m\n",
      "\u001b[2m\u001b[36m(launch_and_fit pid=25464)\u001b[0m   1/192 [..............................] - ETA: 0s - loss: 0.4442 - accuracy: 0.7656\u001b[32m [repeated 105x across cluster]\u001b[0m\n",
      "\u001b[2m\u001b[36m(launch_and_fit pid=25464)\u001b[0m  34/192 [====>.........................] - ETA: 0s - loss: 0.4722 - accuracy: 0.7711\u001b[32m [repeated 86x across cluster]\u001b[0m\n",
      "\u001b[2m\u001b[36m(launch_and_fit pid=25464)\u001b[0m  69/192 [=========>....................] - ETA: 0s - loss: 0.4661 - accuracy: 0.7756\u001b[32m [repeated 75x across cluster]\u001b[0m\n",
      "\u001b[2m\u001b[36m(launch_and_fit pid=45812)\u001b[0m  89/192 [============>.................] - ETA: 0s - loss: 0.4686 - accuracy: 0.7695\u001b[32m [repeated 5x across cluster]\u001b[0m\n",
      "\u001b[2m\u001b[36m(launch_and_fit pid=45812)\u001b[0m  57/192 [=======>......................] - ETA: 0s - loss: 0.4669 - accuracy: 0.7711\u001b[32m [repeated 6x across cluster]\u001b[0m\n",
      "\u001b[2m\u001b[36m(launch_and_fit pid=25464)\u001b[0m 118/192 [=================>............] - ETA: 0s - loss: 0.5057 - accuracy: 0.7398\u001b[32m [repeated 5x across cluster]\u001b[0m\n",
      "\u001b[2m\u001b[36m(launch_and_fit pid=25584)\u001b[0m 111/192 [================>.............] - ETA: 0s - loss: 0.4705 - accuracy: 0.7669\u001b[32m [repeated 2x across cluster]\u001b[0m\n",
      "\u001b[2m\u001b[36m(launch_and_fit pid=25464)\u001b[0m 147/192 [=====================>........] - ETA: 0s - loss: 0.4614 - accuracy: 0.7811\u001b[32m [repeated 5x across cluster]\u001b[0m\n",
      "\u001b[2m\u001b[36m(launch_and_fit pid=25584)\u001b[0m 180/192 [===========================>..] - ETA: 0s - loss: 0.4597 - accuracy: 0.7796\u001b[32m [repeated 10x across cluster]\u001b[0m\n",
      "\u001b[2m\u001b[36m(launch_and_fit pid=25584)\u001b[0m 174/192 [==========================>...] - ETA: 0s - loss: 0.4809 - accuracy: 0.7608\u001b[32m [repeated 5x across cluster]\u001b[0m\n",
      "\u001b[2m\u001b[36m(launch_and_fit pid=45812)\u001b[0m 192/192 [==============================] - 0s 2ms/step - loss: 0.4729 - accuracy: 0.7740\u001b[32m [repeated 105x across cluster]\u001b[0m\n",
      "\u001b[2m\u001b[36m(launch_and_fit pid=12836)\u001b[0m 170/192 [=========================>....] - ETA: 0s - loss: 0.4628 - accuracy: 0.7768\u001b[32m [repeated 17x across cluster]\u001b[0m\n",
      "\u001b[2m\u001b[36m(launch_and_fit pid=25464)\u001b[0m 191/192 [============================>.] - ETA: 0s - loss: 0.4696 - accuracy: 0.7747\u001b[32m [repeated 18x across cluster]\u001b[0m\n",
      "\u001b[2m\u001b[36m(launch_and_fit pid=38200)\u001b[0m 162/192 [========================>.....] - ETA: 0s - loss: 0.4682 - accuracy: 0.7779\u001b[32m [repeated 45x across cluster]\u001b[0m\n",
      "\u001b[2m\u001b[36m(launch_and_fit pid=33324)\u001b[0m  97/192 [==============>...............] - ETA: 0s - loss: 0.4585 - accuracy: 0.7755\u001b[32m [repeated 66x across cluster]\u001b[0m\n",
      "\u001b[2m\u001b[36m(launch_and_fit pid=12836)\u001b[0m 131/192 [===================>..........] - ETA: 0s - loss: 0.4639 - accuracy: 0.7754\u001b[32m [repeated 56x across cluster]\u001b[0m\n",
      "\u001b[2m\u001b[36m(launch_and_evaluate pid=45420)\u001b[0m Client  0 Evaluating complete... 0.713330090045929 0.5137978792190552\u001b[32m [repeated 4x across cluster]\u001b[0m\n",
      "\u001b[2m\u001b[36m(launch_and_fit pid=45812)\u001b[0m  26/192 [===>..........................] - ETA: 0s - loss: 0.4796 - accuracy: 0.7608\u001b[32m [repeated 11x across cluster]\u001b[0m\n",
      "\u001b[2m\u001b[36m(launch_and_fit pid=12836)\u001b[0m  60/192 [========>.....................] - ETA: 0s - loss: 0.4671 - accuracy: 0.7703\u001b[32m [repeated 18x across cluster]\u001b[0m\n",
      "\u001b[2m\u001b[36m(launch_and_fit pid=12836)\u001b[0m  93/192 [=============>................] - ETA: 0s - loss: 0.4593 - accuracy: 0.7765\u001b[32m [repeated 19x across cluster]\u001b[0m\n",
      "\u001b[2m\u001b[36m(launch_and_fit pid=45812)\u001b[0m 123/192 [==================>...........] - ETA: 0s - loss: 0.4693 - accuracy: 0.7734\u001b[32m [repeated 25x across cluster]\u001b[0m\n",
      "\u001b[2m\u001b[36m(launch_and_fit pid=45812)\u001b[0m 159/192 [=======================>......] - ETA: 0s - loss: 0.4687 - accuracy: 0.7737\u001b[32m [repeated 23x across cluster]\u001b[0m\n",
      "\u001b[2m\u001b[36m(launch_and_fit pid=25584)\u001b[0m 137/192 [====================>.........] - ETA: 0s - loss: 0.4710 - accuracy: 0.7733\u001b[32m [repeated 10x across cluster]\u001b[0m\n",
      "\u001b[2m\u001b[36m(launch_and_fit pid=25584)\u001b[0m  71/192 [==========>...................] - ETA: 0s - loss: 0.4627 - accuracy: 0.7797\u001b[32m [repeated 6x across cluster]\u001b[0m\n",
      "\u001b[2m\u001b[36m(launch_and_fit pid=25464)\u001b[0m 106/192 [===============>..............] - ETA: 0s - loss: 0.4653 - accuracy: 0.7787\u001b[32m [repeated 11x across cluster]\u001b[0m\n",
      "\u001b[2m\u001b[36m(launch_and_fit pid=25464)\u001b[0m 150/192 [======================>.......] - ETA: 0s - loss: 0.5032 - accuracy: 0.7423\u001b[32m [repeated 9x across cluster]\u001b[0m\n",
      "\u001b[2m\u001b[36m(launch_and_fit pid=25584)\u001b[0m  39/192 [=====>........................] - ETA: 0s - loss: 0.4567 - accuracy: 0.7780\u001b[32m [repeated 2x across cluster]\u001b[0m\n"
     ]
    },
    {
     "name": "stderr",
     "output_type": "stream",
     "text": [
      "DEBUG flwr 2023-07-06 18:48:56,103 | server.py:182 | evaluate_round 2 received 5 results and 0 failures\n"
     ]
    },
    {
     "name": "stdout",
     "output_type": "stream",
     "text": [
      "\u001b[2m\u001b[36m(launch_and_evaluate pid=25464)\u001b[0m  48/192 [======>.......................] - ETA: 0s - loss: 0.4659 - accuracy: 0.7783 \n"
     ]
    },
    {
     "name": "stderr",
     "output_type": "stream",
     "text": [
      "DEBUG:flwr:evaluate_round 2 received 5 results and 0 failures\n",
      "DEBUG flwr 2023-07-06 18:48:56,104 | server.py:218 | fit_round 3: strategy sampled 10 clients (out of 10)\n",
      "DEBUG:flwr:fit_round 3: strategy sampled 10 clients (out of 10)\n"
     ]
    },
    {
     "name": "stdout",
     "output_type": "stream",
     "text": [
      "\u001b[2m\u001b[36m(launch_and_fit pid=45420)\u001b[0m 192/192 [==============================] - ETA: 0s - loss: 0.4629 - accuracy: 0.7724\u001b[32m [repeated 6x across cluster]\u001b[0m\n",
      "\u001b[2m\u001b[36m(launch_and_fit pid=45812)\u001b[0m Client  8 Training complete...\u001b[32m [repeated 10x across cluster]\u001b[0m\n",
      "\u001b[2m\u001b[36m(launch_and_fit pid=45812)\u001b[0m  81/192 [===========>..................] - ETA: 0s - loss: 0.4591 - accuracy: 0.7758\n"
     ]
    },
    {
     "name": "stderr",
     "output_type": "stream",
     "text": [
      "DEBUG flwr 2023-07-06 18:49:00,423 | server.py:232 | fit_round 3 received 10 results and 0 failures\n",
      "DEBUG:flwr:fit_round 3 received 10 results and 0 failures\n"
     ]
    },
    {
     "name": "stdout",
     "output_type": "stream",
     "text": [
      "Server Evaluating... 3\n",
      "958/958 [==============================] - 1s 818us/step - loss: 0.4038 - accuracy: 0.8178\n",
      "958/958 [==============================] - 1s 731us/step\n"
     ]
    },
    {
     "name": "stderr",
     "output_type": "stream",
     "text": [
      "INFO flwr 2023-07-06 18:49:02,260 | server.py:119 | fit progress: (3, 0.40377622842788696, {'accuracy': 0.8178169131278992}, 25.3465967000011)\n",
      "INFO:flwr:fit progress: (3, 0.40377622842788696, {'accuracy': 0.8178169131278992}, 25.3465967000011)\n",
      "DEBUG flwr 2023-07-06 18:49:02,261 | server.py:168 | evaluate_round 3: strategy sampled 5 clients (out of 10)\n",
      "DEBUG:flwr:evaluate_round 3: strategy sampled 5 clients (out of 10)\n"
     ]
    },
    {
     "name": "stdout",
     "output_type": "stream",
     "text": [
      "Prediction:  [[4.8749216e-06 5.6432714e-07 4.7269005e-08 ... 2.4642475e-01\n",
      "  8.0043492e-06 7.8934991e-06]\n",
      " [9.9999976e-01 1.6259408e-17 9.7542080e-29 ... 1.8386345e-07\n",
      "  4.3552959e-24 2.9161274e-27]\n",
      " [9.9999559e-01 1.8017170e-07 2.6112726e-16 ... 4.0311465e-06\n",
      "  5.1660526e-14 1.3083941e-18]\n",
      " ...\n",
      " [1.0000000e+00 1.0653500e-18 5.5320123e-31 ... 7.3803767e-12\n",
      "  5.0306116e-26 1.4417441e-35]\n",
      " [3.3387478e-06 6.6890270e-02 4.8290264e-08 ... 7.3405886e-07\n",
      "  2.7412584e-06 1.2400341e-07]\n",
      " [1.4540400e-06 4.7717236e-07 1.7114185e-07 ... 2.6658282e-01\n",
      "  2.8729039e-05 5.8490000e-06]] (30645, 15)\n",
      "Server Evaluating complete... 0.8178169131278992 0.40377622842788696\n",
      "\u001b[2m\u001b[36m(launch_and_evaluate pid=25464)\u001b[0m Client  8 Evaluating...\u001b[32m [repeated 5x across cluster]\u001b[0m\n",
      "\u001b[2m\u001b[36m(launch_and_evaluate pid=25464)\u001b[0m Client ID: 8\u001b[32m [repeated 15x across cluster]\u001b[0m\n",
      "\u001b[2m\u001b[36m(launch_and_fit pid=45420)\u001b[0m Client  2 Training...\u001b[32m [repeated 10x across cluster]\u001b[0m\n",
      "\u001b[2m\u001b[36m(launch_and_fit pid=57868)\u001b[0m Epoch 10/10\u001b[32m [repeated 100x across cluster]\u001b[0m\n",
      "\u001b[2m\u001b[36m(launch_and_fit pid=57868)\u001b[0m \u001b[32m [repeated 721x across cluster]\u001b[0m\n",
      "\u001b[2m\u001b[36m(launch_and_fit pid=57868)\u001b[0m   1/192 [..............................] - ETA: 0s - loss: 0.3018 - accuracy: 0.8594\u001b[32m [repeated 105x across cluster]\u001b[0m\n",
      "\u001b[2m\u001b[36m(launch_and_fit pid=57868)\u001b[0m  35/192 [====>.........................] - ETA: 0s - loss: 0.4027 - accuracy: 0.8125\u001b[32m [repeated 84x across cluster]\u001b[0m\n",
      "\u001b[2m\u001b[36m(launch_and_fit pid=57868)\u001b[0m  69/192 [=========>....................] - ETA: 0s - loss: 0.3962 - accuracy: 0.8182\u001b[32m [repeated 72x across cluster]\u001b[0m\n",
      "\u001b[2m\u001b[36m(launch_and_fit pid=33324)\u001b[0m  89/192 [============>.................] - ETA: 0s - loss: 0.4698 - accuracy: 0.7755\u001b[32m [repeated 3x across cluster]\u001b[0m\n",
      "\u001b[2m\u001b[36m(launch_and_fit pid=33324)\u001b[0m 120/192 [=================>............] - ETA: 0s - loss: 0.4549 - accuracy: 0.7867\u001b[32m [repeated 5x across cluster]\u001b[0m\n",
      "\u001b[2m\u001b[36m(launch_and_fit pid=25464)\u001b[0m 114/192 [================>.............] - ETA: 0s - loss: 0.4685 - accuracy: 0.7711\u001b[32m [repeated 4x across cluster]\u001b[0m\n",
      "\u001b[2m\u001b[36m(launch_and_fit pid=57868)\u001b[0m 145/192 [=====================>........] - ETA: 0s - loss: 0.4019 - accuracy: 0.8151\u001b[32m [repeated 9x across cluster]\u001b[0m\n",
      "\u001b[2m\u001b[36m(launch_and_fit pid=47648)\u001b[0m 181/192 [===========================>..] - ETA: 0s - loss: 0.4046 - accuracy: 0.8081\u001b[32m [repeated 15x across cluster]\u001b[0m\n",
      "\u001b[2m\u001b[36m(launch_and_fit pid=45420)\u001b[0m 178/192 [==========================>...] - ETA: 0s - loss: 0.4080 - accuracy: 0.8064\u001b[32m [repeated 15x across cluster]\u001b[0m\n",
      "\u001b[2m\u001b[36m(launch_and_fit pid=57868)\u001b[0m 192/192 [==============================] - 0s 1ms/step - loss: 0.4053 - accuracy: 0.8129\u001b[32m [repeated 105x across cluster]\u001b[0m\n",
      "\u001b[2m\u001b[36m(launch_and_fit pid=45812)\u001b[0m 172/192 [=========================>....] - ETA: 0s - loss: 0.4018 - accuracy: 0.8053\u001b[32m [repeated 32x across cluster]\u001b[0m\n",
      "\u001b[2m\u001b[36m(launch_and_fit pid=33324)\u001b[0m 190/192 [============================>.] - ETA: 0s - loss: 0.4378 - accuracy: 0.7981\u001b[32m [repeated 13x across cluster]\u001b[0m\n",
      "\u001b[2m\u001b[36m(launch_and_fit pid=33324)\u001b[0m 165/192 [========================>.....] - ETA: 0s - loss: 0.4089 - accuracy: 0.8091\u001b[32m [repeated 24x across cluster]\u001b[0m\n",
      "\u001b[2m\u001b[36m(launch_and_fit pid=45812)\u001b[0m  99/192 [==============>...............] - ETA: 0s - loss: 0.4062 - accuracy: 0.8043\u001b[32m [repeated 52x across cluster]\u001b[0m\n",
      "\u001b[2m\u001b[36m(launch_and_fit pid=33324)\u001b[0m 133/192 [===================>..........] - ETA: 0s - loss: 0.4123 - accuracy: 0.8050\u001b[32m [repeated 34x across cluster]\u001b[0m\n",
      "\u001b[2m\u001b[36m(launch_and_evaluate pid=45812)\u001b[0m Client  1 Evaluating complete... 0.7907488942146301 0.4618670642375946\u001b[32m [repeated 5x across cluster]\u001b[0m\n",
      "\u001b[2m\u001b[36m(launch_and_fit pid=33324)\u001b[0m  31/192 [===>..........................] - ETA: 0s - loss: 0.4421 - accuracy: 0.7969\u001b[32m [repeated 16x across cluster]\u001b[0m\n",
      "\u001b[2m\u001b[36m(launch_and_fit pid=33324)\u001b[0m  62/192 [========>.....................] - ETA: 0s - loss: 0.4317 - accuracy: 0.8022\u001b[32m [repeated 23x across cluster]\u001b[0m\n",
      "\u001b[2m\u001b[36m(launch_and_fit pid=33324)\u001b[0m  94/192 [=============>................] - ETA: 0s - loss: 0.4350 - accuracy: 0.7989\u001b[32m [repeated 23x across cluster]\u001b[0m\n",
      "\u001b[2m\u001b[36m(launch_and_fit pid=33324)\u001b[0m 126/192 [==================>...........] - ETA: 0s - loss: 0.4351 - accuracy: 0.7975\u001b[32m [repeated 19x across cluster]\u001b[0m\n",
      "\u001b[2m\u001b[36m(launch_and_fit pid=33324)\u001b[0m 158/192 [=======================>......] - ETA: 0s - loss: 0.4373 - accuracy: 0.7968\u001b[32m [repeated 20x across cluster]\u001b[0m\n",
      "\u001b[2m\u001b[36m(launch_and_fit pid=47648)\u001b[0m 140/192 [====================>.........] - ETA: 0s - loss: 0.4030 - accuracy: 0.8081\u001b[32m [repeated 33x across cluster]\u001b[0m\n",
      "\u001b[2m\u001b[36m(launch_and_fit pid=25584)\u001b[0m  71/192 [==========>...................] - ETA: 0s - loss: 0.4115 - accuracy: 0.8187\u001b[32m [repeated 4x across cluster]\u001b[0m\n",
      "\u001b[2m\u001b[36m(launch_and_fit pid=57868)\u001b[0m 107/192 [===============>..............] - ETA: 0s - loss: 0.3966 - accuracy: 0.8178\u001b[32m [repeated 24x across cluster]\u001b[0m\n",
      "\u001b[2m\u001b[36m(launch_and_fit pid=12032)\u001b[0m 153/192 [======================>.......] - ETA: 0s - loss: 0.4371 - accuracy: 0.7933\u001b[32m [repeated 12x across cluster]\u001b[0m\n",
      "\u001b[2m\u001b[36m(launch_and_fit pid=57868)\u001b[0m  50/192 [======>.......................] - ETA: 0s - loss: 0.4721 - accuracy: 0.7697\u001b[32m [repeated 5x across cluster]\u001b[0m\n",
      "\u001b[2m\u001b[36m(launch_and_fit pid=47648)\u001b[0m Client  8 Evaluating...\n",
      "\u001b[2m\u001b[36m(launch_and_fit pid=57868)\u001b[0m Client  1 Training complete...\u001b[32m [repeated 10x across cluster]\u001b[0m\n"
     ]
    },
    {
     "name": "stderr",
     "output_type": "stream",
     "text": [
      "DEBUG flwr 2023-07-06 18:49:02,783 | server.py:182 | evaluate_round 3 received 5 results and 0 failures\n",
      "DEBUG:flwr:evaluate_round 3 received 5 results and 0 failures\n",
      "DEBUG flwr 2023-07-06 18:49:02,785 | server.py:218 | fit_round 4: strategy sampled 10 clients (out of 10)\n",
      "DEBUG:flwr:fit_round 4: strategy sampled 10 clients (out of 10)\n"
     ]
    },
    {
     "name": "stdout",
     "output_type": "stream",
     "text": [
      "\u001b[2m\u001b[36m(launch_and_evaluate pid=25464)\u001b[0m  57/192 [=======>......................] - ETA: 0s - loss: 0.4257 - accuracy: 0.8081 \n",
      "\u001b[2m\u001b[36m(launch_and_fit pid=57868)\u001b[0m  77/192 [===========>..................] - ETA: 0s - loss: 0.4808 - accuracy: 0.7744\u001b[32m [repeated 2x across cluster]\u001b[0m\n",
      "\u001b[2m\u001b[36m(launch_and_fit pid=12032)\u001b[0m 192/192 [==============================] - ETA: 0s - loss: 0.3926 - accuracy: 0.8173\n"
     ]
    },
    {
     "name": "stderr",
     "output_type": "stream",
     "text": [
      "DEBUG flwr 2023-07-06 18:49:06,957 | server.py:232 | fit_round 4 received 10 results and 0 failures\n",
      "DEBUG:flwr:fit_round 4 received 10 results and 0 failures\n"
     ]
    },
    {
     "name": "stdout",
     "output_type": "stream",
     "text": [
      "\u001b[2m\u001b[36m(launch_and_fit pid=33324)\u001b[0m  39/192 [=====>........................] - ETA: 1s - loss: 0.3451 - accuracy: 0.8297\n",
      "Server Evaluating... 4\n",
      "958/958 [==============================] - 1s 826us/step - loss: 0.3764 - accuracy: 0.8198\n",
      "958/958 [==============================] - 1s 711us/step\n"
     ]
    },
    {
     "name": "stderr",
     "output_type": "stream",
     "text": [
      "INFO flwr 2023-07-06 18:49:08,774 | server.py:119 | fit progress: (4, 0.376365602016449, {'accuracy': 0.819840133190155}, 31.859952499995416)\n",
      "INFO:flwr:fit progress: (4, 0.376365602016449, {'accuracy': 0.819840133190155}, 31.859952499995416)\n",
      "DEBUG flwr 2023-07-06 18:49:08,776 | server.py:168 | evaluate_round 4: strategy sampled 5 clients (out of 10)\n",
      "DEBUG:flwr:evaluate_round 4: strategy sampled 5 clients (out of 10)\n"
     ]
    },
    {
     "name": "stdout",
     "output_type": "stream",
     "text": [
      "Prediction:  [[1.17285560e-06 2.45071419e-07 5.98621099e-08 ... 2.33238310e-01\n",
      "  3.72942509e-06 1.76880360e-06]\n",
      " [1.00000000e+00 1.24673029e-29 0.00000000e+00 ... 2.71097641e-11\n",
      "  0.00000000e+00 0.00000000e+00]\n",
      " [9.99985337e-01 6.57949002e-08 6.47957970e-17 ... 1.45333006e-05\n",
      "  5.47997156e-15 6.20361549e-20]\n",
      " ...\n",
      " [1.00000000e+00 2.02280737e-31 0.00000000e+00 ... 1.38606375e-18\n",
      "  0.00000000e+00 0.00000000e+00]\n",
      " [7.79319066e-07 1.78475585e-02 2.07199902e-09 ... 2.06375759e-07\n",
      "  1.17094636e-07 5.32171152e-09]\n",
      " [3.22136628e-07 2.00072989e-07 2.28896852e-07 ... 2.74244905e-01\n",
      "  1.34611309e-05 2.23953089e-06]] (30645, 15)\n",
      "Server Evaluating complete... 0.819840133190155 0.376365602016449\n",
      "\u001b[2m\u001b[36m(launch_and_evaluate pid=38200)\u001b[0m Client  6 Evaluating...\u001b[32m [repeated 5x across cluster]\u001b[0m\n",
      "\u001b[2m\u001b[36m(launch_and_evaluate pid=38200)\u001b[0m Client ID: 6\u001b[32m [repeated 15x across cluster]\u001b[0m\n",
      "\u001b[2m\u001b[36m(launch_and_fit pid=25584)\u001b[0m Client  9 Training...\u001b[32m [repeated 10x across cluster]\u001b[0m\n",
      "\u001b[2m\u001b[36m(launch_and_fit pid=25464)\u001b[0m Epoch 10/10\u001b[32m [repeated 100x across cluster]\u001b[0m\n",
      "\u001b[2m\u001b[36m(launch_and_fit pid=33324)\u001b[0m \u001b[32m [repeated 709x across cluster]\u001b[0m\n",
      "\u001b[2m\u001b[36m(launch_and_fit pid=25464)\u001b[0m   5/192 [..............................] - ETA: 10s - loss: 0.4262 - accuracy: 0.7969\u001b[32m [repeated 106x across cluster]\u001b[0m\n",
      "\u001b[2m\u001b[36m(launch_and_fit pid=25464)\u001b[0m  34/192 [====>.........................] - ETA: 1s - loss: 0.3804 - accuracy: 0.8194 \u001b[32m [repeated 82x across cluster]\u001b[0m\n",
      "\u001b[2m\u001b[36m(launch_and_fit pid=25464)\u001b[0m  70/192 [=========>....................] - ETA: 0s - loss: 0.3812 - accuracy: 0.8121\u001b[32m [repeated 62x across cluster]\u001b[0m\n",
      "\u001b[2m\u001b[36m(launch_and_fit pid=12032)\u001b[0m  89/192 [============>.................] - ETA: 0s - loss: 0.3657 - accuracy: 0.8183\u001b[32m [repeated 3x across cluster]\u001b[0m\n",
      "\u001b[2m\u001b[36m(launch_and_fit pid=12032)\u001b[0m 118/192 [=================>............] - ETA: 0s - loss: 0.3683 - accuracy: 0.8191\u001b[32m [repeated 8x across cluster]\u001b[0m\n",
      "\u001b[2m\u001b[36m(launch_and_fit pid=12836)\u001b[0m 111/192 [================>.............] - ETA: 0s - loss: 0.3720 - accuracy: 0.8170\u001b[32m [repeated 7x across cluster]\u001b[0m\n",
      "\u001b[2m\u001b[36m(launch_and_fit pid=25464)\u001b[0m 147/192 [=====================>........] - ETA: 0s - loss: 0.3815 - accuracy: 0.8110\u001b[32m [repeated 4x across cluster]\u001b[0m\n",
      "\u001b[2m\u001b[36m(launch_and_fit pid=47648)\u001b[0m 184/192 [===========================>..] - ETA: 0s - loss: 0.3773 - accuracy: 0.8087\u001b[32m [repeated 11x across cluster]\u001b[0m\n",
      "\u001b[2m\u001b[36m(launch_and_fit pid=33324)\u001b[0m 176/192 [==========================>...] - ETA: 0s - loss: 0.3721 - accuracy: 0.8157\u001b[32m [repeated 4x across cluster]\u001b[0m\n",
      "\u001b[2m\u001b[36m(launch_and_fit pid=33324)\u001b[0m 192/192 [==============================] - 1s 3ms/step - loss: 0.3709 - accuracy: 0.8169\u001b[32m [repeated 105x across cluster]\u001b[0m\n",
      "\u001b[2m\u001b[36m(launch_and_fit pid=25464)\u001b[0m 167/192 [=========================>....] - ETA: 0s - loss: 0.3861 - accuracy: 0.8120\u001b[32m [repeated 13x across cluster]\u001b[0m\n",
      "\u001b[2m\u001b[36m(launch_and_fit pid=12836)\u001b[0m 186/192 [============================>.] - ETA: 0s - loss: 0.3721 - accuracy: 0.8151\u001b[32m [repeated 28x across cluster]\u001b[0m\n",
      "\u001b[2m\u001b[36m(launch_and_fit pid=25584)\u001b[0m 161/192 [========================>.....] - ETA: 0s - loss: 0.3689 - accuracy: 0.8217\u001b[32m [repeated 51x across cluster]\u001b[0m\n",
      "\u001b[2m\u001b[36m(launch_and_fit pid=45420)\u001b[0m 100/192 [==============>...............] - ETA: 0s - loss: 0.3764 - accuracy: 0.8166\u001b[32m [repeated 57x across cluster]\u001b[0m\n",
      "\u001b[2m\u001b[36m(launch_and_fit pid=33324)\u001b[0m 128/192 [===================>..........] - ETA: 0s - loss: 0.3665 - accuracy: 0.8223\u001b[32m [repeated 50x across cluster]\u001b[0m\n",
      "\u001b[2m\u001b[36m(launch_and_evaluate pid=57868)\u001b[0m Client  1 Evaluating complete... 0.8219122290611267 0.40132343769073486\u001b[32m [repeated 5x across cluster]\u001b[0m\n",
      "\u001b[2m\u001b[36m(launch_and_fit pid=33324)\u001b[0m  31/192 [===>..........................] - ETA: 0s - loss: 0.3518 - accuracy: 0.8251\u001b[32m [repeated 17x across cluster]\u001b[0m\n",
      "\u001b[2m\u001b[36m(launch_and_fit pid=45420)\u001b[0m  58/192 [========>.....................] - ETA: 0s - loss: 0.3744 - accuracy: 0.8120\u001b[32m [repeated 32x across cluster]\u001b[0m\n",
      "\u001b[2m\u001b[36m(launch_and_fit pid=33324)\u001b[0m  90/192 [=============>................] - ETA: 0s - loss: 0.3631 - accuracy: 0.8240\u001b[32m [repeated 33x across cluster]\u001b[0m\n",
      "\u001b[2m\u001b[36m(launch_and_fit pid=45812)\u001b[0m 125/192 [==================>...........] - ETA: 0s - loss: 0.3701 - accuracy: 0.8155\u001b[32m [repeated 29x across cluster]\u001b[0m\n",
      "\u001b[2m\u001b[36m(launch_and_fit pid=45812)\u001b[0m 154/192 [=======================>......] - ETA: 0s - loss: 0.3712 - accuracy: 0.8136\u001b[32m [repeated 25x across cluster]\u001b[0m\n",
      "\u001b[2m\u001b[36m(launch_and_fit pid=45420)\u001b[0m 136/192 [====================>.........] - ETA: 0s - loss: 0.3756 - accuracy: 0.8151\u001b[32m [repeated 10x across cluster]\u001b[0m\n",
      "\u001b[2m\u001b[36m(launch_and_fit pid=45420)\u001b[0m  71/192 [==========>...................] - ETA: 0s - loss: 0.3809 - accuracy: 0.8116\u001b[32m [repeated 4x across cluster]\u001b[0m\n",
      "\u001b[2m\u001b[36m(launch_and_fit pid=25464)\u001b[0m 107/192 [===============>..............] - ETA: 0s - loss: 0.3836 - accuracy: 0.8115\u001b[32m [repeated 4x across cluster]\u001b[0m\n",
      "\u001b[2m\u001b[36m(launch_and_fit pid=38200)\u001b[0m 153/192 [======================>.......] - ETA: 0s - loss: 0.3731 - accuracy: 0.8155\u001b[32m [repeated 10x across cluster]\u001b[0m\n",
      "\u001b[2m\u001b[36m(launch_and_fit pid=57868)\u001b[0m Client  6 Evaluating...\n",
      "\u001b[2m\u001b[36m(launch_and_fit pid=33324)\u001b[0m Client  3 Training complete...\u001b[32m [repeated 10x across cluster]\u001b[0m\n",
      "\u001b[2m\u001b[36m(launch_and_fit pid=33324)\u001b[0m  57/192 [=======>......................] - ETA: 0s - loss: 0.3589 - accuracy: 0.8226\u001b[32m [repeated 5x across cluster]\u001b[0m\n",
      "\u001b[2m\u001b[36m(launch_and_fit pid=12836)\u001b[0m  83/192 [===========>..................] - ETA: 0s - loss: 0.3740 - accuracy: 0.8204\u001b[32m [repeated 5x across cluster]\u001b[0m\n"
     ]
    },
    {
     "name": "stderr",
     "output_type": "stream",
     "text": [
      "DEBUG flwr 2023-07-06 18:49:09,299 | server.py:182 | evaluate_round 4 received 5 results and 0 failures\n",
      "DEBUG:flwr:evaluate_round 4 received 5 results and 0 failures\n",
      "DEBUG flwr 2023-07-06 18:49:09,300 | server.py:218 | fit_round 5: strategy sampled 10 clients (out of 10)\n",
      "DEBUG:flwr:fit_round 5: strategy sampled 10 clients (out of 10)\n"
     ]
    },
    {
     "name": "stdout",
     "output_type": "stream",
     "text": [
      "\u001b[2m\u001b[36m(launch_and_evaluate pid=33324)\u001b[0m  51/192 [======>.......................] - ETA: 0s - loss: 0.3781 - accuracy: 0.8223 \n",
      "\u001b[2m\u001b[36m(launch_and_fit pid=38200)\u001b[0m 192/192 [==============================] - ETA: 0s - loss: 0.3725 - accuracy: 0.8145\u001b[32m [repeated 7x across cluster]\u001b[0m\n",
      "\u001b[2m\u001b[36m(launch_and_fit pid=38200)\u001b[0m  23/192 [==>...........................] - ETA: 0s - loss: 0.3780 - accuracy: 0.8043\n"
     ]
    },
    {
     "name": "stderr",
     "output_type": "stream",
     "text": [
      "DEBUG flwr 2023-07-06 18:49:13,564 | server.py:232 | fit_round 5 received 10 results and 0 failures\n",
      "DEBUG:flwr:fit_round 5 received 10 results and 0 failures\n"
     ]
    },
    {
     "name": "stdout",
     "output_type": "stream",
     "text": [
      "Server Evaluating... 5\n",
      "958/958 [==============================] - 1s 898us/step - loss: 0.3689 - accuracy: 0.8223\n",
      "958/958 [==============================] - 1s 780us/step\n"
     ]
    },
    {
     "name": "stderr",
     "output_type": "stream",
     "text": [
      "INFO flwr 2023-07-06 18:49:15,545 | server.py:119 | fit progress: (5, 0.36888301372528076, {'accuracy': 0.8222548365592957}, 38.63210919999983)\n",
      "INFO:flwr:fit progress: (5, 0.36888301372528076, {'accuracy': 0.8222548365592957}, 38.63210919999983)\n",
      "DEBUG flwr 2023-07-06 18:49:15,547 | server.py:168 | evaluate_round 5: strategy sampled 5 clients (out of 10)\n",
      "DEBUG:flwr:evaluate_round 5: strategy sampled 5 clients (out of 10)\n"
     ]
    },
    {
     "name": "stdout",
     "output_type": "stream",
     "text": [
      "Prediction:  [[3.5256133e-07 1.4774828e-07 6.3768297e-08 ... 2.0038176e-01\n",
      "  1.3374047e-06 4.4962914e-07]\n",
      " [1.0000000e+00 3.1488017e-38 0.0000000e+00 ... 4.2600107e-12\n",
      "  0.0000000e+00 0.0000000e+00]\n",
      " [9.9999881e-01 3.4462247e-10 1.9480795e-19 ... 1.1484575e-06\n",
      "  2.2350802e-17 6.6349280e-23]\n",
      " ...\n",
      " [1.0000000e+00 0.0000000e+00 0.0000000e+00 ... 9.7614614e-23\n",
      "  0.0000000e+00 0.0000000e+00]\n",
      " [1.1789042e-07 4.7808583e-03 4.7027660e-10 ... 4.1682839e-08\n",
      "  1.9514752e-08 4.5126791e-10]\n",
      " [7.0501017e-08 1.5182962e-07 4.3911615e-07 ... 2.3491682e-01\n",
      "  9.4884690e-06 1.1237086e-06]] (30645, 15)\n",
      "Server Evaluating complete... 0.8222548365592957 0.36888301372528076\n",
      "\u001b[2m\u001b[36m(launch_and_evaluate pid=25464)\u001b[0m Client  1 Evaluating...\u001b[32m [repeated 5x across cluster]\u001b[0m\n",
      "\u001b[2m\u001b[36m(launch_and_evaluate pid=25464)\u001b[0m Client ID: 1\u001b[32m [repeated 15x across cluster]\u001b[0m\n",
      "\u001b[2m\u001b[36m(launch_and_fit pid=45812)\u001b[0m Client  6 Training...\u001b[32m [repeated 10x across cluster]\u001b[0m\n",
      "\u001b[2m\u001b[36m(launch_and_fit pid=33324)\u001b[0m Epoch 10/10\u001b[32m [repeated 100x across cluster]\u001b[0m\n",
      "\u001b[2m\u001b[36m(launch_and_fit pid=33324)\u001b[0m \u001b[32m [repeated 777x across cluster]\u001b[0m\n",
      "\u001b[2m\u001b[36m(launch_and_fit pid=33324)\u001b[0m   1/192 [..............................] - ETA: 0s - loss: 0.3159 - accuracy: 0.8750\u001b[32m [repeated 105x across cluster]\u001b[0m\n",
      "\u001b[2m\u001b[36m(launch_and_fit pid=45420)\u001b[0m  34/192 [====>.........................] - ETA: 0s - loss: 0.3831 - accuracy: 0.7992\u001b[32m [repeated 37x across cluster]\u001b[0m\n",
      "\u001b[2m\u001b[36m(launch_and_fit pid=12032)\u001b[0m  64/192 [=========>....................] - ETA: 0s - loss: 0.3624 - accuracy: 0.8230\u001b[32m [repeated 24x across cluster]\u001b[0m\n",
      "\u001b[2m\u001b[36m(launch_and_fit pid=25464)\u001b[0m  89/192 [============>.................] - ETA: 0s - loss: 0.3715 - accuracy: 0.8153\u001b[32m [repeated 23x across cluster]\u001b[0m\n",
      "\u001b[2m\u001b[36m(launch_and_fit pid=12032)\u001b[0m 116/192 [=================>............] - ETA: 0s - loss: 0.3659 - accuracy: 0.8198\u001b[32m [repeated 26x across cluster]\u001b[0m\n",
      "\u001b[2m\u001b[36m(launch_and_fit pid=33324)\u001b[0m 112/192 [================>.............] - ETA: 0s - loss: 0.3593 - accuracy: 0.8271\u001b[32m [repeated 22x across cluster]\u001b[0m\n",
      "\u001b[2m\u001b[36m(launch_and_fit pid=33324)\u001b[0m 142/192 [=====================>........] - ETA: 0s - loss: 0.3623 - accuracy: 0.8234\u001b[32m [repeated 27x across cluster]\u001b[0m\n",
      "\u001b[2m\u001b[36m(launch_and_fit pid=45812)\u001b[0m 181/192 [===========================>..] - ETA: 0s - loss: 0.3666 - accuracy: 0.8145\u001b[32m [repeated 16x across cluster]\u001b[0m\n",
      "\u001b[2m\u001b[36m(launch_and_fit pid=25464)\u001b[0m 173/192 [==========================>...] - ETA: 0s - loss: 0.3665 - accuracy: 0.8185\u001b[32m [repeated 39x across cluster]\u001b[0m\n",
      "\u001b[2m\u001b[36m(launch_and_fit pid=33324)\u001b[0m 192/192 [==============================] - 0s 1ms/step - loss: 0.3697 - accuracy: 0.8172\u001b[32m [repeated 105x across cluster]\u001b[0m\n",
      "\u001b[2m\u001b[36m(launch_and_fit pid=33324)\u001b[0m 170/192 [=========================>....] - ETA: 0s - loss: 0.3721 - accuracy: 0.8146\u001b[32m [repeated 14x across cluster]\u001b[0m\n",
      "\u001b[2m\u001b[36m(launch_and_fit pid=12032)\u001b[0m 189/192 [============================>.] - ETA: 0s - loss: 0.3596 - accuracy: 0.8247\u001b[32m [repeated 16x across cluster]\u001b[0m\n",
      "\u001b[2m\u001b[36m(launch_and_fit pid=25464)\u001b[0m 160/192 [========================>.....] - ETA: 0s - loss: 0.3648 - accuracy: 0.8186\u001b[32m [repeated 20x across cluster]\u001b[0m\n",
      "\u001b[2m\u001b[36m(launch_and_fit pid=57868)\u001b[0m  96/192 [==============>...............] - ETA: 0s - loss: 0.3579 - accuracy: 0.8187\u001b[32m [repeated 17x across cluster]\u001b[0m\n",
      "\u001b[2m\u001b[36m(launch_and_fit pid=33324)\u001b[0m 129/192 [===================>..........] - ETA: 0s - loss: 0.3683 - accuracy: 0.8163\u001b[32m [repeated 15x across cluster]\u001b[0m\n",
      "\u001b[2m\u001b[36m(launch_and_evaluate pid=12836)\u001b[0m Client  1 Evaluating complete... 0.8206885457038879 0.37279364466667175\u001b[32m [repeated 5x across cluster]\u001b[0m\n",
      "\u001b[2m\u001b[36m(launch_and_fit pid=33324)\u001b[0m  30/192 [===>..........................] - ETA: 0s - loss: 0.3614 - accuracy: 0.8099\u001b[32m [repeated 62x across cluster]\u001b[0m\n",
      "\u001b[2m\u001b[36m(launch_and_fit pid=33324)\u001b[0m  60/192 [========>.....................] - ETA: 0s - loss: 0.3649 - accuracy: 0.8133\u001b[32m [repeated 54x across cluster]\u001b[0m\n",
      "\u001b[2m\u001b[36m(launch_and_fit pid=33324)\u001b[0m  93/192 [=============>................] - ETA: 0s - loss: 0.3704 - accuracy: 0.8127\u001b[32m [repeated 51x across cluster]\u001b[0m\n",
      "\u001b[2m\u001b[36m(launch_and_fit pid=25464)\u001b[0m 124/192 [==================>...........] - ETA: 0s - loss: 0.3676 - accuracy: 0.8177\u001b[32m [repeated 35x across cluster]\u001b[0m\n",
      "\u001b[2m\u001b[36m(launch_and_fit pid=47648)\u001b[0m 158/192 [=======================>......] - ETA: 0s - loss: 0.3668 - accuracy: 0.8173\u001b[32m [repeated 19x across cluster]\u001b[0m\n",
      "\u001b[2m\u001b[36m(launch_and_fit pid=47648)\u001b[0m 136/192 [====================>.........] - ETA: 0s - loss: 0.3663 - accuracy: 0.8142\u001b[32m [repeated 10x across cluster]\u001b[0m\n",
      "\u001b[2m\u001b[36m(launch_and_fit pid=47648)\u001b[0m 106/192 [===============>..............] - ETA: 0s - loss: 0.3698 - accuracy: 0.8107\u001b[32m [repeated 7x across cluster]\u001b[0m\n",
      "\u001b[2m\u001b[36m(launch_and_fit pid=12032)\u001b[0m 153/192 [======================>.......] - ETA: 0s - loss: 0.3610 - accuracy: 0.8226\u001b[32m [repeated 33x across cluster]\u001b[0m\n",
      "\u001b[2m\u001b[36m(launch_and_fit pid=33324)\u001b[0m Client  8 Training complete...\u001b[32m [repeated 10x across cluster]\u001b[0m\n",
      "\u001b[2m\u001b[36m(launch_and_fit pid=33324)\u001b[0m  55/192 [=======>......................] - ETA: 0s - loss: 0.3637 - accuracy: 0.8259\u001b[32m [repeated 26x across cluster]\u001b[0m\n",
      "\u001b[2m\u001b[36m(launch_and_fit pid=33324)\u001b[0m  82/192 [===========>..................] - ETA: 0s - loss: 0.3622 - accuracy: 0.8276\u001b[32m [repeated 9x across cluster]\u001b[0m\n",
      "\u001b[2m\u001b[36m(launch_and_fit pid=25464)\u001b[0m 192/192 [==============================] - ETA: 0s - loss: 0.3667 - accuracy: 0.8179\u001b[32m [repeated 5x across cluster]\u001b[0m\n"
     ]
    },
    {
     "name": "stderr",
     "output_type": "stream",
     "text": [
      "DEBUG flwr 2023-07-06 18:49:16,087 | server.py:182 | evaluate_round 5 received 5 results and 0 failures\n",
      "DEBUG:flwr:evaluate_round 5 received 5 results and 0 failures\n",
      "DEBUG flwr 2023-07-06 18:49:16,090 | server.py:218 | fit_round 6: strategy sampled 10 clients (out of 10)\n",
      "DEBUG:flwr:fit_round 6: strategy sampled 10 clients (out of 10)\n"
     ]
    },
    {
     "name": "stdout",
     "output_type": "stream",
     "text": [
      "\u001b[2m\u001b[36m(launch_and_evaluate pid=25464)\u001b[0m  51/192 [======>.......................] - ETA: 0s - loss: 0.3844 - accuracy: 0.8235 \n",
      "\u001b[2m\u001b[36m(launch_and_fit pid=25584)\u001b[0m  71/192 [==========>...................] - ETA: 0s - loss: 0.3504 - accuracy: 0.8193\n"
     ]
    },
    {
     "name": "stderr",
     "output_type": "stream",
     "text": [
      "DEBUG flwr 2023-07-06 18:49:20,048 | server.py:232 | fit_round 6 received 10 results and 0 failures\n",
      "DEBUG:flwr:fit_round 6 received 10 results and 0 failures\n"
     ]
    },
    {
     "name": "stdout",
     "output_type": "stream",
     "text": [
      "Server Evaluating... 6\n",
      "958/958 [==============================] - 1s 866us/step - loss: 0.3653 - accuracy: 0.8212\n",
      "958/958 [==============================] - 1s 718us/step\n"
     ]
    },
    {
     "name": "stderr",
     "output_type": "stream",
     "text": [
      "INFO flwr 2023-07-06 18:49:21,913 | server.py:119 | fit progress: (6, 0.365296334028244, {'accuracy': 0.8212432861328125}, 44.99929680000059)\n",
      "INFO:flwr:fit progress: (6, 0.365296334028244, {'accuracy': 0.8212432861328125}, 44.99929680000059)\n",
      "DEBUG flwr 2023-07-06 18:49:21,915 | server.py:168 | evaluate_round 6: strategy sampled 5 clients (out of 10)\n",
      "DEBUG:flwr:evaluate_round 6: strategy sampled 5 clients (out of 10)\n"
     ]
    },
    {
     "name": "stdout",
     "output_type": "stream",
     "text": [
      "Prediction:  [[3.0219707e-07 1.7203699e-07 5.7411139e-08 ... 2.3511870e-01\n",
      "  4.2430960e-07 2.5977380e-07]\n",
      " [1.0000000e+00 0.0000000e+00 0.0000000e+00 ... 5.8422489e-11\n",
      "  0.0000000e+00 0.0000000e+00]\n",
      " [9.9999964e-01 9.6760395e-12 1.4058658e-20 ... 3.3130090e-07\n",
      "  1.6956638e-18 2.4821217e-24]\n",
      " ...\n",
      " [1.0000000e+00 0.0000000e+00 0.0000000e+00 ... 8.4671251e-25\n",
      "  0.0000000e+00 0.0000000e+00]\n",
      " [5.3488982e-08 1.6325617e-03 2.4783264e-10 ... 1.5780644e-08\n",
      "  5.7003025e-09 7.9387823e-11]\n",
      " [6.1433745e-08 2.5190451e-07 7.0854293e-07 ... 2.7876145e-01\n",
      "  6.2951026e-06 8.2948367e-07]] (30645, 15)\n",
      "Server Evaluating complete... 0.8212432861328125 0.365296334028244\n",
      "\u001b[2m\u001b[36m(launch_and_evaluate pid=45420)\u001b[0m Client  0 Evaluating...\u001b[32m [repeated 4x across cluster]\u001b[0m\n",
      "\u001b[2m\u001b[36m(launch_and_evaluate pid=25464)\u001b[0m Client ID: 7\u001b[32m [repeated 15x across cluster]\u001b[0m\n",
      "\u001b[2m\u001b[36m(launch_and_fit pid=45812)\u001b[0m Client  6 Training...\u001b[32m [repeated 10x across cluster]\u001b[0m\n",
      "\u001b[2m\u001b[36m(launch_and_fit pid=45812)\u001b[0m Epoch 10/10\u001b[32m [repeated 100x across cluster]\u001b[0m\n",
      "\u001b[2m\u001b[36m(launch_and_fit pid=45812)\u001b[0m \u001b[32m [repeated 669x across cluster]\u001b[0m\n",
      "\u001b[2m\u001b[36m(launch_and_fit pid=45812)\u001b[0m   1/192 [..............................] - ETA: 0s - loss: 0.3603 - accuracy: 0.8438\u001b[32m [repeated 105x across cluster]\u001b[0m\n",
      "\u001b[2m\u001b[36m(launch_and_fit pid=45812)\u001b[0m  32/192 [====>.........................] - ETA: 0s - loss: 0.3545 - accuracy: 0.8140\u001b[32m [repeated 86x across cluster]\u001b[0m\n",
      "\u001b[2m\u001b[36m(launch_and_fit pid=45812)\u001b[0m  64/192 [=========>....................] - ETA: 0s - loss: 0.3551 - accuracy: 0.8125\u001b[32m [repeated 71x across cluster]\u001b[0m\n",
      "\u001b[2m\u001b[36m(launch_and_fit pid=45812)\u001b[0m  86/192 [============>.................] - ETA: 0s - loss: 0.3729 - accuracy: 0.8096\u001b[32m [repeated 6x across cluster]\u001b[0m\n",
      "\u001b[2m\u001b[36m(launch_and_fit pid=45812)\u001b[0m 116/192 [=================>............] - ETA: 0s - loss: 0.3742 - accuracy: 0.8109\u001b[32m [repeated 5x across cluster]\u001b[0m\n",
      "\u001b[2m\u001b[36m(launch_and_fit pid=12836)\u001b[0m Client ID: 7\n",
      "\u001b[2m\u001b[36m(launch_and_fit pid=45812)\u001b[0m 147/192 [=====================>........] - ETA: 0s - loss: 0.3701 - accuracy: 0.8118\u001b[32m [repeated 2x across cluster]\u001b[0m\n",
      "\u001b[2m\u001b[36m(launch_and_fit pid=25464)\u001b[0m 181/192 [===========================>..] - ETA: 0s - loss: 0.3644 - accuracy: 0.8096\u001b[32m [repeated 2x across cluster]\u001b[0m\n",
      "\u001b[2m\u001b[36m(launch_and_fit pid=25584)\u001b[0m 174/192 [==========================>...] - ETA: 0s - loss: 0.3517 - accuracy: 0.8268\u001b[32m [repeated 8x across cluster]\u001b[0m\n",
      "\u001b[2m\u001b[36m(launch_and_fit pid=45812)\u001b[0m 192/192 [==============================] - 0s 1ms/step - loss: 0.3615 - accuracy: 0.8140\u001b[32m [repeated 105x across cluster]\u001b[0m\n",
      "\u001b[2m\u001b[36m(launch_and_fit pid=45812)\u001b[0m 169/192 [=========================>....] - ETA: 0s - loss: 0.3607 - accuracy: 0.8142\u001b[32m [repeated 10x across cluster]\u001b[0m\n",
      "\u001b[2m\u001b[36m(launch_and_fit pid=12836)\u001b[0m 191/192 [============================>.] - ETA: 0s - loss: 0.3645 - accuracy: 0.8196\u001b[32m [repeated 20x across cluster]\u001b[0m\n",
      "\u001b[2m\u001b[36m(launch_and_fit pid=25464)\u001b[0m 166/192 [========================>.....] - ETA: 0s - loss: 0.3562 - accuracy: 0.8181\u001b[32m [repeated 56x across cluster]\u001b[0m\n",
      "\u001b[2m\u001b[36m(launch_and_fit pid=57868)\u001b[0m  97/192 [==============>...............] - ETA: 0s - loss: 0.3668 - accuracy: 0.8064\u001b[32m [repeated 64x across cluster]\u001b[0m\n",
      "\u001b[2m\u001b[36m(launch_and_fit pid=45812)\u001b[0m 129/192 [===================>..........] - ETA: 0s - loss: 0.3584 - accuracy: 0.8131\u001b[32m [repeated 56x across cluster]\u001b[0m\n",
      "\u001b[2m\u001b[36m(launch_and_evaluate pid=45420)\u001b[0m Client  0 Evaluating complete... 0.8180779814720154 0.36030420660972595\u001b[32m [repeated 5x across cluster]\u001b[0m\n",
      "\u001b[2m\u001b[36m(launch_and_fit pid=57868)\u001b[0m  30/192 [===>..........................] - ETA: 0s - loss: 0.3681 - accuracy: 0.8161\u001b[32m [repeated 14x across cluster]\u001b[0m\n",
      "\u001b[2m\u001b[36m(launch_and_fit pid=47648)\u001b[0m  63/192 [========>.....................] - ETA: 0s - loss: 0.3581 - accuracy: 0.8224\u001b[32m [repeated 23x across cluster]\u001b[0m\n",
      "\u001b[2m\u001b[36m(launch_and_fit pid=45812)\u001b[0m  95/192 [=============>................] - ETA: 0s - loss: 0.3566 - accuracy: 0.8140\u001b[32m [repeated 26x across cluster]\u001b[0m\n",
      "\u001b[2m\u001b[36m(launch_and_fit pid=12032)\u001b[0m 127/192 [==================>...........] - ETA: 0s - loss: 0.3556 - accuracy: 0.8145\u001b[32m [repeated 28x across cluster]\u001b[0m\n",
      "\u001b[2m\u001b[36m(launch_and_fit pid=47648)\u001b[0m 158/192 [=======================>......] - ETA: 0s - loss: 0.3544 - accuracy: 0.8223\u001b[32m [repeated 25x across cluster]\u001b[0m\n",
      "\u001b[2m\u001b[36m(launch_and_fit pid=25584)\u001b[0m 140/192 [====================>.........] - ETA: 0s - loss: 0.3459 - accuracy: 0.8272\u001b[32m [repeated 10x across cluster]\u001b[0m\n",
      "\u001b[2m\u001b[36m(launch_and_fit pid=25584)\u001b[0m 107/192 [===============>..............] - ETA: 0s - loss: 0.3469 - accuracy: 0.8227\u001b[32m [repeated 9x across cluster]\u001b[0m\n",
      "\u001b[2m\u001b[36m(launch_and_fit pid=12032)\u001b[0m 148/192 [======================>.......] - ETA: 0s - loss: 0.3726 - accuracy: 0.8089\u001b[32m [repeated 8x across cluster]\u001b[0m\n",
      "\u001b[2m\u001b[36m(launch_and_fit pid=45812)\u001b[0m Client  6 Training complete...\u001b[32m [repeated 10x across cluster]\u001b[0m\n",
      "\u001b[2m\u001b[36m(launch_and_fit pid=45812)\u001b[0m  57/192 [=======>......................] - ETA: 0s - loss: 0.3712 - accuracy: 0.8073\u001b[32m [repeated 9x across cluster]\u001b[0m\n",
      "\u001b[2m\u001b[36m(launch_and_fit pid=57868)\u001b[0m 192/192 [==============================] - ETA: 0s - loss: 0.3571 - accuracy: 0.8202\u001b[32m [repeated 11x across cluster]\u001b[0m\n"
     ]
    },
    {
     "name": "stderr",
     "output_type": "stream",
     "text": [
      "DEBUG flwr 2023-07-06 18:49:22,424 | server.py:182 | evaluate_round 6 received 5 results and 0 failures\n",
      "DEBUG:flwr:evaluate_round 6 received 5 results and 0 failures\n",
      "DEBUG flwr 2023-07-06 18:49:22,426 | server.py:218 | fit_round 7: strategy sampled 10 clients (out of 10)\n",
      "DEBUG:flwr:fit_round 7: strategy sampled 10 clients (out of 10)\n"
     ]
    },
    {
     "name": "stdout",
     "output_type": "stream",
     "text": [
      "\u001b[2m\u001b[36m(launch_and_evaluate pid=45812)\u001b[0m 111/192 [================>.............] - ETA: 0s - loss: 0.3550 - accuracy: 0.8188\n",
      "\u001b[2m\u001b[36m(launch_and_fit pid=57868)\u001b[0m  39/192 [=====>........................] - ETA: 0s - loss: 0.3567 - accuracy: 0.8161  \n",
      "\u001b[2m\u001b[36m(launch_and_fit pid=57868)\u001b[0m  71/192 [==========>...................] - ETA: 0s - loss: 0.3697 - accuracy: 0.8154\u001b[32m [repeated 3x across cluster]\u001b[0m\n",
      "\u001b[2m\u001b[36m(launch_and_fit pid=12032)\u001b[0m  82/192 [===========>..................] - ETA: 0s - loss: 0.3468 - accuracy: 0.8258\n",
      "\u001b[2m\u001b[36m(launch_and_fit pid=45420)\u001b[0m  23/192 [==>...........................] - ETA: 0s - loss: 0.3734 - accuracy: 0.8159\n",
      "\u001b[2m\u001b[36m(launch_and_fit pid=25584)\u001b[0m  47/192 [======>.......................] - ETA: 0s - loss: 0.3507 - accuracy: 0.8291\n"
     ]
    },
    {
     "name": "stderr",
     "output_type": "stream",
     "text": [
      "DEBUG flwr 2023-07-06 18:49:26,945 | server.py:232 | fit_round 7 received 10 results and 0 failures\n",
      "DEBUG:flwr:fit_round 7 received 10 results and 0 failures\n"
     ]
    },
    {
     "name": "stdout",
     "output_type": "stream",
     "text": [
      "Server Evaluating... 7\n",
      "958/958 [==============================] - 1s 887us/step - loss: 0.3645 - accuracy: 0.8216\n",
      "958/958 [==============================] - 1s 729us/step\n"
     ]
    },
    {
     "name": "stderr",
     "output_type": "stream",
     "text": [
      "INFO flwr 2023-07-06 18:49:28,849 | server.py:119 | fit progress: (7, 0.3644757866859436, {'accuracy': 0.821634829044342}, 51.93504899999971)\n",
      "INFO:flwr:fit progress: (7, 0.3644757866859436, {'accuracy': 0.821634829044342}, 51.93504899999971)\n",
      "DEBUG flwr 2023-07-06 18:49:28,850 | server.py:168 | evaluate_round 7: strategy sampled 5 clients (out of 10)\n",
      "DEBUG:flwr:evaluate_round 7: strategy sampled 5 clients (out of 10)\n"
     ]
    },
    {
     "name": "stdout",
     "output_type": "stream",
     "text": [
      "Prediction:  [[4.23699248e-07 3.61719941e-07 1.20288774e-07 ... 2.29733035e-01\n",
      "  3.21975762e-07 3.08482129e-07]\n",
      " [1.00000000e+00 0.00000000e+00 0.00000000e+00 ... 9.35179045e-10\n",
      "  0.00000000e+00 0.00000000e+00]\n",
      " [9.99999881e-01 2.54142004e-13 2.82684683e-22 ... 6.55388490e-08\n",
      "  5.73935067e-20 5.06542687e-26]\n",
      " ...\n",
      " [1.00000000e+00 0.00000000e+00 0.00000000e+00 ... 3.73250346e-27\n",
      "  0.00000000e+00 0.00000000e+00]\n",
      " [3.79867835e-08 1.24288979e-03 1.44022017e-10 ... 1.42249785e-08\n",
      "  1.84496773e-09 2.71361874e-11]\n",
      " [6.24889580e-08 5.18106333e-07 1.54765030e-06 ... 2.59484470e-01\n",
      "  7.08811649e-06 8.42788893e-07]] (30645, 15)\n",
      "Server Evaluating complete... 0.821634829044342 0.3644757866859436\n",
      "\u001b[2m\u001b[36m(launch_and_evaluate pid=12032)\u001b[0m Client  8 Evaluating...\u001b[32m [repeated 5x across cluster]\u001b[0m\n",
      "\u001b[2m\u001b[36m(launch_and_evaluate pid=38200)\u001b[0m Client ID: 3\u001b[32m [repeated 15x across cluster]\u001b[0m\n",
      "\u001b[2m\u001b[36m(launch_and_fit pid=45420)\u001b[0m Client  4 Training...\u001b[32m [repeated 10x across cluster]\u001b[0m\n",
      "\u001b[2m\u001b[36m(launch_and_fit pid=45420)\u001b[0m Epoch 10/10\u001b[32m [repeated 100x across cluster]\u001b[0m\n",
      "\u001b[2m\u001b[36m(launch_and_fit pid=45812)\u001b[0m \u001b[32m [repeated 751x across cluster]\u001b[0m\n",
      "\u001b[2m\u001b[36m(launch_and_fit pid=45420)\u001b[0m   1/192 [..............................] - ETA: 0s - loss: 0.4019 - accuracy: 0.8281\u001b[32m [repeated 105x across cluster]\u001b[0m\n",
      "\u001b[2m\u001b[36m(launch_and_fit pid=45420)\u001b[0m  36/192 [====>.........................] - ETA: 0s - loss: 0.3542 - accuracy: 0.8247\u001b[32m [repeated 62x across cluster]\u001b[0m\n",
      "\u001b[2m\u001b[36m(launch_and_fit pid=25584)\u001b[0m  66/192 [=========>....................] - ETA: 0s - loss: 0.3544 - accuracy: 0.8179\u001b[32m [repeated 33x across cluster]\u001b[0m\n",
      "\u001b[2m\u001b[36m(launch_and_fit pid=45420)\u001b[0m  86/192 [============>.................] - ETA: 0s - loss: 0.3535 - accuracy: 0.8181\u001b[32m [repeated 15x across cluster]\u001b[0m\n",
      "\u001b[2m\u001b[36m(launch_and_fit pid=45420)\u001b[0m 118/192 [=================>............] - ETA: 0s - loss: 0.3551 - accuracy: 0.8154\u001b[32m [repeated 23x across cluster]\u001b[0m\n",
      "\u001b[2m\u001b[36m(launch_and_fit pid=45420)\u001b[0m 146/192 [=====================>........] - ETA: 0s - loss: 0.3558 - accuracy: 0.8199\u001b[32m [repeated 12x across cluster]\u001b[0m\n",
      "\u001b[2m\u001b[36m(launch_and_fit pid=47648)\u001b[0m 181/192 [===========================>..] - ETA: 0s - loss: 0.3566 - accuracy: 0.8203\u001b[32m [repeated 27x across cluster]\u001b[0m\n",
      "\u001b[2m\u001b[36m(launch_and_fit pid=45812)\u001b[0m 176/192 [==========================>...] - ETA: 0s - loss: 0.3550 - accuracy: 0.8188\u001b[32m [repeated 13x across cluster]\u001b[0m\n",
      "\u001b[2m\u001b[36m(launch_and_fit pid=45812)\u001b[0m 192/192 [==============================] - 0s 1ms/step - loss: 0.3545 - accuracy: 0.8193\u001b[32m [repeated 105x across cluster]\u001b[0m\n",
      "\u001b[2m\u001b[36m(launch_and_fit pid=25584)\u001b[0m 168/192 [=========================>....] - ETA: 0s - loss: 0.3517 - accuracy: 0.8251\u001b[32m [repeated 10x across cluster]\u001b[0m\n",
      "\u001b[2m\u001b[36m(launch_and_fit pid=45420)\u001b[0m 190/192 [============================>.] - ETA: 0s - loss: 0.3532 - accuracy: 0.8205\u001b[32m [repeated 25x across cluster]\u001b[0m\n",
      "\u001b[2m\u001b[36m(launch_and_fit pid=45420)\u001b[0m 162/192 [========================>.....] - ETA: 0s - loss: 0.3574 - accuracy: 0.8146\u001b[32m [repeated 30x across cluster]\u001b[0m\n",
      "\u001b[2m\u001b[36m(launch_and_fit pid=25584)\u001b[0m  98/192 [==============>...............] - ETA: 0s - loss: 0.3491 - accuracy: 0.8227\u001b[32m [repeated 33x across cluster]\u001b[0m\n",
      "\u001b[2m\u001b[36m(launch_and_fit pid=25584)\u001b[0m 134/192 [===================>..........] - ETA: 0s - loss: 0.3493 - accuracy: 0.8243\u001b[32m [repeated 31x across cluster]\u001b[0m\n",
      "\u001b[2m\u001b[36m(launch_and_evaluate pid=57868)\u001b[0m Client  1 Evaluating complete... 0.8255017399787903 0.3735632002353668\u001b[32m [repeated 5x across cluster]\u001b[0m\n",
      "\u001b[2m\u001b[36m(launch_and_fit pid=25584)\u001b[0m  31/192 [===>..........................] - ETA: 0s - loss: 0.3499 - accuracy: 0.8170\u001b[32m [repeated 34x across cluster]\u001b[0m\n",
      "\u001b[2m\u001b[36m(launch_and_fit pid=33324)\u001b[0m  58/192 [========>.....................] - ETA: 0s - loss: 0.3519 - accuracy: 0.8249\u001b[32m [repeated 48x across cluster]\u001b[0m\n",
      "\u001b[2m\u001b[36m(launch_and_fit pid=45812)\u001b[0m  91/192 [=============>................] - ETA: 0s - loss: 0.3491 - accuracy: 0.8223\u001b[32m [repeated 37x across cluster]\u001b[0m\n",
      "\u001b[2m\u001b[36m(launch_and_fit pid=12032)\u001b[0m 127/192 [==================>...........] - ETA: 0s - loss: 0.3518 - accuracy: 0.8216\u001b[32m [repeated 26x across cluster]\u001b[0m\n",
      "\u001b[2m\u001b[36m(launch_and_fit pid=33324)\u001b[0m 158/192 [=======================>......] - ETA: 0s - loss: 0.3531 - accuracy: 0.8230\u001b[32m [repeated 22x across cluster]\u001b[0m\n",
      "\u001b[2m\u001b[36m(launch_and_fit pid=45812)\u001b[0m 139/192 [====================>.........] - ETA: 0s - loss: 0.3567 - accuracy: 0.8167\u001b[32m [repeated 12x across cluster]\u001b[0m\n",
      "\u001b[2m\u001b[36m(launch_and_fit pid=45420)\u001b[0m 107/192 [===============>..............] - ETA: 0s - loss: 0.3522 - accuracy: 0.8210\u001b[32m [repeated 18x across cluster]\u001b[0m\n",
      "\u001b[2m\u001b[36m(launch_and_fit pid=45420)\u001b[0m 152/192 [======================>.......] - ETA: 0s - loss: 0.3546 - accuracy: 0.8164\u001b[32m [repeated 28x across cluster]\u001b[0m\n",
      "\u001b[2m\u001b[36m(launch_and_fit pid=45812)\u001b[0m Client  5 Training complete...\u001b[32m [repeated 10x across cluster]\u001b[0m\n",
      "\u001b[2m\u001b[36m(launch_and_fit pid=45420)\u001b[0m  56/192 [=======>......................] - ETA: 0s - loss: 0.3501 - accuracy: 0.8184\u001b[32m [repeated 15x across cluster]\u001b[0m\n",
      "\u001b[2m\u001b[36m(launch_and_fit pid=12032)\u001b[0m 192/192 [==============================] - ETA: 0s - loss: 0.3535 - accuracy: 0.8179\u001b[32m [repeated 3x across cluster]\u001b[0m\n",
      "\u001b[2m\u001b[36m(launch_and_fit pid=38200)\u001b[0m 110/192 [================>.............] - ETA: 0s - loss: 0.3575 - accuracy: 0.8179\u001b[32m [repeated 6x across cluster]\u001b[0m\n",
      "\u001b[2m\u001b[36m(launch_and_fit pid=25464)\u001b[0m Client ID: 3\n"
     ]
    },
    {
     "name": "stderr",
     "output_type": "stream",
     "text": [
      "DEBUG flwr 2023-07-06 18:49:29,402 | server.py:182 | evaluate_round 7 received 5 results and 0 failures\n",
      "DEBUG:flwr:evaluate_round 7 received 5 results and 0 failures\n",
      "DEBUG flwr 2023-07-06 18:49:29,403 | server.py:218 | fit_round 8: strategy sampled 10 clients (out of 10)\n",
      "DEBUG:flwr:fit_round 8: strategy sampled 10 clients (out of 10)\n"
     ]
    },
    {
     "name": "stdout",
     "output_type": "stream",
     "text": [
      "\u001b[2m\u001b[36m(launch_and_fit pid=45420)\u001b[0m  71/192 [==========>...................] - ETA: 0s - loss: 0.3561 - accuracy: 0.8213\u001b[32m [repeated 6x across cluster]\u001b[0m\n",
      "\u001b[2m\u001b[36m(launch_and_fit pid=45420)\u001b[0m  78/192 [===========>..................] - ETA: 0s - loss: 0.3543 - accuracy: 0.8175\u001b[32m [repeated 4x across cluster]\u001b[0m\n",
      "\u001b[2m\u001b[36m(launch_and_fit pid=25584)\u001b[0m  33/192 [====>.........................] - ETA: 0s - loss: 0.3652 - accuracy: 0.8210  \n",
      "\u001b[2m\u001b[36m(launch_and_evaluate pid=45812)\u001b[0m  46/192 [======>.......................] - ETA: 0s - loss: 0.3681 - accuracy: 0.8101 \u001b[32m [repeated 5x across cluster]\u001b[0m\n"
     ]
    },
    {
     "name": "stderr",
     "output_type": "stream",
     "text": [
      "DEBUG flwr 2023-07-06 18:49:34,046 | server.py:232 | fit_round 8 received 10 results and 0 failures\n",
      "DEBUG:flwr:fit_round 8 received 10 results and 0 failures\n"
     ]
    },
    {
     "name": "stdout",
     "output_type": "stream",
     "text": [
      "\u001b[2m\u001b[36m(launch_and_evaluate pid=45812)\u001b[0m Client  4 Evaluating...\u001b[32m [repeated 5x across cluster]\u001b[0m\n",
      "\u001b[2m\u001b[36m(launch_and_fit pid=45812)\u001b[0m Client ID: 1\u001b[32m [repeated 14x across cluster]\u001b[0m\n",
      "\u001b[2m\u001b[36m(launch_and_fit pid=57868)\u001b[0m Client  6 Training...\u001b[32m [repeated 10x across cluster]\u001b[0m\n",
      "\u001b[2m\u001b[36m(launch_and_fit pid=47648)\u001b[0m Epoch 10/10\u001b[32m [repeated 100x across cluster]\u001b[0m\n",
      "\u001b[2m\u001b[36m(launch_and_fit pid=38200)\u001b[0m \u001b[32m [repeated 727x across cluster]\u001b[0m\n",
      "\u001b[2m\u001b[36m(launch_and_fit pid=47648)\u001b[0m   1/192 [..............................] - ETA: 0s - loss: 0.4662 - accuracy: 0.7188\u001b[32m [repeated 105x across cluster]\u001b[0m\n",
      "\u001b[2m\u001b[36m(launch_and_fit pid=47648)\u001b[0m  32/192 [====>.........................] - ETA: 0s - loss: 0.3403 - accuracy: 0.8301\u001b[32m [repeated 69x across cluster]\u001b[0m\n",
      "\u001b[2m\u001b[36m(launch_and_fit pid=33324)\u001b[0m  65/192 [=========>....................] - ETA: 0s - loss: 0.3439 - accuracy: 0.8267\u001b[32m [repeated 50x across cluster]\u001b[0m\n",
      "\u001b[2m\u001b[36m(launch_and_fit pid=33324)\u001b[0m  88/192 [============>.................] - ETA: 0s - loss: 0.3476 - accuracy: 0.8152\u001b[32m [repeated 12x across cluster]\u001b[0m\n",
      "\u001b[2m\u001b[36m(launch_and_fit pid=33324)\u001b[0m 119/192 [=================>............] - ETA: 0s - loss: 0.3503 - accuracy: 0.8163\u001b[32m [repeated 18x across cluster]\u001b[0m\n",
      "\u001b[2m\u001b[36m(launch_and_fit pid=38200)\u001b[0m 144/192 [=====================>........] - ETA: 0s - loss: 0.3431 - accuracy: 0.8268\u001b[32m [repeated 11x across cluster]\u001b[0m\n",
      "\u001b[2m\u001b[36m(launch_and_fit pid=47648)\u001b[0m 184/192 [===========================>..] - ETA: 0s - loss: 0.3565 - accuracy: 0.8198\u001b[32m [repeated 26x across cluster]\u001b[0m\n",
      "\u001b[2m\u001b[36m(launch_and_fit pid=38200)\u001b[0m 174/192 [==========================>...] - ETA: 0s - loss: 0.3449 - accuracy: 0.8266\u001b[32m [repeated 9x across cluster]\u001b[0m\n",
      "\u001b[2m\u001b[36m(launch_and_fit pid=38200)\u001b[0m 192/192 [==============================] - 0s 2ms/step - loss: 0.3481 - accuracy: 0.8244\u001b[32m [repeated 99x across cluster]\u001b[0m\n",
      "\u001b[2m\u001b[36m(launch_and_fit pid=57868)\u001b[0m 169/192 [=========================>....] - ETA: 0s - loss: 0.3540 - accuracy: 0.8214\u001b[32m [repeated 2x across cluster]\u001b[0m\n",
      "\u001b[2m\u001b[36m(launch_and_fit pid=33324)\u001b[0m 190/192 [============================>.] - ETA: 0s - loss: 0.3498 - accuracy: 0.8178\u001b[32m [repeated 28x across cluster]\u001b[0m\n",
      "\u001b[2m\u001b[36m(launch_and_fit pid=45812)\u001b[0m 163/192 [========================>.....] - ETA: 0s - loss: 0.3517 - accuracy: 0.8244\u001b[32m [repeated 35x across cluster]\u001b[0m\n",
      "\u001b[2m\u001b[36m(launch_and_fit pid=33324)\u001b[0m  97/192 [==============>...............] - ETA: 0s - loss: 0.3486 - accuracy: 0.8210\u001b[32m [repeated 45x across cluster]\u001b[0m\n",
      "\u001b[2m\u001b[36m(launch_and_fit pid=25464)\u001b[0m 130/192 [===================>..........] - ETA: 0s - loss: 0.3556 - accuracy: 0.8206\u001b[32m [repeated 45x across cluster]\u001b[0m\n",
      "\u001b[2m\u001b[36m(launch_and_evaluate pid=47648)\u001b[0m Client  1 Evaluating complete... 0.8263174891471863 0.3720795214176178\u001b[32m [repeated 5x across cluster]\u001b[0m\n",
      "\u001b[2m\u001b[36m(launch_and_fit pid=33324)\u001b[0m  31/192 [===>..........................] - ETA: 0s - loss: 0.3355 - accuracy: 0.8327\u001b[32m [repeated 33x across cluster]\u001b[0m\n",
      "\u001b[2m\u001b[36m(launch_and_fit pid=47648)\u001b[0m  63/192 [========>.....................] - ETA: 0s - loss: 0.3581 - accuracy: 0.8219\u001b[32m [repeated 46x across cluster]\u001b[0m\n",
      "\u001b[2m\u001b[36m(launch_and_fit pid=47648)\u001b[0m  95/192 [=============>................] - ETA: 0s - loss: 0.3685 - accuracy: 0.8153\u001b[32m [repeated 48x across cluster]\u001b[0m\n",
      "\u001b[2m\u001b[36m(launch_and_fit pid=47648)\u001b[0m 125/192 [==================>...........] - ETA: 0s - loss: 0.3536 - accuracy: 0.8242\u001b[32m [repeated 29x across cluster]\u001b[0m\n",
      "\u001b[2m\u001b[36m(launch_and_fit pid=47648)\u001b[0m 158/192 [=======================>......] - ETA: 0s - loss: 0.3575 - accuracy: 0.8220\u001b[32m [repeated 31x across cluster]\u001b[0m\n",
      "\u001b[2m\u001b[36m(launch_and_fit pid=57868)\u001b[0m 135/192 [====================>.........] - ETA: 0s - loss: 0.3569 - accuracy: 0.8196\u001b[32m [repeated 3x across cluster]\u001b[0m\n",
      "\u001b[2m\u001b[36m(launch_and_fit pid=45812)\u001b[0m 192/192 [==============================] - 0s 2ms/step - loss: 0.3481 - accuracy: 0.8244\n",
      "\u001b[2m\u001b[36m(launch_and_fit pid=33324)\u001b[0m 151/192 [======================>.......] - ETA: 0s - loss: 0.3502 - accuracy: 0.8158\u001b[32m [repeated 20x across cluster]\u001b[0m\n",
      "\u001b[2m\u001b[36m(launch_and_fit pid=12032)\u001b[0m Client  2 Training complete...\u001b[32m [repeated 3x across cluster]\u001b[0m\n",
      "\u001b[2m\u001b[36m(launch_and_fit pid=33324)\u001b[0m  57/192 [=======>......................] - ETA: 0s - loss: 0.3491 - accuracy: 0.8136\u001b[32m [repeated 4x across cluster]\u001b[0m\n",
      "\u001b[2m\u001b[36m(launch_and_fit pid=45420)\u001b[0m 192/192 [==============================] - ETA: 0s - loss: 0.3516 - accuracy: 0.8228\u001b[32m [repeated 7x across cluster]\u001b[0m\n",
      "\u001b[2m\u001b[36m(launch_and_fit pid=57868)\u001b[0m 110/192 [================>.............] - ETA: 0s - loss: 0.3577 - accuracy: 0.8220\u001b[32m [repeated 5x across cluster]\u001b[0m\n",
      "Server Evaluating... 8\n",
      "958/958 [==============================] - 1s 821us/step - loss: 0.3635 - accuracy: 0.8197\n",
      "958/958 [==============================] - 1s 690us/step\n"
     ]
    },
    {
     "name": "stderr",
     "output_type": "stream",
     "text": [
      "INFO flwr 2023-07-06 18:49:35,845 | server.py:119 | fit progress: (8, 0.36345842480659485, {'accuracy': 0.8197095990180969}, 58.93110499999602)\n",
      "INFO:flwr:fit progress: (8, 0.36345842480659485, {'accuracy': 0.8197095990180969}, 58.93110499999602)\n",
      "DEBUG flwr 2023-07-06 18:49:35,846 | server.py:168 | evaluate_round 8: strategy sampled 5 clients (out of 10)\n",
      "DEBUG:flwr:evaluate_round 8: strategy sampled 5 clients (out of 10)\n"
     ]
    },
    {
     "name": "stdout",
     "output_type": "stream",
     "text": [
      "Prediction:  [[4.0698885e-07 5.7982913e-07 1.6535643e-07 ... 2.1997826e-01\n",
      "  3.8971456e-07 6.8197011e-07]\n",
      " [1.0000000e+00 0.0000000e+00 0.0000000e+00 ... 1.9059903e-09\n",
      "  0.0000000e+00 0.0000000e+00]\n",
      " [1.0000000e+00 9.6051054e-15 1.5352819e-24 ... 1.9222705e-08\n",
      "  1.0662672e-21 6.2228087e-28]\n",
      " ...\n",
      " [1.0000000e+00 0.0000000e+00 0.0000000e+00 ... 1.2198903e-30\n",
      "  0.0000000e+00 0.0000000e+00]\n",
      " [1.2966817e-08 6.6445436e-04 5.4680940e-11 ... 5.6233049e-09\n",
      "  5.0480276e-10 8.2522643e-12]\n",
      " [8.2261586e-08 7.6373476e-07 1.7482597e-06 ... 2.6235974e-01\n",
      "  8.5123247e-06 1.0385138e-06]] (30645, 15)\n",
      "Server Evaluating complete... 0.8197095990180969 0.36345842480659485\n",
      "\u001b[2m\u001b[36m(launch_and_fit pid=12836)\u001b[0m  74/192 [==========>...................] - ETA: 0s - loss: 0.3403 - accuracy: 0.8212\u001b[32m [repeated 3x across cluster]\u001b[0m\n",
      "\u001b[2m\u001b[36m(launch_and_fit pid=45812)\u001b[0m  81/192 [===========>..................] - ETA: 0s - loss: 0.3632 - accuracy: 0.8191\u001b[32m [repeated 2x across cluster]\u001b[0m\n"
     ]
    },
    {
     "name": "stderr",
     "output_type": "stream",
     "text": [
      "DEBUG flwr 2023-07-06 18:49:36,383 | server.py:182 | evaluate_round 8 received 5 results and 0 failures\n",
      "DEBUG:flwr:evaluate_round 8 received 5 results and 0 failures\n",
      "DEBUG flwr 2023-07-06 18:49:36,384 | server.py:218 | fit_round 9: strategy sampled 10 clients (out of 10)\n",
      "DEBUG:flwr:fit_round 9: strategy sampled 10 clients (out of 10)\n"
     ]
    },
    {
     "name": "stdout",
     "output_type": "stream",
     "text": [
      "\u001b[2m\u001b[36m(launch_and_fit pid=47648)\u001b[0m  52/192 [=======>......................] - ETA: 0s - loss: 0.3589 - accuracy: 0.8197 \n",
      "\u001b[2m\u001b[36m(launch_and_evaluate pid=33324)\u001b[0m  50/192 [======>.......................] - ETA: 0s - loss: 0.3454 - accuracy: 0.8219 \n",
      "\u001b[2m\u001b[36m(launch_and_fit pid=45420)\u001b[0m  40/192 [=====>........................] - ETA: 0s - loss: 0.3516 - accuracy: 0.8309  \n",
      "\u001b[2m\u001b[36m(launch_and_fit pid=45812)\u001b[0m 103/192 [===============>..............] - ETA: 0s - loss: 0.3501 - accuracy: 0.8219\n",
      "\u001b[2m\u001b[36m(launch_and_evaluate pid=45812)\u001b[0m Client  8 Evaluating...\u001b[32m [repeated 5x across cluster]\u001b[0m\n",
      "\u001b[2m\u001b[36m(launch_and_fit pid=12032)\u001b[0m Client ID: 3\u001b[32m [repeated 15x across cluster]\u001b[0m\n",
      "\u001b[2m\u001b[36m(launch_and_fit pid=12032)\u001b[0m Client  3 Training...\u001b[32m [repeated 10x across cluster]\u001b[0m\n",
      "\u001b[2m\u001b[36m(launch_and_fit pid=47648)\u001b[0m Epoch 6/10\u001b[32m [repeated 60x across cluster]\u001b[0m\n",
      "\u001b[2m\u001b[36m(launch_and_fit pid=38200)\u001b[0m \u001b[32m [repeated 408x across cluster]\u001b[0m\n",
      "\u001b[2m\u001b[36m(launch_and_fit pid=47648)\u001b[0m   1/192 [..............................] - ETA: 0s - loss: 0.4131 - accuracy: 0.7500\u001b[32m [repeated 65x across cluster]\u001b[0m\n",
      "\u001b[2m\u001b[36m(launch_and_fit pid=25464)\u001b[0m  32/192 [====>.........................] - ETA: 0s - loss: 0.3387 - accuracy: 0.8315\u001b[32m [repeated 44x across cluster]\u001b[0m\n",
      "\u001b[2m\u001b[36m(launch_and_fit pid=45812)\u001b[0m  68/192 [=========>....................] - ETA: 0s - loss: 0.3611 - accuracy: 0.8153\u001b[32m [repeated 29x across cluster]\u001b[0m\n",
      "\u001b[2m\u001b[36m(launch_and_fit pid=12032)\u001b[0m  87/192 [============>.................] - ETA: 0s - loss: 0.3803 - accuracy: 0.8199\u001b[32m [repeated 3x across cluster]\u001b[0m\n",
      "\u001b[2m\u001b[36m(launch_and_fit pid=45420)\u001b[0m 121/192 [=================>............] - ETA: 0s - loss: 0.3506 - accuracy: 0.8213\u001b[32m [repeated 4x across cluster]\u001b[0m\n",
      "\u001b[2m\u001b[36m(launch_and_fit pid=47648)\u001b[0m 145/192 [=====================>........] - ETA: 0s - loss: 0.3539 - accuracy: 0.8136\u001b[32m [repeated 4x across cluster]\u001b[0m\n",
      "\u001b[2m\u001b[36m(launch_and_fit pid=47648)\u001b[0m 185/192 [===========================>..] - ETA: 0s - loss: 0.3538 - accuracy: 0.8153\u001b[32m [repeated 4x across cluster]\u001b[0m\n",
      "\u001b[2m\u001b[36m(launch_and_fit pid=47648)\u001b[0m  93/192 [=============>................] - ETA: 0s - loss: 0.3450 - accuracy: 0.8214\n",
      "\u001b[2m\u001b[36m(launch_and_fit pid=47648)\u001b[0m 192/192 [==============================] - 0s 2ms/step - loss: 0.3526 - accuracy: 0.8154\u001b[32m [repeated 61x across cluster]\u001b[0m\n",
      "\u001b[2m\u001b[36m(launch_and_fit pid=12836)\u001b[0m 168/192 [=========================>....] - ETA: 0s - loss: 0.3490 - accuracy: 0.8200\u001b[32m [repeated 5x across cluster]\u001b[0m\n",
      "\u001b[2m\u001b[36m(launch_and_fit pid=47648)\u001b[0m 188/192 [============================>.] - ETA: 0s - loss: 0.3522 - accuracy: 0.8158\u001b[32m [repeated 19x across cluster]\u001b[0m\n",
      "\u001b[2m\u001b[36m(launch_and_fit pid=12032)\u001b[0m 165/192 [========================>.....] - ETA: 0s - loss: 0.3420 - accuracy: 0.8242\u001b[32m [repeated 25x across cluster]\u001b[0m\n",
      "\u001b[2m\u001b[36m(launch_and_fit pid=45812)\u001b[0m  97/192 [==============>...............] - ETA: 0s - loss: 0.3586 - accuracy: 0.8165\u001b[32m [repeated 31x across cluster]\u001b[0m\n",
      "\u001b[2m\u001b[36m(launch_and_fit pid=12836)\u001b[0m 130/192 [===================>..........] - ETA: 0s - loss: 0.3530 - accuracy: 0.8151\u001b[32m [repeated 24x across cluster]\u001b[0m\n",
      "\u001b[2m\u001b[36m(launch_and_evaluate pid=45812)\u001b[0m Client  8 Evaluating complete... 0.8189753890037537 0.36100122332572937\u001b[32m [repeated 5x across cluster]\u001b[0m\n",
      "\u001b[2m\u001b[36m(launch_and_fit pid=47648)\u001b[0m  29/192 [===>..........................] - ETA: 0s - loss: 0.3470 - accuracy: 0.8287\u001b[32m [repeated 14x across cluster]\u001b[0m\n",
      "\u001b[2m\u001b[36m(launch_and_fit pid=12032)\u001b[0m  63/192 [========>.....................] - ETA: 0s - loss: 0.3442 - accuracy: 0.8301\u001b[32m [repeated 28x across cluster]\u001b[0m\n",
      "\u001b[2m\u001b[36m(launch_and_fit pid=38200)\u001b[0m  93/192 [=============>................] - ETA: 0s - loss: 0.3450 - accuracy: 0.8214\u001b[32m [repeated 20x across cluster]\u001b[0m\n",
      "\u001b[2m\u001b[36m(launch_and_fit pid=47648)\u001b[0m 127/192 [==================>...........] - ETA: 0s - loss: 0.3596 - accuracy: 0.8132\u001b[32m [repeated 21x across cluster]\u001b[0m\n",
      "\u001b[2m\u001b[36m(launch_and_fit pid=47648)\u001b[0m 159/192 [=======================>......] - ETA: 0s - loss: 0.3520 - accuracy: 0.8171\u001b[32m [repeated 19x across cluster]\u001b[0m\n",
      "\u001b[2m\u001b[36m(launch_and_fit pid=25584)\u001b[0m 136/192 [====================>.........] - ETA: 0s - loss: 0.3509 - accuracy: 0.8209\u001b[32m [repeated 5x across cluster]\u001b[0m\n",
      "\u001b[2m\u001b[36m(launch_and_fit pid=47648)\u001b[0m 152/192 [======================>.......] - ETA: 0s - loss: 0.3547 - accuracy: 0.8145\u001b[32m [repeated 4x across cluster]\u001b[0m\n",
      "\u001b[2m\u001b[36m(launch_and_fit pid=47648)\u001b[0m Client  8 Training complete...\u001b[32m [repeated 7x across cluster]\u001b[0m\n",
      "\u001b[2m\u001b[36m(launch_and_evaluate pid=25464)\u001b[0m  93/192 [=============>................] - ETA: 0s - loss: 0.3450 - accuracy: 0.8214\n",
      "\u001b[2m\u001b[36m(launch_and_fit pid=47648)\u001b[0m 192/192 [==============================] - ETA: 0s - loss: 0.3522 - accuracy: 0.8191\u001b[32m [repeated 5x across cluster]\u001b[0m\n",
      "\u001b[2m\u001b[36m(launch_and_fit pid=47648)\u001b[0m  57/192 [=======>......................] - ETA: 0s - loss: 0.3378 - accuracy: 0.8270\n",
      "\u001b[2m\u001b[36m(launch_and_fit pid=33324)\u001b[0m 115/192 [================>.............] - ETA: 0s - loss: 0.3489 - accuracy: 0.8285\n",
      "\u001b[2m\u001b[36m(launch_and_fit pid=25464)\u001b[0m 179/192 [==========================>...] - ETA: 0s - loss: 0.3544 - accuracy: 0.8194\n"
     ]
    },
    {
     "name": "stderr",
     "output_type": "stream",
     "text": [
      "DEBUG flwr 2023-07-06 18:49:40,415 | server.py:232 | fit_round 9 received 10 results and 0 failures\n",
      "DEBUG:flwr:fit_round 9 received 10 results and 0 failures\n"
     ]
    },
    {
     "name": "stdout",
     "output_type": "stream",
     "text": [
      "Server Evaluating... 9\n",
      "958/958 [==============================] - 1s 820us/step - loss: 0.3633 - accuracy: 0.8220\n",
      "958/958 [==============================] - 1s 693us/step\n"
     ]
    },
    {
     "name": "stderr",
     "output_type": "stream",
     "text": [
      "INFO flwr 2023-07-06 18:49:42,216 | server.py:119 | fit progress: (9, 0.3633269965648651, {'accuracy': 0.8219611644744873}, 65.30217919999996)\n",
      "INFO:flwr:fit progress: (9, 0.3633269965648651, {'accuracy': 0.8219611644744873}, 65.30217919999996)\n",
      "DEBUG flwr 2023-07-06 18:49:42,218 | server.py:168 | evaluate_round 9: strategy sampled 5 clients (out of 10)\n",
      "DEBUG:flwr:evaluate_round 9: strategy sampled 5 clients (out of 10)\n"
     ]
    },
    {
     "name": "stdout",
     "output_type": "stream",
     "text": [
      "Prediction:  [[3.5410298e-07 1.1466286e-06 2.9716603e-07 ... 2.1853696e-01\n",
      "  6.0777359e-07 2.0941677e-06]\n",
      " [1.0000000e+00 0.0000000e+00 0.0000000e+00 ... 3.6029818e-10\n",
      "  0.0000000e+00 0.0000000e+00]\n",
      " [1.0000000e+00 1.5558416e-15 9.1151349e-26 ... 5.9494889e-09\n",
      "  1.9268305e-22 1.7420951e-29]\n",
      " ...\n",
      " [1.0000000e+00 0.0000000e+00 0.0000000e+00 ... 5.2997771e-35\n",
      "  0.0000000e+00 0.0000000e+00]\n",
      " [1.4829432e-08 7.8849815e-04 6.0409809e-11 ... 4.4904280e-09\n",
      "  3.2505293e-10 7.2008311e-12]\n",
      " [9.4822092e-08 1.2011166e-06 2.6059049e-06 ... 2.4543780e-01\n",
      "  1.2165741e-05 1.1792133e-06]] (30645, 15)\n",
      "Server Evaluating complete... 0.8219611644744873 0.3633269965648651\n",
      "\u001b[2m\u001b[36m(launch_and_fit pid=45812)\u001b[0m Client ID: 0\n",
      "\u001b[2m\u001b[36m(launch_and_evaluate pid=45420)\u001b[0m  51/192 [======>.......................] - ETA: 0s - loss: 0.3544 - accuracy: 0.8171 \u001b[32m [repeated 3x across cluster]\u001b[0m\n"
     ]
    },
    {
     "name": "stderr",
     "output_type": "stream",
     "text": [
      "DEBUG flwr 2023-07-06 18:49:42,801 | server.py:182 | evaluate_round 9 received 5 results and 0 failures\n",
      "DEBUG:flwr:evaluate_round 9 received 5 results and 0 failures\n",
      "DEBUG flwr 2023-07-06 18:49:42,803 | server.py:218 | fit_round 10: strategy sampled 10 clients (out of 10)\n",
      "DEBUG:flwr:fit_round 10: strategy sampled 10 clients (out of 10)\n"
     ]
    },
    {
     "name": "stdout",
     "output_type": "stream",
     "text": [
      "\u001b[2m\u001b[36m(launch_and_fit pid=45812)\u001b[0m   1/192 [..............................] - ETA: 36s - loss: 0.4039 - accuracy: 0.8281\n",
      "\u001b[2m\u001b[36m(launch_and_fit pid=25584)\u001b[0m 104/192 [===============>..............] - ETA: 0s - loss: 0.3511 - accuracy: 0.8175\u001b[32m [repeated 6x across cluster]\u001b[0m\n",
      "\u001b[2m\u001b[36m(launch_and_evaluate pid=47648)\u001b[0m  54/192 [=======>......................] - ETA: 0s - loss: 0.3349 - accuracy: 0.8249 \n",
      "\u001b[2m\u001b[36m(launch_and_fit pid=33324)\u001b[0m  81/192 [===========>..................] - ETA: 0s - loss: 0.3586 - accuracy: 0.8204\n",
      "\u001b[2m\u001b[36m(launch_and_evaluate pid=45420)\u001b[0m Client  7 Evaluating...\u001b[32m [repeated 5x across cluster]\u001b[0m\n",
      "\u001b[2m\u001b[36m(launch_and_fit pid=45812)\u001b[0m Client ID: 3\u001b[32m [repeated 15x across cluster]\u001b[0m\n",
      "\u001b[2m\u001b[36m(launch_and_fit pid=45812)\u001b[0m Client  3 Training...\u001b[32m [repeated 10x across cluster]\u001b[0m\n",
      "\u001b[2m\u001b[36m(launch_and_fit pid=45812)\u001b[0m Epoch 1/10\u001b[32m [repeated 50x across cluster]\u001b[0m\n",
      "\u001b[2m\u001b[36m(launch_and_fit pid=38200)\u001b[0m \u001b[32m [repeated 413x across cluster]\u001b[0m\n",
      "\u001b[2m\u001b[36m(launch_and_fit pid=33324)\u001b[0m   1/192 [..............................] - ETA: 2:04 - loss: 0.4415 - accuracy: 0.8281\u001b[32m [repeated 55x across cluster]\u001b[0m\n",
      "\u001b[2m\u001b[36m(launch_and_fit pid=38200)\u001b[0m  33/192 [====>.........................] - ETA: 0s - loss: 0.3689 - accuracy: 0.8026  \u001b[32m [repeated 44x across cluster]\u001b[0m\n",
      "\u001b[2m\u001b[36m(launch_and_fit pid=38200)\u001b[0m  65/192 [=========>....................] - ETA: 0s - loss: 0.3529 - accuracy: 0.8120\u001b[32m [repeated 37x across cluster]\u001b[0m\n",
      "\u001b[2m\u001b[36m(launch_and_fit pid=25464)\u001b[0m  86/192 [============>.................] - ETA: 0s - loss: 0.3476 - accuracy: 0.8132\u001b[32m [repeated 4x across cluster]\u001b[0m\n",
      "\u001b[2m\u001b[36m(launch_and_fit pid=45812)\u001b[0m 119/192 [=================>............] - ETA: 0s - loss: 0.3510 - accuracy: 0.8205\u001b[32m [repeated 7x across cluster]\u001b[0m\n",
      "\u001b[2m\u001b[36m(launch_and_evaluate pid=45420)\u001b[0m 146/192 [=====================>........] - ETA: 0s - loss: 0.3516 - accuracy: 0.8251\u001b[32m [repeated 7x across cluster]\u001b[0m\n",
      "\u001b[2m\u001b[36m(launch_and_fit pid=12836)\u001b[0m 183/192 [===========================>..] - ETA: 0s - loss: 0.3534 - accuracy: 0.8158\u001b[32m [repeated 6x across cluster]\u001b[0m\n",
      "\u001b[2m\u001b[36m(launch_and_evaluate pid=45420)\u001b[0m 192/192 [==============================] - 0s 1ms/step - loss: 0.3487 - accuracy: 0.8253\u001b[32m [repeated 55x across cluster]\u001b[0m\n",
      "\u001b[2m\u001b[36m(launch_and_fit pid=25584)\u001b[0m 167/192 [=========================>....] - ETA: 0s - loss: 0.3758 - accuracy: 0.8248\u001b[32m [repeated 7x across cluster]\u001b[0m\n",
      "\u001b[2m\u001b[36m(launch_and_evaluate pid=33324)\u001b[0m 190/192 [============================>.] - ETA: 0s - loss: 0.3499 - accuracy: 0.8214\u001b[32m [repeated 9x across cluster]\u001b[0m\n",
      "\u001b[2m\u001b[36m(launch_and_fit pid=38200)\u001b[0m 160/192 [========================>.....] - ETA: 0s - loss: 0.3529 - accuracy: 0.8173\u001b[32m [repeated 26x across cluster]\u001b[0m\n",
      "\u001b[2m\u001b[36m(launch_and_fit pid=38200)\u001b[0m  96/192 [==============>...............] - ETA: 0s - loss: 0.3554 - accuracy: 0.8132\u001b[32m [repeated 35x across cluster]\u001b[0m\n",
      "\u001b[2m\u001b[36m(launch_and_fit pid=25584)\u001b[0m 133/192 [===================>..........] - ETA: 0s - loss: 0.3827 - accuracy: 0.8273\u001b[32m [repeated 30x across cluster]\u001b[0m\n",
      "\u001b[2m\u001b[36m(launch_and_evaluate pid=45420)\u001b[0m Client  7 Evaluating complete... 0.8252570033073425 0.34869423508644104\u001b[32m [repeated 5x across cluster]\u001b[0m\n",
      "\u001b[2m\u001b[36m(launch_and_fit pid=33324)\u001b[0m  28/192 [===>..........................] - ETA: 0s - loss: 0.3633 - accuracy: 0.8225  \u001b[32m [repeated 6x across cluster]\u001b[0m\n",
      "\u001b[2m\u001b[36m(launch_and_fit pid=45812)\u001b[0m  61/192 [========>.....................] - ETA: 0s - loss: 0.3441 - accuracy: 0.8199\u001b[32m [repeated 13x across cluster]\u001b[0m\n",
      "\u001b[2m\u001b[36m(launch_and_fit pid=47648)\u001b[0m  92/192 [=============>................] - ETA: 0s - loss: 0.3554 - accuracy: 0.8147\u001b[32m [repeated 19x across cluster]\u001b[0m\n",
      "\u001b[2m\u001b[36m(launch_and_fit pid=38200)\u001b[0m 126/192 [==================>...........] - ETA: 0s - loss: 0.3578 - accuracy: 0.8147\u001b[32m [repeated 14x across cluster]\u001b[0m\n",
      "\u001b[2m\u001b[36m(launch_and_fit pid=12032)\u001b[0m 156/192 [=======================>......] - ETA: 0s - loss: 0.3535 - accuracy: 0.8187\u001b[32m [repeated 8x across cluster]\u001b[0m\n",
      "\u001b[2m\u001b[36m(launch_and_fit pid=25464)\u001b[0m 138/192 [====================>.........] - ETA: 0s - loss: 0.3537 - accuracy: 0.8143\u001b[32m [repeated 6x across cluster]\u001b[0m\n",
      "\u001b[2m\u001b[36m(launch_and_fit pid=45812)\u001b[0m 149/192 [======================>.......] - ETA: 0s - loss: 0.3588 - accuracy: 0.8190\u001b[32m [repeated 12x across cluster]\u001b[0m\n",
      "\u001b[2m\u001b[36m(launch_and_fit pid=47648)\u001b[0m Client  4 Training complete...\u001b[32m [repeated 10x across cluster]\u001b[0m\n",
      "\u001b[2m\u001b[36m(launch_and_evaluate pid=12836)\u001b[0m 160/192 [========================>.....] - ETA: 0s - loss: 0.3529 - accuracy: 0.8173\n",
      "\u001b[2m\u001b[36m(launch_and_fit pid=33324)\u001b[0m 170/192 [=========================>....] - ETA: 0s - loss: 0.3586 - accuracy: 0.8114\n",
      "\u001b[2m\u001b[36m(launch_and_fit pid=33324)\u001b[0m 109/192 [================>.............] - ETA: 0s - loss: 0.4290 - accuracy: 0.8202\u001b[32m [repeated 3x across cluster]\u001b[0m\n",
      "\u001b[2m\u001b[36m(launch_and_fit pid=45420)\u001b[0m 179/192 [==========================>...] - ETA: 0s - loss: 0.3675 - accuracy: 0.8131\u001b[32m [repeated 6x across cluster]\u001b[0m\n",
      "\u001b[2m\u001b[36m(launch_and_fit pid=25584)\u001b[0m  71/192 [==========>...................] - ETA: 0s - loss: 0.3364 - accuracy: 0.8310\n",
      "\u001b[2m\u001b[36m(launch_and_fit pid=45420)\u001b[0m  57/192 [=======>......................] - ETA: 0s - loss: 0.3635 - accuracy: 0.8158\n",
      "\u001b[2m\u001b[36m(launch_and_fit pid=25584)\u001b[0m  41/192 [=====>........................] - ETA: 0s - loss: 0.3383 - accuracy: 0.8319\n",
      "\u001b[2m\u001b[36m(launch_and_fit pid=25584)\u001b[0m  74/192 [==========>...................] - ETA: 0s - loss: 0.3398 - accuracy: 0.8269\n",
      "\u001b[2m\u001b[36m(launch_and_fit pid=38200)\u001b[0m 192/192 [==============================] - ETA: 0s - loss: 0.3480 - accuracy: 0.8181\n"
     ]
    },
    {
     "name": "stderr",
     "output_type": "stream",
     "text": [
      "DEBUG flwr 2023-07-06 18:49:46,907 | server.py:232 | fit_round 10 received 10 results and 0 failures\n",
      "DEBUG:flwr:fit_round 10 received 10 results and 0 failures\n"
     ]
    },
    {
     "name": "stdout",
     "output_type": "stream",
     "text": [
      "Server Evaluating... 10\n",
      "958/958 [==============================] - 1s 848us/step - loss: 0.3626 - accuracy: 0.8236\n",
      "958/958 [==============================] - 1s 720us/step\n"
     ]
    },
    {
     "name": "stderr",
     "output_type": "stream",
     "text": [
      "INFO flwr 2023-07-06 18:49:48,759 | server.py:119 | fit progress: (10, 0.36255672574043274, {'accuracy': 0.823625385761261}, 71.84539560000121)\n",
      "INFO:flwr:fit progress: (10, 0.36255672574043274, {'accuracy': 0.823625385761261}, 71.84539560000121)\n",
      "DEBUG flwr 2023-07-06 18:49:48,760 | server.py:168 | evaluate_round 10: strategy sampled 5 clients (out of 10)\n",
      "DEBUG:flwr:evaluate_round 10: strategy sampled 5 clients (out of 10)\n"
     ]
    },
    {
     "name": "stdout",
     "output_type": "stream",
     "text": [
      "Prediction:  [[2.2826885e-07 2.2756515e-06 5.9995097e-07 ... 2.3113169e-01\n",
      "  7.9292977e-07 9.1562288e-06]\n",
      " [1.0000000e+00 0.0000000e+00 0.0000000e+00 ... 4.9580704e-12\n",
      "  0.0000000e+00 0.0000000e+00]\n",
      " [1.0000000e+00 9.6321007e-17 5.5370062e-27 ... 9.8976194e-10\n",
      "  8.3224826e-24 1.8158216e-31]\n",
      " ...\n",
      " [1.0000000e+00 0.0000000e+00 0.0000000e+00 ... 0.0000000e+00\n",
      "  0.0000000e+00 0.0000000e+00]\n",
      " [1.5424488e-08 3.9670625e-04 3.4636075e-11 ... 1.7385064e-09\n",
      "  8.0217936e-11 1.9537913e-12]\n",
      " [8.3317858e-08 2.2541126e-06 4.2989959e-06 ... 2.5739041e-01\n",
      "  1.1306423e-05 2.4969152e-06]] (30645, 15)\n",
      "Server Evaluating complete... 0.823625385761261 0.36255672574043274\n",
      "\u001b[2m\u001b[36m(launch_and_evaluate pid=45420)\u001b[0m  48/192 [======>.......................] - ETA: 0s - loss: 0.3570 - accuracy: 0.8262 \u001b[32m [repeated 4x across cluster]\u001b[0m\n",
      "\u001b[2m\u001b[36m(launch_and_fit pid=25584)\u001b[0m 105/192 [===============>..............] - ETA: 0s - loss: 0.3429 - accuracy: 0.8275\u001b[32m [repeated 3x across cluster]\u001b[0m\n"
     ]
    },
    {
     "name": "stderr",
     "output_type": "stream",
     "text": [
      "DEBUG flwr 2023-07-06 18:49:49,278 | server.py:182 | evaluate_round 10 received 5 results and 0 failures\n",
      "DEBUG:flwr:evaluate_round 10 received 5 results and 0 failures\n",
      "INFO flwr 2023-07-06 18:49:49,280 | server.py:147 | FL finished in 72.36596099999588\n",
      "INFO:flwr:FL finished in 72.36596099999588\n",
      "INFO flwr 2023-07-06 18:49:49,281 | app.py:218 | app_fit: losses_distributed [(1, 0.5157408833503723), (2, 0.4572304666042328), (3, 0.40484787821769713), (4, 0.37182614803314207), (5, 0.3628541588783264), (6, 0.362065190076828), (7, 0.3600628852844238), (8, 0.353603732585907), (9, 0.35691051483154296), (10, 0.3564058244228363)]\n",
      "INFO:flwr:app_fit: losses_distributed [(1, 0.5157408833503723), (2, 0.4572304666042328), (3, 0.40484787821769713), (4, 0.37182614803314207), (5, 0.3628541588783264), (6, 0.362065190076828), (7, 0.3600628852844238), (8, 0.353603732585907), (9, 0.35691051483154296), (10, 0.3564058244228363)]\n",
      "INFO flwr 2023-07-06 18:49:49,282 | app.py:219 | app_fit: metrics_distributed_fit {}\n",
      "INFO:flwr:app_fit: metrics_distributed_fit {}\n",
      "INFO flwr 2023-07-06 18:49:49,283 | app.py:220 | app_fit: metrics_distributed {}\n",
      "INFO:flwr:app_fit: metrics_distributed {}\n",
      "INFO flwr 2023-07-06 18:49:49,284 | app.py:221 | app_fit: losses_centralized [(0, 2.7574028968811035), (1, 0.5143721699714661), (2, 0.4589138627052307), (3, 0.40377622842788696), (4, 0.376365602016449), (5, 0.36888301372528076), (6, 0.365296334028244), (7, 0.3644757866859436), (8, 0.36345842480659485), (9, 0.3633269965648651), (10, 0.36255672574043274)]\n",
      "INFO:flwr:app_fit: losses_centralized [(0, 2.7574028968811035), (1, 0.5143721699714661), (2, 0.4589138627052307), (3, 0.40377622842788696), (4, 0.376365602016449), (5, 0.36888301372528076), (6, 0.365296334028244), (7, 0.3644757866859436), (8, 0.36345842480659485), (9, 0.3633269965648651), (10, 0.36255672574043274)]\n",
      "INFO flwr 2023-07-06 18:49:49,285 | app.py:222 | app_fit: metrics_centralized {'accuracy': [(0, 0.056126609444618225), (1, 0.7136237621307373), (2, 0.7856420278549194), (3, 0.8178169131278992), (4, 0.819840133190155), (5, 0.8222548365592957), (6, 0.8212432861328125), (7, 0.821634829044342), (8, 0.8197095990180969), (9, 0.8219611644744873), (10, 0.823625385761261)]}\n",
      "INFO:flwr:app_fit: metrics_centralized {'accuracy': [(0, 0.056126609444618225), (1, 0.7136237621307373), (2, 0.7856420278549194), (3, 0.8178169131278992), (4, 0.819840133190155), (5, 0.8222548365592957), (6, 0.8212432861328125), (7, 0.821634829044342), (8, 0.8197095990180969), (9, 0.8219611644744873), (10, 0.823625385761261)]}\n"
     ]
    },
    {
     "name": "stdout",
     "output_type": "stream",
     "text": [
      "\u001b[2m\u001b[36m(launch_and_evaluate pid=45812)\u001b[0m Client  4 Evaluating...\u001b[32m [repeated 5x across cluster]\u001b[0m\n",
      "\u001b[2m\u001b[36m(launch_and_evaluate pid=45812)\u001b[0m Client ID: 4\u001b[32m [repeated 5x across cluster]\u001b[0m\n",
      "\u001b[2m\u001b[36m(launch_and_fit pid=33324)\u001b[0m Epoch 10/10\u001b[32m [repeated 90x across cluster]\u001b[0m\n",
      "\u001b[2m\u001b[36m(launch_and_evaluate pid=25464)\u001b[0m \u001b[32m [repeated 659x across cluster]\u001b[0m\n",
      "\u001b[2m\u001b[36m(launch_and_evaluate pid=25464)\u001b[0m   1/192 [..............................] - ETA: 32s - loss: 0.4026 - accuracy: 0.8438\u001b[32m [repeated 91x across cluster]\u001b[0m\n",
      "\u001b[2m\u001b[36m(launch_and_fit pid=33324)\u001b[0m  34/192 [====>.........................] - ETA: 0s - loss: 0.3459 - accuracy: 0.8267\u001b[32m [repeated 65x across cluster]\u001b[0m\n",
      "\u001b[2m\u001b[36m(launch_and_fit pid=33324)\u001b[0m  67/192 [=========>....................] - ETA: 0s - loss: 0.3442 - accuracy: 0.8258\u001b[32m [repeated 53x across cluster]\u001b[0m\n",
      "\u001b[2m\u001b[36m(launch_and_fit pid=33324)\u001b[0m  87/192 [============>.................] - ETA: 0s - loss: 0.3419 - accuracy: 0.8306\u001b[32m [repeated 16x across cluster]\u001b[0m\n",
      "\u001b[2m\u001b[36m(launch_and_fit pid=33324)\u001b[0m 117/192 [=================>............] - ETA: 0s - loss: 0.3461 - accuracy: 0.8279\u001b[32m [repeated 21x across cluster]\u001b[0m\n",
      "\u001b[2m\u001b[36m(launch_and_fit pid=45812)\u001b[0m 143/192 [=====================>........] - ETA: 0s - loss: 0.3364 - accuracy: 0.8312\u001b[32m [repeated 7x across cluster]\u001b[0m\n",
      "\u001b[2m\u001b[36m(launch_and_fit pid=33324)\u001b[0m 184/192 [===========================>..] - ETA: 0s - loss: 0.3464 - accuracy: 0.8260\u001b[32m [repeated 21x across cluster]\u001b[0m\n",
      "\u001b[2m\u001b[36m(launch_and_fit pid=33324)\u001b[0m 192/192 [==============================] - 0s 1ms/step - loss: 0.3470 - accuracy: 0.8257\u001b[32m [repeated 100x across cluster]\u001b[0m\n",
      "\u001b[2m\u001b[36m(launch_and_fit pid=25464)\u001b[0m 172/192 [=========================>....] - ETA: 0s - loss: 0.3494 - accuracy: 0.8189\u001b[32m [repeated 8x across cluster]\u001b[0m\n",
      "\u001b[2m\u001b[36m(launch_and_fit pid=12836)\u001b[0m 190/192 [============================>.] - ETA: 0s - loss: 0.3462 - accuracy: 0.8225\u001b[32m [repeated 25x across cluster]\u001b[0m\n",
      "\u001b[2m\u001b[36m(launch_and_fit pid=47648)\u001b[0m 166/192 [========================>.....] - ETA: 0s - loss: 0.3529 - accuracy: 0.8213\u001b[32m [repeated 31x across cluster]\u001b[0m\n",
      "\u001b[2m\u001b[36m(launch_and_fit pid=33324)\u001b[0m 101/192 [==============>...............] - ETA: 0s - loss: 0.3460 - accuracy: 0.8284\u001b[32m [repeated 45x across cluster]\u001b[0m\n",
      "\u001b[2m\u001b[36m(launch_and_fit pid=25464)\u001b[0m 133/192 [===================>..........] - ETA: 0s - loss: 0.3517 - accuracy: 0.8156\u001b[32m [repeated 38x across cluster]\u001b[0m\n",
      "\u001b[2m\u001b[36m(launch_and_fit pid=45812)\u001b[0m  31/192 [===>..........................] - ETA: 0s - loss: 0.3396 - accuracy: 0.8281\u001b[32m [repeated 24x across cluster]\u001b[0m\n",
      "\u001b[2m\u001b[36m(launch_and_fit pid=45812)\u001b[0m  62/192 [========>.....................] - ETA: 0s - loss: 0.3444 - accuracy: 0.8223\u001b[32m [repeated 32x across cluster]\u001b[0m\n",
      "\u001b[2m\u001b[36m(launch_and_fit pid=45812)\u001b[0m  94/192 [=============>................] - ETA: 0s - loss: 0.3408 - accuracy: 0.8250\u001b[32m [repeated 25x across cluster]\u001b[0m\n",
      "\u001b[2m\u001b[36m(launch_and_fit pid=45812)\u001b[0m 126/192 [==================>...........] - ETA: 0s - loss: 0.3411 - accuracy: 0.8270\u001b[32m [repeated 23x across cluster]\u001b[0m\n",
      "\u001b[2m\u001b[36m(launch_and_fit pid=38200)\u001b[0m 158/192 [=======================>......] - ETA: 0s - loss: 0.3471 - accuracy: 0.8179\u001b[32m [repeated 24x across cluster]\u001b[0m\n",
      "\u001b[2m\u001b[36m(launch_and_fit pid=33324)\u001b[0m 138/192 [====================>.........] - ETA: 0s - loss: 0.3457 - accuracy: 0.8265\u001b[32m [repeated 7x across cluster]\u001b[0m\n",
      "\u001b[2m\u001b[36m(launch_and_fit pid=33324)\u001b[0m 150/192 [======================>.......] - ETA: 0s - loss: 0.3465 - accuracy: 0.8268\u001b[32m [repeated 21x across cluster]\u001b[0m\n",
      "\u001b[2m\u001b[36m(launch_and_fit pid=33324)\u001b[0m Client  1 Training complete...\u001b[32m [repeated 10x across cluster]\u001b[0m\n",
      "\u001b[2m\u001b[36m(launch_and_fit pid=25584)\u001b[0m 107/192 [===============>..............] - ETA: 0s - loss: 0.4247 - accuracy: 0.8246\n",
      "\u001b[2m\u001b[36m(launch_and_evaluate pid=33324)\u001b[0m 109/192 [================>.............] - ETA: 0s - loss: 0.3553 - accuracy: 0.8212\n"
     ]
    },
    {
     "data": {
      "text/plain": [
       "History (loss, distributed):\n",
       "\tround 1: 0.5157408833503723\n",
       "\tround 2: 0.4572304666042328\n",
       "\tround 3: 0.40484787821769713\n",
       "\tround 4: 0.37182614803314207\n",
       "\tround 5: 0.3628541588783264\n",
       "\tround 6: 0.362065190076828\n",
       "\tround 7: 0.3600628852844238\n",
       "\tround 8: 0.353603732585907\n",
       "\tround 9: 0.35691051483154296\n",
       "\tround 10: 0.3564058244228363\n",
       "History (loss, centralized):\n",
       "\tround 0: 2.7574028968811035\n",
       "\tround 1: 0.5143721699714661\n",
       "\tround 2: 0.4589138627052307\n",
       "\tround 3: 0.40377622842788696\n",
       "\tround 4: 0.376365602016449\n",
       "\tround 5: 0.36888301372528076\n",
       "\tround 6: 0.365296334028244\n",
       "\tround 7: 0.3644757866859436\n",
       "\tround 8: 0.36345842480659485\n",
       "\tround 9: 0.3633269965648651\n",
       "\tround 10: 0.36255672574043274\n",
       "History (metrics, centralized):\n",
       "{'accuracy': [(0, 0.056126609444618225), (1, 0.7136237621307373), (2, 0.7856420278549194), (3, 0.8178169131278992), (4, 0.819840133190155), (5, 0.8222548365592957), (6, 0.8212432861328125), (7, 0.821634829044342), (8, 0.8197095990180969), (9, 0.8219611644744873), (10, 0.823625385761261)]}"
      ]
     },
     "execution_count": 54,
     "metadata": {},
     "output_type": "execute_result"
    },
    {
     "name": "stdout",
     "output_type": "stream",
     "text": [
      "\u001b[2m\u001b[36m(launch_and_evaluate pid=25464)\u001b[0m Client  1 Evaluating complete... 0.8281938433647156 0.38641098141670227\n",
      "\u001b[2m\u001b[36m(launch_and_fit pid=25584)\u001b[0m 174/192 [==========================>...] - ETA: 0s - loss: 0.3435 - accuracy: 0.8279\u001b[32m [repeated 13x across cluster]\u001b[0m\n"
     ]
    }
   ],
   "source": [
    "import os\n",
    "import flwr as fl\n",
    "import numpy as np\n",
    "import tensorflow as tf\n",
    "\n",
    "print('scikit-learn {}.'.format(sklearn.__version__))\n",
    "print(\"flwr\", fl.__version__)\n",
    "print(\"numpy\", np.__version__)\n",
    "print(\"tf\", tf.__version__)\n",
    "# Make TensorFlow log less verbose\n",
    "os.environ[\"TF_CPP_MIN_LOG_LEVEL\"] = \"3\"\n",
    "\n",
    "from tensorflow.keras.models import Sequential\n",
    "from tensorflow.keras.layers import Flatten\n",
    "from tensorflow.keras.layers import Dense\n",
    "from tensorflow.keras.layers import Activation\n",
    "from tensorflow.keras.layers import BatchNormalization\n",
    "from tensorflow.keras.layers import Dropout\n",
    "\n",
    "\n",
    "class NumpyFlowerClient(fl.client.NumPyClient):\n",
    "    def __init__(self, cid, model, train_data, train_labels):\n",
    "        self.model = model\n",
    "        self.cid = cid\n",
    "        self.train_data = train_data\n",
    "        self.train_labels = train_labels\n",
    "\n",
    "    def get_parameters(self, config):\n",
    "        return self.model.get_weights()\n",
    "\n",
    "    def fit(self, parameters, config):\n",
    "        self.model.set_weights(parameters)\n",
    "        print (\"Client \", self.cid, \"Training...\")\n",
    "        self.model.fit(self.train_data, self.train_labels, epochs=10, batch_size=64)\n",
    "        print (\"Client \", self.cid, \"Training complete...\")\n",
    "        return self.model.get_weights(), len(self.train_data), {}\n",
    "\n",
    "    def evaluate(self, parameters, config):\n",
    "        self.model.set_weights(parameters)\n",
    "        print (\"Client \", self.cid, \"Evaluating...\")\n",
    "        loss, accuracy = self.model.evaluate(self.train_data, self.train_labels, batch_size=64)\n",
    "        print (\"Client \", self.cid, \"Evaluating complete...\", accuracy, loss)\n",
    "        return loss, len(self.train_data), {\"accuracy\": accuracy}\n",
    "    \n",
    "    def predict(self, incoming):\n",
    "        prediction = np.argmax( self.model.predict(incoming) ,axis=1)\n",
    "        return prediction\n",
    "\n",
    "def client_fn(cid: str) -> NumpyFlowerClient:\n",
    "    \"\"\"Create a Flower client representing a single organization.\"\"\"\n",
    "\n",
    "    # Load model\n",
    "    #model = tf.keras.applications.MobileNetV2((32, 32, 3), classes=10, weights=None)\n",
    "    #model.compile(\"adam\", \"sparse_categorical_crossentropy\", metrics=[\"accuracy\"])\n",
    "\n",
    "    print (\"Client ID:\", cid)\n",
    "\n",
    "    model = Sequential([\n",
    "      #Flatten(input_shape=(79,1)),\n",
    "      Flatten(input_shape=(fl_X_train[0].shape[1] , 1)),\n",
    "      Dense(50, activation='relu'),  \n",
    "      Dense(25, activation='relu'),  \n",
    "      Dense(len(label.unique()), activation='softmax')\n",
    "    ])\n",
    "    \n",
    "    model.compile(optimizer='adam', loss='sparse_categorical_crossentropy', metrics=['accuracy'])\n",
    "\n",
    "   \n",
    "    partition_id = int(cid)\n",
    "    X_train_c = fl_X_train[partition_id]\n",
    "    y_train_c = fl_y_train[partition_id]\n",
    "\n",
    "    # Create a  single Flower client representing a single organization\n",
    "    return NumpyFlowerClient(cid, model, X_train_c, y_train_c)\n",
    "\n",
    "\n",
    "print (\"Deploy simulation...\")\n",
    "\n",
    "from sklearn.metrics import confusion_matrix, ConfusionMatrixDisplay\n",
    "eval_count = 0\n",
    "\n",
    "def get_evaluate_fn(server_model):\n",
    "    global eval_count\n",
    "    \"\"\"Return an evaluation function for server-side evaluation.\"\"\"\n",
    "    # The `evaluate` function will be called after every round\n",
    "    \n",
    "    \n",
    "    def evaluate(server_round, parameters, config):\n",
    "        global eval_count\n",
    "        \n",
    "        # Update model with the latest parameters\n",
    "        server_model.set_weights(parameters)\n",
    "        print (\"Server Evaluating...\", eval_count)\n",
    "        loss, accuracy = server_model.evaluate(X_test, y_test)\n",
    "        \n",
    "        y_pred = server_model.predict(X_test)\n",
    "        print (\"Prediction: \", y_pred, y_pred.shape)\n",
    "        #cmatrix = confusion_matrix(y_test, np.rint(y_pred))\n",
    "        #print (\"confusion_matrix:\", cmatrix, cmatrix.shape)\n",
    "                        \n",
    "        print (\"Server Evaluating complete...\", accuracy, loss)\n",
    "        \n",
    "        np.save(\"y_pred-\" + str(eval_count) + \".npy\", y_pred)\n",
    "        #np.save(\"cmatrix-\" + str(eval_count) + \".npy\", cmatrix)\n",
    "        eval_count = eval_count + 1\n",
    "        \n",
    "        return loss, {\"accuracy\": accuracy}\n",
    "    return evaluate\n",
    "\n",
    "\n",
    "\n",
    "server_model = Sequential([\n",
    "    #Flatten(input_shape=(79,1)),\n",
    "    Flatten(input_shape=(fl_X_train[0].shape[1] , 1)),\n",
    "    Dense(50, activation='relu'),  \n",
    "    Dense(25, activation='relu'),  \n",
    "    Dense(len(label.unique()), activation='softmax')\n",
    "])\n",
    "\n",
    "\n",
    "server_model.compile(optimizer='adam', loss='sparse_categorical_crossentropy', metrics=['accuracy'])\n",
    "\n",
    "\n",
    "\n",
    "# Create FedAvg strategy\n",
    "strategy = fl.server.strategy.FedAvg(\n",
    "        fraction_fit=1.0,\n",
    "        fraction_evaluate=0.5,\n",
    "        min_fit_clients=2, #10,\n",
    "        min_evaluate_clients=2, #5,\n",
    "        min_available_clients=2, #10,\n",
    "        evaluate_fn=get_evaluate_fn(server_model),\n",
    "        #evaluate_metrics_aggregation_fn=weighted_average,\n",
    ")\n",
    "\n",
    "# Start simulation\n",
    "fl.simulation.start_simulation(\n",
    "    client_fn=client_fn,\n",
    "    num_clients=NUM_OF_CLIENTS,\n",
    "    config=fl.server.ServerConfig(num_rounds=NUM_OF_ROUNDS),\n",
    "    strategy=strategy,\n",
    ")"
   ]
  },
  {
   "cell_type": "code",
   "execution_count": null,
   "metadata": {},
   "outputs": [],
   "source": []
  }
 ],
 "metadata": {
  "kernelspec": {
   "display_name": "base",
   "language": "python",
   "name": "python3"
  },
  "language_info": {
   "codemirror_mode": {
    "name": "ipython",
    "version": 3
   },
   "file_extension": ".py",
   "mimetype": "text/x-python",
   "name": "python",
   "nbconvert_exporter": "python",
   "pygments_lexer": "ipython3",
   "version": "3.10.9"
  },
  "orig_nbformat": 4
 },
 "nbformat": 4,
 "nbformat_minor": 2
}
