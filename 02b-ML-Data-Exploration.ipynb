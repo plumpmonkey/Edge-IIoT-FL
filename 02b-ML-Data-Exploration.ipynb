{
 "cells": [
  {
   "cell_type": "code",
   "execution_count": 36,
   "metadata": {},
   "outputs": [],
   "source": [
    "import os\n",
    "import pandas as pd\n",
    "import numpy as np\n",
    "from sklearn.utils import shuffle\n",
    "from sklearn.model_selection import train_test_split\n",
    "from sklearn.preprocessing import StandardScaler\n",
    "from sklearn import preprocessing"
   ]
  },
  {
   "cell_type": "code",
   "execution_count": 37,
   "metadata": {},
   "outputs": [],
   "source": [
    "dataset_path = \"../datasets/Edge-IIoT/\"\n",
    "\n",
    "df = pd.read_pickle(dataset_path + \"Edge-IIoTset dataset/Selected dataset for ML and DL/ML-EdgeIIoT-dataset.pkl\")   "
   ]
  },
  {
   "cell_type": "markdown",
   "metadata": {},
   "source": [
    "<a id=\"Explore\"></a>\n",
    "## Explore the dataset"
   ]
  },
  {
   "cell_type": "code",
   "execution_count": 38,
   "metadata": {},
   "outputs": [
    {
     "name": "stdout",
     "output_type": "stream",
     "text": [
      "Total number of samples:  157800\n"
     ]
    }
   ],
   "source": [
    "print(\"Total number of samples: \", df.shape[0])"
   ]
  },
  {
   "cell_type": "markdown",
   "metadata": {},
   "source": [
    "### Attack types and counts"
   ]
  },
  {
   "cell_type": "code",
   "execution_count": 39,
   "metadata": {},
   "outputs": [
    {
     "name": "stdout",
     "output_type": "stream",
     "text": [
      "Normal                   24301\n",
      "DDoS_UDP                 14498\n",
      "DDoS_ICMP                14090\n",
      "Ransomware               10925\n",
      "DDoS_HTTP                10561\n",
      "SQL_injection            10311\n",
      "Uploading                10269\n",
      "DDoS_TCP                 10247\n",
      "Backdoor                 10195\n",
      "Vulnerability_scanner    10076\n",
      "Port_Scanning            10071\n",
      "XSS                      10052\n",
      "Password                  9989\n",
      "MITM                      1214\n",
      "Fingerprinting            1001\n",
      "Name: Attack_type, dtype: int64\n",
      "157800\n"
     ]
    }
   ],
   "source": [
    "print(df['Attack_type'].value_counts()) # print the number of each type of attack\n",
    "\n",
    "# Sum the counts of each type of attack\n",
    "print(df['Attack_type'].value_counts().sum())\n"
   ]
  },
  {
   "cell_type": "code",
   "execution_count": 40,
   "metadata": {},
   "outputs": [
    {
     "name": "stdout",
     "output_type": "stream",
     "text": [
      "Total number of attack rows = 133499\n",
      "Total number of normal rows = 24301\n",
      "Total number of rows = 157800 - total Attack row 133499 = 24301\n"
     ]
    }
   ],
   "source": [
    "# Sum the number of rows where Attack_type != 'Normal'\n",
    "print(f\"Total number of attack rows = {df[df['Attack_type'] != 'Normal'].shape[0]}\")\n",
    "print(f\"Total number of normal rows = {df[df['Attack_type'] == 'Normal'].shape[0]}\")\n",
    "\n",
    "print(f\"Total number of rows = {df.shape[0]} - total Attack row {df[df['Attack_type'] != 'Normal'].shape[0]} = {df.shape[0] - df[df['Attack_type'] != 'Normal'].shape[0]}\")\n"
   ]
  },
  {
   "cell_type": "markdown",
   "metadata": {},
   "source": [
    "## IP Addresses"
   ]
  },
  {
   "cell_type": "markdown",
   "metadata": {},
   "source": [
    "Define the Known IP Addresses, including attacker IPs."
   ]
  },
  {
   "cell_type": "code",
   "execution_count": 55,
   "metadata": {},
   "outputs": [
    {
     "name": "stdout",
     "output_type": "stream",
     "text": [
      "known_sensor_ip_addresses: ['192.168.0.101', '192.168.2.194', '192.168.3.18', '192.168.4.73', '192.168.5.47', '192.168.6.56', '192.768.7.62', '192.168.8.163']\n",
      "known_attacker_ip_addresses: \n",
      "Number of IPs 22\n",
      "['192.168.0.170', '172.217.19.42', '133.149.252.77', '207.192.25.133', '49.81.59.152', '142.250.201.10', '216.58.198.74', '227.117.33.125', '192.168.0.152', '166.153.227.121', '183.223.100.122', '16.226.184.201', '142.250.200.205', '220.146.94.148', '213.117.18.213', '91.184.12.91', '104.16.87.20', '192.168.0.101', '172.217.19.35', '153.125.214.15', '190.123.219.128', '94.196.109.185']\n"
     ]
    }
   ],
   "source": [
    "known_sensor_ip_addresses = [ '192.168.0.101', '192.168.2.194', '192.168.3.18', '192.168.4.73', '192.168.5.47', '192.168.6.56', '192.768.7.62', '192.168.8.163']\n",
    "print (\"known_sensor_ip_addresses:\", known_sensor_ip_addresses)\n",
    "\n",
    "tcp_dos_attack_ip_addresses = [ '207.192.25.133', '94.196.109.185', '133.149.252.77', '220.146.94.148' ]\n",
    "tdp_dos_atack_ip_addresses = [ '190.123.219.128', '16.226.184.201', '153.125.214.15', '91.184.12.91' ]\n",
    "http_attack_ip_addresses = [ '192.168.0.170', '216.58.198.74' ]\n",
    "icmp_flood_attack_ip_addresses = [ '213.117.18.213', '183.223.100.122', '166.153.227.121', '49.81.59.152', '227.117.33.125' ]\n",
    "port_scan_attack_ip_addresses = [ '192.168.0.170' ]\n",
    "os_fingerprinting_attack_ip_addresses = [ '192.168.0.170' ]\n",
    "vuln_scan_attack_ip_addresses = [ '192.168.0.170', '142.250.200.205', '172.217.19.35', '142.250.201.10' ]\n",
    "dns_spoof_attack_ip_addresses = [ '192.168.0.101', '192.168.0.152', '172.217.19.35', '192.168.0.170' ]\n",
    "arp_spoof_attack_ip_addresses = [ '192.168.0.101', '192.168.0.152', '172.217.19.35', '192.168.0.170' ]\n",
    "xss_attack_ip_addresses = [ '192.168.0.170', '172.217.19.42', '104.16.87.20' ]\n",
    "sql_injection_attack_ip_addresses = [ '192.168.0.170' ]\n",
    "upload_attack_ip_addresses = [ '192.168.0.170' ]\n",
    "backdoor_attack_ip_addresses = [ '192.168.0.170' ]\n",
    "password_attack_ip_addresses = [ '192.168.0.170' ]\n",
    "ransomware_attack_ip_addresses = [ '192.168.0.170' ] \n",
    "\n",
    "# Combine all attack IP addresses into one list, ensuring no duplicates\n",
    "known_attacker_ip_addresses = list(set(tcp_dos_attack_ip_addresses + tdp_dos_atack_ip_addresses + http_attack_ip_addresses + icmp_flood_attack_ip_addresses + port_scan_attack_ip_addresses + os_fingerprinting_attack_ip_addresses + vuln_scan_attack_ip_addresses + dns_spoof_attack_ip_addresses + arp_spoof_attack_ip_addresses + xss_attack_ip_addresses + sql_injection_attack_ip_addresses + upload_attack_ip_addresses + backdoor_attack_ip_addresses + password_attack_ip_addresses + ransomware_attack_ip_addresses))\n",
    "print (f\"known_attacker_ip_addresses: \\nNumber of IPs {len(known_attacker_ip_addresses)}\\n{known_attacker_ip_addresses}\")\n"
   ]
  },
  {
   "cell_type": "markdown",
   "metadata": {},
   "source": [
    "Show the different IP addresses in the dataset for Attack Type 0 (Benign) and Attack Type 1 (Malicious)"
   ]
  },
  {
   "cell_type": "code",
   "execution_count": 42,
   "metadata": {},
   "outputs": [
    {
     "name": "stdout",
     "output_type": "stream",
     "text": [
      "Number of unique IP addresses for attack_label 0: 13\n",
      "Attack type 0 unique IPs:\n",
      "['192.168.0.128' '192.168.0.101' '0' '0.0.0.0' '143.107.229.210'\n",
      " '85.254.217.5' '197.84.150.123' '160.119.193.252' '192.168.0.1'\n",
      " '224.0.0.251' '224.0.0.1' '94.228.220.14' '196.200.160.123']\n"
     ]
    }
   ],
   "source": [
    "# Filter the DataFrame to only include rows where attack_label is 0\n",
    "attack_label_0 = df[df[\"Attack_label\"] == 0]\n",
    "\n",
    "# Get the unique IP addresses in the ip.src_host and ip.dst_host columns\n",
    "benign_unique_ips = pd.concat([attack_label_0[\"ip.src_host\"], attack_label_0[\"ip.dst_host\"]]).unique()\n",
    "\n",
    "# Get the number of unique IP addresses\n",
    "num_benign_unique_ips = len(benign_unique_ips)\n",
    "\n",
    "# Print the number of unique IP addresses\n",
    "print(\"Number of unique IP address pairs for attack_label 0:\", num_benign_unique_ips)\n",
    "\n",
    "# print out the unique IPs\n",
    "print(\"Attack type 0 unique IPs:\")\n",
    "print(benign_unique_ips)"
   ]
  },
  {
   "cell_type": "code",
   "execution_count": 53,
   "metadata": {},
   "outputs": [
    {
     "name": "stdout",
     "output_type": "stream",
     "text": [
      "Number of unique IP addresses for attack_label 1: 25712\n",
      "Attack type 1 unique IPs:\n",
      "['192.168.0.152' '192.168.0.101' '0' ... '26.223.146.121' '188.160.30.160'\n",
      " '126.188.47.126']\n"
     ]
    }
   ],
   "source": [
    "# Filter the DataFrame to only include rows where attack_label is 1\n",
    "attack_label_1 = df[df[\"Attack_label\"] == 1]\n",
    "\n",
    "# Get the unique IP addresses in the ip.src_host and ip.dst_host columns\n",
    "malicious_unique_ips = pd.concat([attack_label_1[\"ip.src_host\"], attack_label_1[\"ip.dst_host\"]]).unique()\n",
    "\n",
    "# Get the number of unique IP addresses\n",
    "num_malicious_unique_ips = len(malicious_unique_ips)\n",
    "\n",
    "# Print the number of unique IP addresses\n",
    "print(\"Number of unique IP address pairs for attack_label 1:\", num_malicious_unique_ips)\n",
    "\n",
    "# print out the unique IPs\n",
    "print(\"Attack type 1 unique IPs:\")\n",
    "print(malicious_unique_ips)"
   ]
  },
  {
   "cell_type": "markdown",
   "metadata": {},
   "source": [
    "See if any IPs are in both benign and malicious datasets."
   ]
  },
  {
   "cell_type": "code",
   "execution_count": 44,
   "metadata": {},
   "outputs": [
    {
     "name": "stdout",
     "output_type": "stream",
     "text": [
      "Number of IPs in both lists: 7\n",
      "IPs in both lists:\n",
      "{'0', '224.0.0.1', '192.168.0.1', '224.0.0.251', '192.168.0.101', '0.0.0.0', '192.168.0.128'}\n"
     ]
    }
   ],
   "source": [
    "# Determine how many ips are in both lists\n",
    "print(\"Number of IPs in both lists:\", len(set(benign_unique_ips).intersection(malicious_unique_ips)))\n",
    "\n",
    "# Show the IPs that are in both lists\n",
    "print(\"IPs in both lists:\")\n",
    "print(set(benign_unique_ips).intersection(malicious_unique_ips))\n"
   ]
  },
  {
   "cell_type": "markdown",
   "metadata": {},
   "source": [
    "Examine the ip.src.host and ip.dst_host columns where attack_label is 1. \n",
    "If one of the IPs is in the known_attacker_ip_addresses list, add the other IP address to a list of attacked_ips, ensuring the list is unique. This should tell us what is attacked\n"
   ]
  },
  {
   "cell_type": "code",
   "execution_count": 59,
   "metadata": {},
   "outputs": [
    {
     "name": "stdout",
     "output_type": "stream",
     "text": [
      "Attacked IPs:\n",
      "['192.168.0.128', '0.0']\n"
     ]
    }
   ],
   "source": [
    "# look at the ip.src.host and ip.dst_host columns where attack_label is 1. If one of the IPs is in the known_attacker_ip_addresses list, add the other IP address to a list of attacked_ips. Ensure the list is unique.\n",
    "attacked_ips = []\n",
    "for index, row in attack_label_1.iterrows():\n",
    "    if row[\"ip.src_host\"] in known_attacker_ip_addresses:\n",
    "        attacked_ips.append(row[\"ip.dst_host\"])\n",
    "    elif row[\"ip.dst_host\"] in known_attacker_ip_addresses:\n",
    "        attacked_ips.append(row[\"ip.src_host\"])\n",
    "\n",
    "# Ensure the list is unique\n",
    "attacked_ips = list(set(attacked_ips))\n",
    "\n",
    "# Print the list of attacked IPs\n",
    "print(\"Attacked IPs:\")\n",
    "print(attacked_ips)\n"
   ]
  },
  {
   "cell_type": "markdown",
   "metadata": {},
   "source": [
    "It appears that the attacked IP is `192.168.0.128` which is an `edge server ip.`"
   ]
  },
  {
   "cell_type": "markdown",
   "metadata": {},
   "source": [
    "### Explore the src/dst combinations\n",
    "#### Benign"
   ]
  },
  {
   "cell_type": "code",
   "execution_count": 45,
   "metadata": {},
   "outputs": [
    {
     "name": "stdout",
     "output_type": "stream",
     "text": [
      "ip.src_host      ip.dst_host    \n",
      "192.168.0.128    192.168.0.101      10089\n",
      "192.168.0.101    192.168.0.128       9970\n",
      "0                0                   4190\n",
      "192.168.0.128    192.168.0.1           21\n",
      "                 224.0.0.251           12\n",
      "192.168.0.1      192.168.0.128          7\n",
      "0.0.0.0          224.0.0.1              4\n",
      "143.107.229.210  192.168.0.128          1\n",
      "160.119.193.252  192.168.0.128          1\n",
      "192.168.0.101    224.0.0.251            1\n",
      "192.168.0.128    196.200.160.123        1\n",
      "                 197.84.150.123         1\n",
      "                 94.228.220.14          1\n",
      "197.84.150.123   192.168.0.128          1\n",
      "85.254.217.5     192.168.0.128          1\n",
      "dtype: int64\n",
      "24301\n"
     ]
    }
   ],
   "source": [
    "# Count the number of unique combinations of ip.src_host and ip.dst_host where Attack_label == 0. Show the top 15 results\n",
    "print(df[df[\"Attack_label\"] == 0].groupby([\"ip.src_host\", \"ip.dst_host\"]).size().sort_values(ascending=False).head(15))\n",
    "print(df[df[\"Attack_label\"] == 0].groupby([\"ip.src_host\", \"ip.dst_host\"]).size().sum())  "
   ]
  },
  {
   "cell_type": "markdown",
   "metadata": {},
   "source": [
    "#### Malicious"
   ]
  },
  {
   "cell_type": "code",
   "execution_count": 46,
   "metadata": {},
   "outputs": [
    {
     "name": "stdout",
     "output_type": "stream",
     "text": [
      "ip.src_host    ip.dst_host  \n",
      "192.168.0.170  192.168.0.128    47686\n",
      "192.168.0.128  192.168.0.170    42290\n",
      "               0                13096\n",
      "0              0                 2928\n",
      "               0.0                873\n",
      "192.168.0.128  224.0.0.251        176\n",
      "192.168.0.101  0.0                155\n",
      "0.0.0.0        224.0.0.1          146\n",
      "192.168.0.128  224.0.0.252        138\n",
      "192.168.0.152  0.0                120\n",
      "0.0.0.0        0.0                 58\n",
      "192.168.0.128  172.217.19.42       19\n",
      "172.217.19.42  192.168.0.128       17\n",
      "192.168.0.128  104.16.87.20        17\n",
      "               192.168.0.101        8\n",
      "dtype: int64\n",
      "133499\n"
     ]
    }
   ],
   "source": [
    "# Count the number of unique combinations of ip.src_host and ip.dst_host where Attack_label == 1. Show the top 15 results\n",
    "print(df[df[\"Attack_label\"] == 1].groupby([\"ip.src_host\", \"ip.dst_host\"]).size().sort_values(ascending=False).head(15))\n",
    "print(df[df[\"Attack_label\"] == 1].groupby([\"ip.src_host\", \"ip.dst_host\"]).size().sum())  "
   ]
  },
  {
   "cell_type": "code",
   "execution_count": 47,
   "metadata": {},
   "outputs": [
    {
     "name": "stdout",
     "output_type": "stream",
     "text": [
      "      ip.src_host ip.dst_host\n",
      "0   192.168.0.152         0.0\n",
      "1   192.168.0.101         0.0\n",
      "2   192.168.0.152         0.0\n",
      "3   192.168.0.101         0.0\n",
      "4   192.168.0.152         0.0\n",
      "5   192.168.0.101         0.0\n",
      "6   192.168.0.152         0.0\n",
      "7   192.168.0.101         0.0\n",
      "16  192.168.0.152         0.0\n",
      "17  192.168.0.101         0.0\n",
      "22  192.168.0.152         0.0\n",
      "23  192.168.0.101         0.0\n",
      "24  192.168.0.152         0.0\n",
      "25  192.168.0.101         0.0\n",
      "26  192.168.0.152         0.0\n",
      "['0.0' '192.168.0.128' '224.0.0.251']\n"
     ]
    }
   ],
   "source": [
    "# Examine the ip.src_host and ip.dst_host columns, if one of the IPs is in the known_attacker_ip_addresses list, then show the other IP address\n",
    "print(df[(df[\"ip.src_host\"].isin(known_attacker_ip_addresses)) & (~df[\"ip.dst_host\"].isin(known_attacker_ip_addresses))][[\"ip.src_host\", \"ip.dst_host\"]].head(15))\n",
    "\n",
    "# Create a list of unique iP addresses that match the previous criteria\n",
    "ip_addresses = df[(df[\"ip.src_host\"].isin(known_attacker_ip_addresses)) & (~df[\"ip.dst_host\"].isin(known_attacker_ip_addresses))][\"ip.dst_host\"].unique()\n",
    "\n",
    "# Print out the list\n",
    "print(ip_addresses)\n"
   ]
  },
  {
   "cell_type": "markdown",
   "metadata": {},
   "source": [
    "Find Invalid IP Addresses"
   ]
  },
  {
   "cell_type": "code",
   "execution_count": 48,
   "metadata": {},
   "outputs": [
    {
     "name": "stdout",
     "output_type": "stream",
     "text": [
      "Total number of rows where ip.src_host or ip.dst_host is 0, 0.0, 0.0.0.0\n",
      "(21578, 63)\n"
     ]
    }
   ],
   "source": [
    "\n",
    "# Count the number of lines with an IP of 0, 0.0, 0.0.0.0 or Null in ip.src_host or ip.dst_host\n",
    "print(\"Total number of rows where ip.src_host or ip.dst_host is 0, 0.0, 0.0.0.0\")\n",
    "print(df[(df[\"ip.src_host\"] == \"0\") | (df[\"ip.src_host\"] == \"0.0\") | (df[\"ip.src_host\"] == \"0.0.0.0\") | (df[\"ip.src_host\"].isnull()) | (df[\"ip.dst_host\"] == \"0\") | (df[\"ip.dst_host\"] == \"0.0\") | (df[\"ip.dst_host\"] == \"0.0.0.0\") | (df[\"ip.dst_host\"].isnull())].shape)\n"
   ]
  },
  {
   "cell_type": "code",
   "execution_count": 49,
   "metadata": {},
   "outputs": [],
   "source": [
    "# # Remove those rows from the df\n",
    "# df = df[(df[\"ip.src_host\"] != \"0\") & (df[\"ip.src_host\"] != \"0.0\") & (df[\"ip.src_host\"] != \"0.0.0.0\") & (df[\"ip.src_host\"].notnull()) & (df[\"ip.dst_host\"] != \"0\") & (df[\"ip.dst_host\"] != \"0.0\") & (df[\"ip.dst_host\"] != \"0.0.0.0\") & (df[\"ip.dst_host\"].notnull())]\n"
   ]
  },
  {
   "cell_type": "code",
   "execution_count": 50,
   "metadata": {},
   "outputs": [
    {
     "name": "stdout",
     "output_type": "stream",
     "text": [
      "The top 15 unique combinations of ip.src_host and ip.dst_host where Attack_label == 1\n",
      "ip.src_host    ip.dst_host    Attack_type          \n",
      "192.168.0.128  0              DDoS_UDP                 13096\n",
      "192.168.0.170  192.168.0.128  DDoS_HTTP                 7068\n",
      "                              Uploading                 5657\n",
      "                              SQL_injection             5293\n",
      "                              XSS                       5109\n",
      "192.168.0.128  192.168.0.170  Vulnerability_scanner     5030\n",
      "192.168.0.170  192.168.0.128  Password                  5024\n",
      "                              Vulnerability_scanner     5014\n",
      "192.168.0.128  192.168.0.170  SQL_injection             5001\n",
      "                              Backdoor                  4997\n",
      "                              Password                  4951\n",
      "                              Ransomware                4892\n",
      "192.168.0.170  192.168.0.128  Backdoor                  4864\n",
      "                              Ransomware                4796\n",
      "192.168.0.128  192.168.0.170  Uploading                 4602\n",
      "dtype: int64\n",
      "133499\n"
     ]
    }
   ],
   "source": [
    "# Count the number of unique combinations of ip.src_host and ip.dst_host where Attack_label == 1. Show the top 5 results\n",
    "print(\"The top 15 unique combinations of ip.src_host and ip.dst_host where Attack_label == 1\")\n",
    "print(df[df[\"Attack_label\"] == 1].groupby([\"ip.src_host\", \"ip.dst_host\", \"Attack_type\"]).size().sort_values(ascending=False).head(15))                                       \n",
    "print(df[df[\"Attack_label\"] == 1].groupby([\"ip.src_host\", \"ip.dst_host\"]).size().sum()) "
   ]
  },
  {
   "cell_type": "code",
   "execution_count": 51,
   "metadata": {},
   "outputs": [
    {
     "name": "stdout",
     "output_type": "stream",
     "text": [
      "Number of unique IP addresses in the ip.src_host column that contains 192.168:\n",
      "5\n",
      "['192.168.0.152' '192.168.0.101' '192.168.0.128' '192.168.0.1'\n",
      " '192.168.0.170']\n",
      "\n",
      "Number of unique IP addresses in the ip.src_host column that contains 192.168 and Attack_label == 1:\n",
      "5\n",
      "['192.168.0.152' '192.168.0.101' '192.168.0.128' '192.168.0.1'\n",
      " '192.168.0.170']\n",
      "192.168.0.128    62421\n",
      "192.168.0.170    47688\n",
      "192.168.0.101      155\n",
      "192.168.0.152      120\n",
      "192.168.0.1          2\n",
      "Name: ip.src_host, dtype: int64\n",
      "\n",
      "Number of unique IP addresses in the ip.dst_host column that contains 192.168:\n",
      "4\n",
      "\n",
      "Unique IP addresses in the ip.dst_host column that contains 192.168:\n",
      "['192.168.0.128' '192.168.0.170' '192.168.0.101' '192.168.0.1']\n",
      "\n",
      "Number of unique IP addresses in the ip.dst_host column that contains 192.168 and Attack_label == 1:\n",
      "3\n",
      "['192.168.0.128' '192.168.0.170' '192.168.0.101']\n",
      "192.168.0.128    65392\n",
      "192.168.0.170    42290\n",
      "192.168.0.101        8\n",
      "Name: ip.dst_host, dtype: int64\n",
      "\n",
      "Number of unique ip.src_host and ip.dst_host combinations where Attack_label == 1 and neither column contains 192.168:\n",
      "ip.src_host    1404\n",
      "ip.dst_host    1405\n",
      "dtype: int64\n",
      "ip.src_host     ip.dst_host   \n",
      "0               0                 2928\n",
      "                0.0                873\n",
      "0.0.0.0         224.0.0.1          146\n",
      "                0.0                 58\n",
      "252.165.15.191  252.165.15.191       1\n",
      "                                  ... \n",
      "16.7.146.219    16.7.146.219         1\n",
      "16.55.228.168   16.55.228.168        1\n",
      "16.46.227.238   16.46.227.238        1\n",
      "16.252.61.184   16.252.61.184        1\n",
      "99.61.240.185   99.61.240.185        1\n",
      "Length: 1406, dtype: int64\n",
      "\n",
      "Attack types for the unique combinations of ip.src_host and ip.dst_host where Attack_label == 1 and neither column contains 192.168:\n",
      "ip.src_host    ip.dst_host    Attack_type  \n",
      "0              0              Port_Scanning    1079\n",
      "                              Ransomware       1039\n",
      "               0.0            MITM              873\n",
      "               0              XSS               350\n",
      "                              Backdoor          278\n",
      "                                               ... \n",
      "16.55.228.168  16.55.228.168  DDoS_UDP            1\n",
      "16.46.227.238  16.46.227.238  DDoS_UDP            1\n",
      "16.252.61.184  16.252.61.184  DDoS_UDP            1\n",
      "16.219.87.138  16.219.87.138  DDoS_UDP            1\n",
      "99.61.240.185  99.61.240.185  DDoS_UDP            1\n",
      "Length: 1421, dtype: int64\n"
     ]
    }
   ],
   "source": [
    "# Count the number of unique IP address in the ip.src_host column that contains 192.168\n",
    "print(\"Number of unique IP addresses in the ip.src_host column that contains 192.168:\")\n",
    "print(df[df[\"ip.src_host\"].str.contains(\"192.168\")][\"ip.src_host\"].nunique())\n",
    "\n",
    "# Show them\n",
    "print(df[df[\"ip.src_host\"].str.contains(\"192.168\")][\"ip.src_host\"].unique())\n",
    "\n",
    "# Count the number of unique IP addresses in the ip.src_host column that contains 192.168 and Attack_label == 1\n",
    "print(\"\\nNumber of unique IP addresses in the ip.src_host column that contains 192.168 and Attack_label == 1:\")\n",
    "print(df[(df[\"ip.src_host\"].str.contains(\"192.168\")) & (df[\"Attack_label\"] == 1)][\"ip.src_host\"].nunique())\n",
    "print(df[(df[\"ip.src_host\"].str.contains(\"192.168\")) & (df[\"Attack_label\"] == 1)][\"ip.src_host\"].unique())\n",
    "# Show the count of each unique value in the ip.src_host column that contains 192.168 and Attack_label == 1\n",
    "print(df[(df[\"ip.src_host\"].str.contains(\"192.168\")) & (df[\"Attack_label\"] == 1)][\"ip.src_host\"].value_counts())\n",
    "\n",
    "# Do the same again for the ip.dst_host column\n",
    "print(\"\\nNumber of unique IP addresses in the ip.dst_host column that contains 192.168:\")\n",
    "print(df[df[\"ip.dst_host\"].str.contains(\"192.168\")][\"ip.dst_host\"].nunique())\n",
    "\n",
    "# Show them\n",
    "print(\"\\nUnique IP addresses in the ip.dst_host column that contains 192.168:\")\n",
    "print(df[df[\"ip.dst_host\"].str.contains(\"192.168\")][\"ip.dst_host\"].unique())\n",
    "\n",
    "# Count the number of unique IP addresses in the ip.dst_host column that contains 192.168 and Attack_label == 1 \n",
    "print(\"\\nNumber of unique IP addresses in the ip.dst_host column that contains 192.168 and Attack_label == 1:\")\n",
    "print(df[(df[\"ip.dst_host\"].str.contains(\"192.168\")) & (df[\"Attack_label\"] == 1)][\"ip.dst_host\"].nunique())\n",
    "print(df[(df[\"ip.dst_host\"].str.contains(\"192.168\")) & (df[\"Attack_label\"] == 1)][\"ip.dst_host\"].unique())\n",
    "# Show the count of each unique value in the ip.dst_host column that contains 192.168 and Attack_label == 1\n",
    "print(df[(df[\"ip.dst_host\"].str.contains(\"192.168\")) & (df[\"Attack_label\"] == 1)][\"ip.dst_host\"].value_counts())\n",
    "\n",
    "# Count the number of unique ip.src_host and ip.dst_host combinations where Attack_label == 1 and neither column contains 192.168\n",
    "print(\"\\nNumber of unique ip.src_host and ip.dst_host combinations where Attack_label == 1 and neither column contains 192.168:\")\n",
    "print(df[(~df[\"ip.src_host\"].str.contains(\"192.168\")) & (~df[\"ip.dst_host\"].str.contains(\"192.168\")) & (df[\"Attack_label\"] == 1)][[\"ip.src_host\", \"ip.dst_host\"]].nunique())\n",
    "# Show counts of each unique combination\n",
    "print(df[(~df[\"ip.src_host\"].str.contains(\"192.168\")) & (~df[\"ip.dst_host\"].str.contains(\"192.168\")) & (df[\"Attack_label\"] == 1)][[\"ip.src_host\", \"ip.dst_host\"]].value_counts())\n",
    "\n",
    "# Show the attack types for the unique combinations of ip.src_host and ip.dst_host where Attack_label == 1 and neither column contains 192.168\n",
    "print(\"\\nAttack types for the unique combinations of ip.src_host and ip.dst_host where Attack_label == 1 and neither column contains 192.168:\")\n",
    "print(df[(~df[\"ip.src_host\"].str.contains(\"192.168\")) & (~df[\"ip.dst_host\"].str.contains(\"192.168\")) & (df[\"Attack_label\"] == 1)][[\"ip.src_host\", \"ip.dst_host\", \"Attack_type\"]].value_counts())\n",
    "\n"
   ]
  },
  {
   "cell_type": "code",
   "execution_count": 52,
   "metadata": {},
   "outputs": [
    {
     "name": "stdout",
     "output_type": "stream",
     "text": [
      "Number of rows where ip.src_host and ip.dst_host are the same:\n",
      "8520\n",
      "                     frame.time ip.src_host ip.dst_host arp.dst.proto_ipv4  \\\n",
      "1221   2021 22:14:35.855090000            0           0      192.168.0.128   \n",
      "1222   2021 22:14:35.855154000            0           0      192.168.0.170   \n",
      "1223   2021 22:14:35.995475000            0           0      192.168.0.170   \n",
      "1224   2021 22:14:35.999272000            0           0      192.168.0.128   \n",
      "1242   2021 22:15:13.959913000            0           0      192.168.0.128   \n",
      "1243   2021 22:15:13.959976000            0           0      192.168.0.170   \n",
      "1244   2021 22:15:14.005505000            0           0      192.168.0.170   \n",
      "1245   2021 22:15:14.008899000            0           0      192.168.0.128   \n",
      "1251   2021 22:15:16.545755000            0           0        192.168.0.1   \n",
      "1256   2021 22:15:28.561712000            0           0        192.168.0.1   \n",
      "\n",
      "      arp.opcode  arp.hw.size arp.src.proto_ipv4  icmp.checksum  icmp.seq_le  \\\n",
      "1221         1.0          6.0      192.168.0.170            0.0          0.0   \n",
      "1222         2.0          6.0      192.168.0.128            0.0          0.0   \n",
      "1223         1.0          6.0      192.168.0.128            0.0          0.0   \n",
      "1224         2.0          6.0      192.168.0.170            0.0          0.0   \n",
      "1242         1.0          6.0      192.168.0.170            0.0          0.0   \n",
      "1243         2.0          6.0      192.168.0.128            0.0          0.0   \n",
      "1244         1.0          6.0      192.168.0.128            0.0          0.0   \n",
      "1245         2.0          6.0      192.168.0.170            0.0          0.0   \n",
      "1251         1.0          6.0      192.168.0.101            0.0          0.0   \n",
      "1256         1.0          6.0      192.168.0.101            0.0          0.0   \n",
      "\n",
      "      icmp.transmit_timestamp  ...  mqtt.proto_len mqtt.protoname  mqtt.topic  \\\n",
      "1221                      0.0  ...             0.0            0.0         0.0   \n",
      "1222                      0.0  ...             0.0            0.0         0.0   \n",
      "1223                      0.0  ...             0.0            0.0         0.0   \n",
      "1224                      0.0  ...             0.0            0.0         0.0   \n",
      "1242                      0.0  ...             0.0            0.0         0.0   \n",
      "1243                      0.0  ...             0.0            0.0         0.0   \n",
      "1244                      0.0  ...             0.0            0.0         0.0   \n",
      "1245                      0.0  ...             0.0            0.0         0.0   \n",
      "1251                      0.0  ...             0.0            0.0         0.0   \n",
      "1256                      0.0  ...             0.0            0.0         0.0   \n",
      "\n",
      "     mqtt.topic_len mqtt.ver mbtcp.len mbtcp.trans_id mbtcp.unit_id  \\\n",
      "1221            0.0      0.0       0.0            0.0           0.0   \n",
      "1222            0.0      0.0       0.0            0.0           0.0   \n",
      "1223            0.0      0.0       0.0            0.0           0.0   \n",
      "1224            0.0      0.0       0.0            0.0           0.0   \n",
      "1242            0.0      0.0       0.0            0.0           0.0   \n",
      "1243            0.0      0.0       0.0            0.0           0.0   \n",
      "1244            0.0      0.0       0.0            0.0           0.0   \n",
      "1245            0.0      0.0       0.0            0.0           0.0   \n",
      "1251            0.0      0.0       0.0            0.0           0.0   \n",
      "1256            0.0      0.0       0.0            0.0           0.0   \n",
      "\n",
      "      Attack_label     Attack_type  \n",
      "1221             1  Fingerprinting  \n",
      "1222             1  Fingerprinting  \n",
      "1223             1  Fingerprinting  \n",
      "1224             1  Fingerprinting  \n",
      "1242             1  Fingerprinting  \n",
      "1243             1  Fingerprinting  \n",
      "1244             1  Fingerprinting  \n",
      "1245             1  Fingerprinting  \n",
      "1251             1  Fingerprinting  \n",
      "1256             1  Fingerprinting  \n",
      "\n",
      "[10 rows x 63 columns]\n"
     ]
    }
   ],
   "source": [
    "# How many rows have the same ip.src_host and ip.dst_host value in the same row\n",
    "print(\"Number of rows where ip.src_host and ip.dst_host are the same:\")\n",
    "print(df[df[\"ip.src_host\"] == df[\"ip.dst_host\"]].shape[0])\n",
    "\n",
    "# Show the first 10 rows where ip.src_host and ip.dst_host are the same\n",
    "print(df[df[\"ip.src_host\"] == df[\"ip.dst_host\"]].head(10))\n"
   ]
  },
  {
   "cell_type": "markdown",
   "metadata": {},
   "source": [
    "zero IP addresses appear to be ARP messages."
   ]
  },
  {
   "cell_type": "markdown",
   "metadata": {},
   "source": []
  }
 ],
 "metadata": {
  "kernelspec": {
   "display_name": "py310",
   "language": "python",
   "name": "python3"
  },
  "language_info": {
   "codemirror_mode": {
    "name": "ipython",
    "version": 3
   },
   "file_extension": ".py",
   "mimetype": "text/x-python",
   "name": "python",
   "nbconvert_exporter": "python",
   "pygments_lexer": "ipython3",
   "version": "3.10.9"
  },
  "orig_nbformat": 4
 },
 "nbformat": 4,
 "nbformat_minor": 2
}
