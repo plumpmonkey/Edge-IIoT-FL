{
 "cells": [
  {
   "cell_type": "code",
   "execution_count": 4,
   "metadata": {},
   "outputs": [],
   "source": [
    "import pandas as pd\n",
    "import numpy as np\n",
    "from sklearn import preprocessing\n",
    "from sklearn.model_selection import train_test_split\n",
    "from sklearn.preprocessing import StandardScaler\n",
    "from sklearn.preprocessing import MinMaxScaler"
   ]
  },
  {
   "cell_type": "code",
   "execution_count": 5,
   "metadata": {},
   "outputs": [],
   "source": [
    "dataset_path = \"../datasets/Edge-IIoT/\"\n",
    "\n",
    "df = pd.read_pickle(dataset_path + \"Edge-IIoTset dataset/Selected dataset for ML and DL/DNN-EdgeIIoT-dataset.pkl\")\n"
   ]
  },
  {
   "cell_type": "code",
   "execution_count": 7,
   "metadata": {},
   "outputs": [
    {
     "name": "stdout",
     "output_type": "stream",
     "text": [
      "(2219201, 63)\n"
     ]
    }
   ],
   "source": [
    "df.loc[(df == np.inf).any(axis=1), (df == np.inf).any(axis=0)]\n"
   ]
  },
  {
   "cell_type": "code",
   "execution_count": 8,
   "metadata": {},
   "outputs": [
    {
     "name": "stdout",
     "output_type": "stream",
     "text": [
      "(2219201, 63)\n"
     ]
    }
   ],
   "source": [
    "print(df.shape)\n"
   ]
  },
  {
   "cell_type": "code",
   "execution_count": 9,
   "metadata": {},
   "outputs": [
    {
     "data": {
      "text/html": [
       "<div>\n",
       "<style scoped>\n",
       "    .dataframe tbody tr th:only-of-type {\n",
       "        vertical-align: middle;\n",
       "    }\n",
       "\n",
       "    .dataframe tbody tr th {\n",
       "        vertical-align: top;\n",
       "    }\n",
       "\n",
       "    .dataframe thead th {\n",
       "        text-align: right;\n",
       "    }\n",
       "</style>\n",
       "<table border=\"1\" class=\"dataframe\">\n",
       "  <thead>\n",
       "    <tr style=\"text-align: right;\">\n",
       "      <th></th>\n",
       "      <th>frame.time</th>\n",
       "      <th>ip.src_host</th>\n",
       "      <th>ip.dst_host</th>\n",
       "      <th>arp.dst.proto_ipv4</th>\n",
       "      <th>arp.opcode</th>\n",
       "      <th>arp.hw.size</th>\n",
       "      <th>arp.src.proto_ipv4</th>\n",
       "      <th>icmp.checksum</th>\n",
       "      <th>icmp.seq_le</th>\n",
       "      <th>icmp.transmit_timestamp</th>\n",
       "      <th>...</th>\n",
       "      <th>mqtt.proto_len</th>\n",
       "      <th>mqtt.protoname</th>\n",
       "      <th>mqtt.topic</th>\n",
       "      <th>mqtt.topic_len</th>\n",
       "      <th>mqtt.ver</th>\n",
       "      <th>mbtcp.len</th>\n",
       "      <th>mbtcp.trans_id</th>\n",
       "      <th>mbtcp.unit_id</th>\n",
       "      <th>Attack_label</th>\n",
       "      <th>Attack_type</th>\n",
       "    </tr>\n",
       "  </thead>\n",
       "  <tbody>\n",
       "    <tr>\n",
       "      <th>0</th>\n",
       "      <td>2021 11:44:10.081753000</td>\n",
       "      <td>192.168.0.128</td>\n",
       "      <td>192.168.0.101</td>\n",
       "      <td>0</td>\n",
       "      <td>0.0</td>\n",
       "      <td>0.0</td>\n",
       "      <td>0</td>\n",
       "      <td>0.0</td>\n",
       "      <td>0.0</td>\n",
       "      <td>0.0</td>\n",
       "      <td>...</td>\n",
       "      <td>0.0</td>\n",
       "      <td>0</td>\n",
       "      <td>0</td>\n",
       "      <td>0.0</td>\n",
       "      <td>0.0</td>\n",
       "      <td>0.0</td>\n",
       "      <td>0.0</td>\n",
       "      <td>0.0</td>\n",
       "      <td>0</td>\n",
       "      <td>Normal</td>\n",
       "    </tr>\n",
       "    <tr>\n",
       "      <th>1</th>\n",
       "      <td>2021 11:44:10.162218000</td>\n",
       "      <td>192.168.0.101</td>\n",
       "      <td>192.168.0.128</td>\n",
       "      <td>0</td>\n",
       "      <td>0.0</td>\n",
       "      <td>0.0</td>\n",
       "      <td>0</td>\n",
       "      <td>0.0</td>\n",
       "      <td>0.0</td>\n",
       "      <td>0.0</td>\n",
       "      <td>...</td>\n",
       "      <td>4.0</td>\n",
       "      <td>MQTT</td>\n",
       "      <td>0</td>\n",
       "      <td>0.0</td>\n",
       "      <td>4.0</td>\n",
       "      <td>0.0</td>\n",
       "      <td>0.0</td>\n",
       "      <td>0.0</td>\n",
       "      <td>0</td>\n",
       "      <td>Normal</td>\n",
       "    </tr>\n",
       "    <tr>\n",
       "      <th>2</th>\n",
       "      <td>2021 11:44:10.162271000</td>\n",
       "      <td>192.168.0.128</td>\n",
       "      <td>192.168.0.101</td>\n",
       "      <td>0</td>\n",
       "      <td>0.0</td>\n",
       "      <td>0.0</td>\n",
       "      <td>0</td>\n",
       "      <td>0.0</td>\n",
       "      <td>0.0</td>\n",
       "      <td>0.0</td>\n",
       "      <td>...</td>\n",
       "      <td>0.0</td>\n",
       "      <td>0</td>\n",
       "      <td>0</td>\n",
       "      <td>0.0</td>\n",
       "      <td>0.0</td>\n",
       "      <td>0.0</td>\n",
       "      <td>0.0</td>\n",
       "      <td>0.0</td>\n",
       "      <td>0</td>\n",
       "      <td>Normal</td>\n",
       "    </tr>\n",
       "    <tr>\n",
       "      <th>3</th>\n",
       "      <td>2021 11:44:10.162641000</td>\n",
       "      <td>192.168.0.128</td>\n",
       "      <td>192.168.0.101</td>\n",
       "      <td>0</td>\n",
       "      <td>0.0</td>\n",
       "      <td>0.0</td>\n",
       "      <td>0</td>\n",
       "      <td>0.0</td>\n",
       "      <td>0.0</td>\n",
       "      <td>0.0</td>\n",
       "      <td>...</td>\n",
       "      <td>0.0</td>\n",
       "      <td>0</td>\n",
       "      <td>0</td>\n",
       "      <td>0.0</td>\n",
       "      <td>0.0</td>\n",
       "      <td>0.0</td>\n",
       "      <td>0.0</td>\n",
       "      <td>0.0</td>\n",
       "      <td>0</td>\n",
       "      <td>Normal</td>\n",
       "    </tr>\n",
       "    <tr>\n",
       "      <th>4</th>\n",
       "      <td>2021 11:44:10.166132000</td>\n",
       "      <td>192.168.0.101</td>\n",
       "      <td>192.168.0.128</td>\n",
       "      <td>0</td>\n",
       "      <td>0.0</td>\n",
       "      <td>0.0</td>\n",
       "      <td>0</td>\n",
       "      <td>0.0</td>\n",
       "      <td>0.0</td>\n",
       "      <td>0.0</td>\n",
       "      <td>...</td>\n",
       "      <td>0.0</td>\n",
       "      <td>0</td>\n",
       "      <td>Temperature_and_Humidity</td>\n",
       "      <td>24.0</td>\n",
       "      <td>0.0</td>\n",
       "      <td>0.0</td>\n",
       "      <td>0.0</td>\n",
       "      <td>0.0</td>\n",
       "      <td>0</td>\n",
       "      <td>Normal</td>\n",
       "    </tr>\n",
       "  </tbody>\n",
       "</table>\n",
       "<p>5 rows × 63 columns</p>\n",
       "</div>"
      ],
      "text/plain": [
       "                  frame.time    ip.src_host    ip.dst_host arp.dst.proto_ipv4  \\\n",
       "0   2021 11:44:10.081753000   192.168.0.128  192.168.0.101                  0   \n",
       "1   2021 11:44:10.162218000   192.168.0.101  192.168.0.128                  0   \n",
       "2   2021 11:44:10.162271000   192.168.0.128  192.168.0.101                  0   \n",
       "3   2021 11:44:10.162641000   192.168.0.128  192.168.0.101                  0   \n",
       "4   2021 11:44:10.166132000   192.168.0.101  192.168.0.128                  0   \n",
       "\n",
       "   arp.opcode  arp.hw.size arp.src.proto_ipv4  icmp.checksum  icmp.seq_le  \\\n",
       "0         0.0          0.0                  0            0.0          0.0   \n",
       "1         0.0          0.0                  0            0.0          0.0   \n",
       "2         0.0          0.0                  0            0.0          0.0   \n",
       "3         0.0          0.0                  0            0.0          0.0   \n",
       "4         0.0          0.0                  0            0.0          0.0   \n",
       "\n",
       "   icmp.transmit_timestamp  ...  mqtt.proto_len mqtt.protoname  \\\n",
       "0                      0.0  ...             0.0              0   \n",
       "1                      0.0  ...             4.0           MQTT   \n",
       "2                      0.0  ...             0.0              0   \n",
       "3                      0.0  ...             0.0              0   \n",
       "4                      0.0  ...             0.0              0   \n",
       "\n",
       "                 mqtt.topic mqtt.topic_len mqtt.ver mbtcp.len mbtcp.trans_id  \\\n",
       "0                         0            0.0      0.0       0.0            0.0   \n",
       "1                         0            0.0      4.0       0.0            0.0   \n",
       "2                         0            0.0      0.0       0.0            0.0   \n",
       "3                         0            0.0      0.0       0.0            0.0   \n",
       "4  Temperature_and_Humidity           24.0      0.0       0.0            0.0   \n",
       "\n",
       "  mbtcp.unit_id  Attack_label  Attack_type  \n",
       "0           0.0             0       Normal  \n",
       "1           0.0             0       Normal  \n",
       "2           0.0             0       Normal  \n",
       "3           0.0             0       Normal  \n",
       "4           0.0             0       Normal  \n",
       "\n",
       "[5 rows x 63 columns]"
      ]
     },
     "execution_count": 9,
     "metadata": {},
     "output_type": "execute_result"
    }
   ],
   "source": [
    "df.head(5)"
   ]
  },
  {
   "cell_type": "code",
   "execution_count": 13,
   "metadata": {},
   "outputs": [
    {
     "name": "stdout",
     "output_type": "stream",
     "text": [
      "Series([], dtype: int64)\n",
      "Shape before dropping duplicates (2219201, 63)\n",
      "Shape after dropping duplicates (2218386, 63)\n"
     ]
    }
   ],
   "source": [
    "na_counts = df.isna().sum()\n",
    "non_zero_na_counts = na_counts[na_counts != 0]\n",
    "print(non_zero_na_counts)\n",
    "\n",
    "print(f\"Shape before dropping duplicates {df.shape}\")\n",
    "df.drop_duplicates(subset=None, keep=\"first\", inplace=True)\n",
    "\n",
    "print(f\"Shape after dropping duplicates {df.shape}\")\n"
   ]
  },
  {
   "cell_type": "code",
   "execution_count": null,
   "metadata": {},
   "outputs": [],
   "source": []
  },
  {
   "attachments": {},
   "cell_type": "markdown",
   "metadata": {},
   "source": [
    "# Code I want to keep"
   ]
  },
  {
   "cell_type": "code",
   "execution_count": null,
   "metadata": {},
   "outputs": [],
   "source": [
    "import pandas as pd\n",
    "import numpy as np\n",
    "from sklearn import preprocessing\n",
    "from sklearn.model_selection import train_test_split\n",
    "from sklearn.preprocessing import StandardScaler\n",
    "from sklearn.preprocessing import MinMaxScaler"
   ]
  },
  {
   "cell_type": "code",
   "execution_count": null,
   "metadata": {},
   "outputs": [],
   "source": [
    "dataset_path = \"../datasets/Edge-IIoT/\"\n",
    "\n",
    "df = pd.read_pickle(dataset_path + \"Edge-IIoTset dataset/Selected dataset for ML and DL/DNN-EdgeIIoT-dataset.pkl\")"
   ]
  },
  {
   "cell_type": "code",
   "execution_count": 14,
   "metadata": {},
   "outputs": [
    {
     "name": "stdout",
     "output_type": "stream",
     "text": [
      "                    index       0\n",
      "               frame.time  object\n",
      "              ip.src_host  object\n",
      "              ip.dst_host  object\n",
      "       arp.dst.proto_ipv4  object\n",
      "               arp.opcode float64\n",
      "              arp.hw.size float64\n",
      "       arp.src.proto_ipv4  object\n",
      "            icmp.checksum float64\n",
      "              icmp.seq_le float64\n",
      "  icmp.transmit_timestamp float64\n",
      "              icmp.unused float64\n",
      "           http.file_data  object\n",
      "      http.content_length float64\n",
      "   http.request.uri.query  object\n",
      "      http.request.method  object\n",
      "             http.referer  object\n",
      "    http.request.full_uri  object\n",
      "     http.request.version  object\n",
      "            http.response float64\n",
      "            http.tls_port float64\n",
      "                  tcp.ack float64\n",
      "              tcp.ack_raw float64\n",
      "             tcp.checksum float64\n",
      "       tcp.connection.fin float64\n",
      "       tcp.connection.rst float64\n",
      "       tcp.connection.syn float64\n",
      "    tcp.connection.synack float64\n",
      "              tcp.dstport float64\n",
      "                tcp.flags float64\n",
      "            tcp.flags.ack float64\n",
      "                  tcp.len float64\n",
      "              tcp.options  object\n",
      "              tcp.payload  object\n",
      "                  tcp.seq float64\n",
      "              tcp.srcport  object\n",
      "                 udp.port float64\n",
      "               udp.stream float64\n",
      "           udp.time_delta float64\n",
      "             dns.qry.name float64\n",
      "         dns.qry.name.len  object\n",
      "               dns.qry.qu float64\n",
      "             dns.qry.type float64\n",
      "       dns.retransmission float64\n",
      "   dns.retransmit_request float64\n",
      "dns.retransmit_request_in float64\n",
      "        mqtt.conack.flags  object\n",
      "   mqtt.conflag.cleansess float64\n",
      "            mqtt.conflags float64\n",
      "            mqtt.hdrflags float64\n",
      "                 mqtt.len float64\n",
      "      mqtt.msg_decoded_as float64\n",
      "                 mqtt.msg  object\n",
      "             mqtt.msgtype float64\n",
      "           mqtt.proto_len float64\n",
      "           mqtt.protoname  object\n",
      "               mqtt.topic  object\n",
      "           mqtt.topic_len float64\n",
      "                 mqtt.ver float64\n",
      "                mbtcp.len float64\n",
      "           mbtcp.trans_id float64\n",
      "            mbtcp.unit_id float64\n",
      "             Attack_label   int64\n",
      "              Attack_type  object\n"
     ]
    }
   ],
   "source": [
    "# Show original column names and their data types\n",
    "col_types = df.dtypes.to_frame().reset_index()\n",
    "print(col_types.to_string(index=False))"
   ]
  }
 ],
 "metadata": {
  "kernelspec": {
   "display_name": "py310",
   "language": "python",
   "name": "python3"
  },
  "language_info": {
   "codemirror_mode": {
    "name": "ipython",
    "version": 3
   },
   "file_extension": ".py",
   "mimetype": "text/x-python",
   "name": "python",
   "nbconvert_exporter": "python",
   "pygments_lexer": "ipython3",
   "version": "3.10.9"
  },
  "orig_nbformat": 4,
  "vscode": {
   "interpreter": {
    "hash": "13889281186302bdc36c7f868260bf3605ac7141689b3024570e3e86051ebcc7"
   }
  }
 },
 "nbformat": 4,
 "nbformat_minor": 2
}
