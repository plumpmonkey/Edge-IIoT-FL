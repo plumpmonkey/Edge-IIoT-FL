{
 "cells": [
  {
   "cell_type": "code",
   "execution_count": 15,
   "metadata": {},
   "outputs": [],
   "source": [
    "import os\n",
    "import pandas as pd\n",
    "import numpy as np\n",
    "from sklearn.utils import shuffle\n",
    "from sklearn.model_selection import train_test_split\n",
    "from sklearn.preprocessing import StandardScaler\n",
    "from sklearn import preprocessing"
   ]
  },
  {
   "cell_type": "code",
   "execution_count": 16,
   "metadata": {},
   "outputs": [],
   "source": [
    "dataset_path = \"../datasets/Edge-IIoT/\"\n",
    "\n",
    "df = pd.read_pickle(dataset_path + \"Edge-IIoTset dataset/Selected dataset for ML and DL/ML-EdgeIIoT-dataset.pkl\")   "
   ]
  },
  {
   "cell_type": "markdown",
   "metadata": {},
   "source": [
    "## Explore the dataset"
   ]
  },
  {
   "cell_type": "code",
   "execution_count": 17,
   "metadata": {},
   "outputs": [
    {
     "name": "stdout",
     "output_type": "stream",
     "text": [
      "Total number of samples:  157800\n"
     ]
    }
   ],
   "source": [
    "print(\"Total number of samples: \", df.shape[0])"
   ]
  },
  {
   "cell_type": "markdown",
   "metadata": {},
   "source": [
    "### Attack types and counts"
   ]
  },
  {
   "cell_type": "code",
   "execution_count": 18,
   "metadata": {},
   "outputs": [
    {
     "name": "stdout",
     "output_type": "stream",
     "text": [
      "Normal                   24301\n",
      "DDoS_UDP                 14498\n",
      "DDoS_ICMP                14090\n",
      "Ransomware               10925\n",
      "DDoS_HTTP                10561\n",
      "SQL_injection            10311\n",
      "Uploading                10269\n",
      "DDoS_TCP                 10247\n",
      "Backdoor                 10195\n",
      "Vulnerability_scanner    10076\n",
      "Port_Scanning            10071\n",
      "XSS                      10052\n",
      "Password                  9989\n",
      "MITM                      1214\n",
      "Fingerprinting            1001\n",
      "Name: Attack_type, dtype: int64\n",
      "157800\n"
     ]
    }
   ],
   "source": [
    "print(df['Attack_type'].value_counts()) # print the number of each type of attack\n",
    "\n",
    "# Sum the counts of each type of attack\n",
    "print(df['Attack_type'].value_counts().sum())\n"
   ]
  },
  {
   "cell_type": "code",
   "execution_count": 30,
   "metadata": {},
   "outputs": [
    {
     "name": "stdout",
     "output_type": "stream",
     "text": [
      "Total number of attack rows = 133499\n",
      "Total number of normal rows = 24301\n",
      "Total number of rows = 157800 - total Attack row 133499 = 24301\n"
     ]
    }
   ],
   "source": [
    "# Sum the number of rows where Attack_type != 'Normal'\n",
    "print(f\"Total number of attack rows = {df[df['Attack_type'] != 'Normal'].shape[0]}\")\n",
    "print(f\"Total number of normal rows = {df[df['Attack_type'] == 'Normal'].shape[0]}\")\n",
    "\n",
    "print(f\"Total number of rows = {df.shape[0]} - total Attack row {df[df['Attack_type'] != 'Normal'].shape[0]} = {df.shape[0] - df[df['Attack_type'] != 'Normal'].shape[0]}\")\n"
   ]
  },
  {
   "cell_type": "markdown",
   "metadata": {},
   "source": [
    "### IP Addresses"
   ]
  },
  {
   "cell_type": "markdown",
   "metadata": {},
   "source": [
    "Show the different IP addresses in the dataset for Attack Type 0 (Benign) and Attack Type 1 (Malicious)"
   ]
  },
  {
   "cell_type": "code",
   "execution_count": 20,
   "metadata": {},
   "outputs": [
    {
     "name": "stdout",
     "output_type": "stream",
     "text": [
      "Number of unique IP addresses for attack_label 0: 13\n",
      "Attack type 0 unique IPs:\n",
      "['192.168.0.128' '192.168.0.101' '0' '0.0.0.0' '143.107.229.210'\n",
      " '85.254.217.5' '197.84.150.123' '160.119.193.252' '192.168.0.1'\n",
      " '224.0.0.251' '224.0.0.1' '94.228.220.14' '196.200.160.123']\n"
     ]
    }
   ],
   "source": [
    "# Filter the DataFrame to only include rows where attack_label is 0\n",
    "attack_label_0 = df[df[\"Attack_label\"] == 0]\n",
    "\n",
    "# Get the unique IP addresses in the ip.src_host and ip.dst_host columns\n",
    "unique_ips = pd.concat([attack_label_0[\"ip.src_host\"], attack_label_0[\"ip.dst_host\"]]).unique()\n",
    "\n",
    "# Get the number of unique IP addresses\n",
    "num_unique_ips = len(unique_ips)\n",
    "\n",
    "# Print the number of unique IP addresses\n",
    "print(\"Number of unique IP addresses for attack_label 0:\", num_unique_ips)\n",
    "\n",
    "# print out the unique IPs\n",
    "print(\"Attack type 0 unique IPs:\")\n",
    "print(unique_ips)"
   ]
  },
  {
   "cell_type": "code",
   "execution_count": 21,
   "metadata": {},
   "outputs": [
    {
     "name": "stdout",
     "output_type": "stream",
     "text": [
      "Number of unique IP addresses for attack_label 0: 25712\n",
      "Attack type 1 unique IPs:\n",
      "['192.168.0.152' '192.168.0.101' '0' ... '26.223.146.121' '188.160.30.160'\n",
      " '126.188.47.126']\n"
     ]
    }
   ],
   "source": [
    "# Filter the DataFrame to only include rows where attack_label is 0\n",
    "attack_label_0 = df[df[\"Attack_label\"] == 1]\n",
    "\n",
    "# Get the unique IP addresses in the ip.src_host and ip.dst_host columns\n",
    "unique_ips = pd.concat([attack_label_0[\"ip.src_host\"], attack_label_0[\"ip.dst_host\"]]).unique()\n",
    "\n",
    "# Get the number of unique IP addresses\n",
    "num_unique_ips = len(unique_ips)\n",
    "\n",
    "# Print the number of unique IP addresses\n",
    "print(\"Number of unique IP addresses for attack_label 0:\", num_unique_ips)\n",
    "\n",
    "# print out the unique IPs\n",
    "print(\"Attack type 1 unique IPs:\")\n",
    "print(unique_ips)"
   ]
  },
  {
   "cell_type": "markdown",
   "metadata": {},
   "source": [
    "Explore the src/dst combinations"
   ]
  },
  {
   "cell_type": "code",
   "execution_count": 22,
   "metadata": {},
   "outputs": [
    {
     "name": "stdout",
     "output_type": "stream",
     "text": [
      "ip.src_host    ip.dst_host  \n",
      "192.168.0.170  192.168.0.128    47686\n",
      "192.168.0.128  192.168.0.170    42290\n",
      "               0                13096\n",
      "0              0                 2928\n",
      "               0.0                873\n",
      "192.168.0.128  224.0.0.251        176\n",
      "192.168.0.101  0.0                155\n",
      "0.0.0.0        224.0.0.1          146\n",
      "192.168.0.128  224.0.0.252        138\n",
      "192.168.0.152  0.0                120\n",
      "0.0.0.0        0.0                 58\n",
      "192.168.0.128  172.217.19.42       19\n",
      "172.217.19.42  192.168.0.128       17\n",
      "192.168.0.128  104.16.87.20        17\n",
      "               192.168.0.101        8\n",
      "dtype: int64\n",
      "133499\n"
     ]
    }
   ],
   "source": [
    "# Count the number of unique combinations of ip.src_host and ip.dst_host where Attack_label == 1. Show the top 5 results\n",
    "print(df[df[\"Attack_label\"] == 1].groupby([\"ip.src_host\", \"ip.dst_host\"]).size().sort_values(ascending=False).head(15))\n",
    "print(df[df[\"Attack_label\"] == 1].groupby([\"ip.src_host\", \"ip.dst_host\"]).size().sum())  \n",
    "\n"
   ]
  },
  {
   "cell_type": "markdown",
   "metadata": {},
   "source": [
    "Find Invalid IP Addresses"
   ]
  },
  {
   "cell_type": "code",
   "execution_count": 23,
   "metadata": {},
   "outputs": [
    {
     "name": "stdout",
     "output_type": "stream",
     "text": [
      "Total number of rows where ip.src_host or ip.dst_host is 0, 0.0, 0.0.0.0\n",
      "(21578, 63)\n"
     ]
    }
   ],
   "source": [
    "\n",
    "# Count the number of lines with an IP of 0, 0.0, 0.0.0.0 or Null in ip.src_host or ip.dst_host\n",
    "print(\"Total number of rows where ip.src_host or ip.dst_host is 0, 0.0, 0.0.0.0\")\n",
    "print(df[(df[\"ip.src_host\"] == \"0\") | (df[\"ip.src_host\"] == \"0.0\") | (df[\"ip.src_host\"] == \"0.0.0.0\") | (df[\"ip.src_host\"].isnull()) | (df[\"ip.dst_host\"] == \"0\") | (df[\"ip.dst_host\"] == \"0.0\") | (df[\"ip.dst_host\"] == \"0.0.0.0\") | (df[\"ip.dst_host\"].isnull())].shape)\n"
   ]
  },
  {
   "cell_type": "code",
   "execution_count": 24,
   "metadata": {},
   "outputs": [],
   "source": [
    "# # Remove those rows from the df\n",
    "# df = df[(df[\"ip.src_host\"] != \"0\") & (df[\"ip.src_host\"] != \"0.0\") & (df[\"ip.src_host\"] != \"0.0.0.0\") & (df[\"ip.src_host\"].notnull()) & (df[\"ip.dst_host\"] != \"0\") & (df[\"ip.dst_host\"] != \"0.0\") & (df[\"ip.dst_host\"] != \"0.0.0.0\") & (df[\"ip.dst_host\"].notnull())]\n"
   ]
  },
  {
   "cell_type": "code",
   "execution_count": 25,
   "metadata": {},
   "outputs": [
    {
     "name": "stdout",
     "output_type": "stream",
     "text": [
      "The top 15 unique combinations of ip.src_host and ip.dst_host where Attack_label == 1\n",
      "ip.src_host    ip.dst_host    Attack_type          \n",
      "192.168.0.128  0              DDoS_UDP                 13096\n",
      "192.168.0.170  192.168.0.128  DDoS_HTTP                 7068\n",
      "                              Uploading                 5657\n",
      "                              SQL_injection             5293\n",
      "                              XSS                       5109\n",
      "192.168.0.128  192.168.0.170  Vulnerability_scanner     5030\n",
      "192.168.0.170  192.168.0.128  Password                  5024\n",
      "                              Vulnerability_scanner     5014\n",
      "192.168.0.128  192.168.0.170  SQL_injection             5001\n",
      "                              Backdoor                  4997\n",
      "                              Password                  4951\n",
      "                              Ransomware                4892\n",
      "192.168.0.170  192.168.0.128  Backdoor                  4864\n",
      "                              Ransomware                4796\n",
      "192.168.0.128  192.168.0.170  Uploading                 4602\n",
      "dtype: int64\n",
      "133499\n"
     ]
    }
   ],
   "source": [
    "# Count the number of unique combinations of ip.src_host and ip.dst_host where Attack_label == 1. Show the top 5 results\n",
    "print(\"The top 15 unique combinations of ip.src_host and ip.dst_host where Attack_label == 1\")\n",
    "print(df[df[\"Attack_label\"] == 1].groupby([\"ip.src_host\", \"ip.dst_host\", \"Attack_type\"]).size().sort_values(ascending=False).head(15))                                       \n",
    "print(df[df[\"Attack_label\"] == 1].groupby([\"ip.src_host\", \"ip.dst_host\"]).size().sum()) "
   ]
  },
  {
   "cell_type": "code",
   "execution_count": 26,
   "metadata": {},
   "outputs": [
    {
     "name": "stdout",
     "output_type": "stream",
     "text": [
      "Number of unique IP addresses in the ip.src_host column that contains 192.168:\n",
      "5\n",
      "['192.168.0.152' '192.168.0.101' '192.168.0.128' '192.168.0.1'\n",
      " '192.168.0.170']\n",
      "\n",
      "Number of unique IP addresses in the ip.src_host column that contains 192.168 and Attack_label == 1:\n",
      "5\n",
      "['192.168.0.152' '192.168.0.101' '192.168.0.128' '192.168.0.1'\n",
      " '192.168.0.170']\n",
      "192.168.0.128    62421\n",
      "192.168.0.170    47688\n",
      "192.168.0.101      155\n",
      "192.168.0.152      120\n",
      "192.168.0.1          2\n",
      "Name: ip.src_host, dtype: int64\n",
      "\n",
      "Number of unique IP addresses in the ip.dst_host column that contains 192.168:\n",
      "4\n",
      "\n",
      "Unique IP addresses in the ip.dst_host column that contains 192.168:\n",
      "['192.168.0.128' '192.168.0.170' '192.168.0.101' '192.168.0.1']\n",
      "\n",
      "Number of unique IP addresses in the ip.dst_host column that contains 192.168 and Attack_label == 1:\n",
      "3\n",
      "['192.168.0.128' '192.168.0.170' '192.168.0.101']\n",
      "192.168.0.128    65392\n",
      "192.168.0.170    42290\n",
      "192.168.0.101        8\n",
      "Name: ip.dst_host, dtype: int64\n",
      "\n",
      "Number of unique ip.src_host and ip.dst_host combinations where Attack_label == 1 and neither column contains 192.168:\n",
      "ip.src_host    1404\n",
      "ip.dst_host    1405\n",
      "dtype: int64\n",
      "ip.src_host     ip.dst_host   \n",
      "0               0                 2928\n",
      "                0.0                873\n",
      "0.0.0.0         224.0.0.1          146\n",
      "                0.0                 58\n",
      "252.165.15.191  252.165.15.191       1\n",
      "                                  ... \n",
      "16.7.146.219    16.7.146.219         1\n",
      "16.55.228.168   16.55.228.168        1\n",
      "16.46.227.238   16.46.227.238        1\n",
      "16.252.61.184   16.252.61.184        1\n",
      "99.61.240.185   99.61.240.185        1\n",
      "Length: 1406, dtype: int64\n",
      "\n",
      "Attack types for the unique combinations of ip.src_host and ip.dst_host where Attack_label == 1 and neither column contains 192.168:\n",
      "ip.src_host    ip.dst_host    Attack_type  \n",
      "0              0              Port_Scanning    1079\n",
      "                              Ransomware       1039\n",
      "               0.0            MITM              873\n",
      "               0              XSS               350\n",
      "                              Backdoor          278\n",
      "                                               ... \n",
      "16.55.228.168  16.55.228.168  DDoS_UDP            1\n",
      "16.46.227.238  16.46.227.238  DDoS_UDP            1\n",
      "16.252.61.184  16.252.61.184  DDoS_UDP            1\n",
      "16.219.87.138  16.219.87.138  DDoS_UDP            1\n",
      "99.61.240.185  99.61.240.185  DDoS_UDP            1\n",
      "Length: 1421, dtype: int64\n"
     ]
    }
   ],
   "source": [
    "# Count the number of unique IP address in the ip.src_host column that contains 192.168\n",
    "print(\"Number of unique IP addresses in the ip.src_host column that contains 192.168:\")\n",
    "print(df[df[\"ip.src_host\"].str.contains(\"192.168\")][\"ip.src_host\"].nunique())\n",
    "\n",
    "# Show them\n",
    "print(df[df[\"ip.src_host\"].str.contains(\"192.168\")][\"ip.src_host\"].unique())\n",
    "\n",
    "# Count the number of unique IP addresses in the ip.src_host column that contains 192.168 and Attack_label == 1\n",
    "print(\"\\nNumber of unique IP addresses in the ip.src_host column that contains 192.168 and Attack_label == 1:\")\n",
    "print(df[(df[\"ip.src_host\"].str.contains(\"192.168\")) & (df[\"Attack_label\"] == 1)][\"ip.src_host\"].nunique())\n",
    "print(df[(df[\"ip.src_host\"].str.contains(\"192.168\")) & (df[\"Attack_label\"] == 1)][\"ip.src_host\"].unique())\n",
    "# Show the count of each unique value in the ip.src_host column that contains 192.168 and Attack_label == 1\n",
    "print(df[(df[\"ip.src_host\"].str.contains(\"192.168\")) & (df[\"Attack_label\"] == 1)][\"ip.src_host\"].value_counts())\n",
    "\n",
    "# Do the same again for the ip.dst_host column\n",
    "print(\"\\nNumber of unique IP addresses in the ip.dst_host column that contains 192.168:\")\n",
    "print(df[df[\"ip.dst_host\"].str.contains(\"192.168\")][\"ip.dst_host\"].nunique())\n",
    "\n",
    "# Show them\n",
    "print(\"\\nUnique IP addresses in the ip.dst_host column that contains 192.168:\")\n",
    "print(df[df[\"ip.dst_host\"].str.contains(\"192.168\")][\"ip.dst_host\"].unique())\n",
    "\n",
    "# Count the number of unique IP addresses in the ip.dst_host column that contains 192.168 and Attack_label == 1 \n",
    "print(\"\\nNumber of unique IP addresses in the ip.dst_host column that contains 192.168 and Attack_label == 1:\")\n",
    "print(df[(df[\"ip.dst_host\"].str.contains(\"192.168\")) & (df[\"Attack_label\"] == 1)][\"ip.dst_host\"].nunique())\n",
    "print(df[(df[\"ip.dst_host\"].str.contains(\"192.168\")) & (df[\"Attack_label\"] == 1)][\"ip.dst_host\"].unique())\n",
    "# Show the count of each unique value in the ip.dst_host column that contains 192.168 and Attack_label == 1\n",
    "print(df[(df[\"ip.dst_host\"].str.contains(\"192.168\")) & (df[\"Attack_label\"] == 1)][\"ip.dst_host\"].value_counts())\n",
    "\n",
    "# Count the number of unique ip.src_host and ip.dst_host combinations where Attack_label == 1 and neither column contains 192.168\n",
    "print(\"\\nNumber of unique ip.src_host and ip.dst_host combinations where Attack_label == 1 and neither column contains 192.168:\")\n",
    "print(df[(~df[\"ip.src_host\"].str.contains(\"192.168\")) & (~df[\"ip.dst_host\"].str.contains(\"192.168\")) & (df[\"Attack_label\"] == 1)][[\"ip.src_host\", \"ip.dst_host\"]].nunique())\n",
    "# Show counts of each unique combination\n",
    "print(df[(~df[\"ip.src_host\"].str.contains(\"192.168\")) & (~df[\"ip.dst_host\"].str.contains(\"192.168\")) & (df[\"Attack_label\"] == 1)][[\"ip.src_host\", \"ip.dst_host\"]].value_counts())\n",
    "\n",
    "# Show the attack types for the unique combinations of ip.src_host and ip.dst_host where Attack_label == 1 and neither column contains 192.168\n",
    "print(\"\\nAttack types for the unique combinations of ip.src_host and ip.dst_host where Attack_label == 1 and neither column contains 192.168:\")\n",
    "print(df[(~df[\"ip.src_host\"].str.contains(\"192.168\")) & (~df[\"ip.dst_host\"].str.contains(\"192.168\")) & (df[\"Attack_label\"] == 1)][[\"ip.src_host\", \"ip.dst_host\", \"Attack_type\"]].value_counts())\n",
    "\n"
   ]
  },
  {
   "cell_type": "code",
   "execution_count": 27,
   "metadata": {},
   "outputs": [
    {
     "name": "stdout",
     "output_type": "stream",
     "text": [
      "Number of rows where ip.src_host and ip.dst_host are the same:\n",
      "8520\n",
      "                     frame.time ip.src_host ip.dst_host arp.dst.proto_ipv4  \\\n",
      "1221   2021 22:14:35.855090000            0           0      192.168.0.128   \n",
      "1222   2021 22:14:35.855154000            0           0      192.168.0.170   \n",
      "1223   2021 22:14:35.995475000            0           0      192.168.0.170   \n",
      "1224   2021 22:14:35.999272000            0           0      192.168.0.128   \n",
      "1242   2021 22:15:13.959913000            0           0      192.168.0.128   \n",
      "1243   2021 22:15:13.959976000            0           0      192.168.0.170   \n",
      "1244   2021 22:15:14.005505000            0           0      192.168.0.170   \n",
      "1245   2021 22:15:14.008899000            0           0      192.168.0.128   \n",
      "1251   2021 22:15:16.545755000            0           0        192.168.0.1   \n",
      "1256   2021 22:15:28.561712000            0           0        192.168.0.1   \n",
      "\n",
      "      arp.opcode  arp.hw.size arp.src.proto_ipv4  icmp.checksum  icmp.seq_le  \\\n",
      "1221         1.0          6.0      192.168.0.170            0.0          0.0   \n",
      "1222         2.0          6.0      192.168.0.128            0.0          0.0   \n",
      "1223         1.0          6.0      192.168.0.128            0.0          0.0   \n",
      "1224         2.0          6.0      192.168.0.170            0.0          0.0   \n",
      "1242         1.0          6.0      192.168.0.170            0.0          0.0   \n",
      "1243         2.0          6.0      192.168.0.128            0.0          0.0   \n",
      "1244         1.0          6.0      192.168.0.128            0.0          0.0   \n",
      "1245         2.0          6.0      192.168.0.170            0.0          0.0   \n",
      "1251         1.0          6.0      192.168.0.101            0.0          0.0   \n",
      "1256         1.0          6.0      192.168.0.101            0.0          0.0   \n",
      "\n",
      "      icmp.transmit_timestamp  icmp.unused http.file_data  \\\n",
      "1221                      0.0          0.0            0.0   \n",
      "1222                      0.0          0.0            0.0   \n",
      "1223                      0.0          0.0            0.0   \n",
      "1224                      0.0          0.0            0.0   \n",
      "1242                      0.0          0.0            0.0   \n",
      "1243                      0.0          0.0            0.0   \n",
      "1244                      0.0          0.0            0.0   \n",
      "1245                      0.0          0.0            0.0   \n",
      "1251                      0.0          0.0            0.0   \n",
      "1256                      0.0          0.0            0.0   \n",
      "\n",
      "      http.content_length http.request.uri.query http.request.method  \\\n",
      "1221                  0.0                    0.0                 0.0   \n",
      "1222                  0.0                    0.0                 0.0   \n",
      "1223                  0.0                    0.0                 0.0   \n",
      "1224                  0.0                    0.0                 0.0   \n",
      "1242                  0.0                    0.0                 0.0   \n",
      "1243                  0.0                    0.0                 0.0   \n",
      "1244                  0.0                    0.0                 0.0   \n",
      "1245                  0.0                    0.0                 0.0   \n",
      "1251                  0.0                    0.0                 0.0   \n",
      "1256                  0.0                    0.0                 0.0   \n",
      "\n",
      "     http.referer http.request.full_uri http.request.version  http.response  \\\n",
      "1221          0.0                   0.0                  0.0            0.0   \n",
      "1222          0.0                   0.0                  0.0            0.0   \n",
      "1223          0.0                   0.0                  0.0            0.0   \n",
      "1224          0.0                   0.0                  0.0            0.0   \n",
      "1242          0.0                   0.0                  0.0            0.0   \n",
      "1243          0.0                   0.0                  0.0            0.0   \n",
      "1244          0.0                   0.0                  0.0            0.0   \n",
      "1245          0.0                   0.0                  0.0            0.0   \n",
      "1251          0.0                   0.0                  0.0            0.0   \n",
      "1256          0.0                   0.0                  0.0            0.0   \n",
      "\n",
      "      http.tls_port  tcp.ack  tcp.ack_raw  tcp.checksum  tcp.connection.fin  \\\n",
      "1221            0.0      0.0          0.0           0.0                 0.0   \n",
      "1222            0.0      0.0          0.0           0.0                 0.0   \n",
      "1223            0.0      0.0          0.0           0.0                 0.0   \n",
      "1224            0.0      0.0          0.0           0.0                 0.0   \n",
      "1242            0.0      0.0          0.0           0.0                 0.0   \n",
      "1243            0.0      0.0          0.0           0.0                 0.0   \n",
      "1244            0.0      0.0          0.0           0.0                 0.0   \n",
      "1245            0.0      0.0          0.0           0.0                 0.0   \n",
      "1251            0.0      0.0          0.0           0.0                 0.0   \n",
      "1256            0.0      0.0          0.0           0.0                 0.0   \n",
      "\n",
      "      tcp.connection.rst  tcp.connection.syn  tcp.connection.synack  \\\n",
      "1221                 0.0                 0.0                    0.0   \n",
      "1222                 0.0                 0.0                    0.0   \n",
      "1223                 0.0                 0.0                    0.0   \n",
      "1224                 0.0                 0.0                    0.0   \n",
      "1242                 0.0                 0.0                    0.0   \n",
      "1243                 0.0                 0.0                    0.0   \n",
      "1244                 0.0                 0.0                    0.0   \n",
      "1245                 0.0                 0.0                    0.0   \n",
      "1251                 0.0                 0.0                    0.0   \n",
      "1256                 0.0                 0.0                    0.0   \n",
      "\n",
      "      tcp.dstport  tcp.flags  tcp.flags.ack  tcp.len tcp.options tcp.payload  \\\n",
      "1221          0.0        0.0            0.0      0.0         0.0         0.0   \n",
      "1222          0.0        0.0            0.0      0.0         0.0         0.0   \n",
      "1223          0.0        0.0            0.0      0.0         0.0         0.0   \n",
      "1224          0.0        0.0            0.0      0.0         0.0         0.0   \n",
      "1242          0.0        0.0            0.0      0.0         0.0         0.0   \n",
      "1243          0.0        0.0            0.0      0.0         0.0         0.0   \n",
      "1244          0.0        0.0            0.0      0.0         0.0         0.0   \n",
      "1245          0.0        0.0            0.0      0.0         0.0         0.0   \n",
      "1251          0.0        0.0            0.0      0.0         0.0         0.0   \n",
      "1256          0.0        0.0            0.0      0.0         0.0         0.0   \n",
      "\n",
      "      tcp.seq tcp.srcport  udp.port  udp.stream  udp.time_delta  dns.qry.name  \\\n",
      "1221      0.0         0.0       0.0         0.0             0.0           0.0   \n",
      "1222      0.0         0.0       0.0         0.0             0.0           0.0   \n",
      "1223      0.0         0.0       0.0         0.0             0.0           0.0   \n",
      "1224      0.0         0.0       0.0         0.0             0.0           0.0   \n",
      "1242      0.0         0.0       0.0         0.0             0.0           0.0   \n",
      "1243      0.0         0.0       0.0         0.0             0.0           0.0   \n",
      "1244      0.0         0.0       0.0         0.0             0.0           0.0   \n",
      "1245      0.0         0.0       0.0         0.0             0.0           0.0   \n",
      "1251      0.0         0.0       0.0         0.0             0.0           0.0   \n",
      "1256      0.0         0.0       0.0         0.0             0.0           0.0   \n",
      "\n",
      "     dns.qry.name.len  dns.qry.qu  dns.qry.type  dns.retransmission  \\\n",
      "1221              0.0         0.0           0.0                 0.0   \n",
      "1222              0.0         0.0           0.0                 0.0   \n",
      "1223              0.0         0.0           0.0                 0.0   \n",
      "1224              0.0         0.0           0.0                 0.0   \n",
      "1242              0.0         0.0           0.0                 0.0   \n",
      "1243              0.0         0.0           0.0                 0.0   \n",
      "1244              0.0         0.0           0.0                 0.0   \n",
      "1245              0.0         0.0           0.0                 0.0   \n",
      "1251              0.0         0.0           0.0                 0.0   \n",
      "1256              0.0         0.0           0.0                 0.0   \n",
      "\n",
      "      dns.retransmit_request  dns.retransmit_request_in mqtt.conack.flags  \\\n",
      "1221                     0.0                        0.0               0.0   \n",
      "1222                     0.0                        0.0               0.0   \n",
      "1223                     0.0                        0.0               0.0   \n",
      "1224                     0.0                        0.0               0.0   \n",
      "1242                     0.0                        0.0               0.0   \n",
      "1243                     0.0                        0.0               0.0   \n",
      "1244                     0.0                        0.0               0.0   \n",
      "1245                     0.0                        0.0               0.0   \n",
      "1251                     0.0                        0.0               0.0   \n",
      "1256                     0.0                        0.0               0.0   \n",
      "\n",
      "      mqtt.conflag.cleansess  mqtt.conflags  mqtt.hdrflags  mqtt.len  \\\n",
      "1221                     0.0            0.0            0.0       0.0   \n",
      "1222                     0.0            0.0            0.0       0.0   \n",
      "1223                     0.0            0.0            0.0       0.0   \n",
      "1224                     0.0            0.0            0.0       0.0   \n",
      "1242                     0.0            0.0            0.0       0.0   \n",
      "1243                     0.0            0.0            0.0       0.0   \n",
      "1244                     0.0            0.0            0.0       0.0   \n",
      "1245                     0.0            0.0            0.0       0.0   \n",
      "1251                     0.0            0.0            0.0       0.0   \n",
      "1256                     0.0            0.0            0.0       0.0   \n",
      "\n",
      "      mqtt.msg_decoded_as mqtt.msg  mqtt.msgtype  mqtt.proto_len  \\\n",
      "1221                  0.0      0.0           0.0             0.0   \n",
      "1222                  0.0      0.0           0.0             0.0   \n",
      "1223                  0.0      0.0           0.0             0.0   \n",
      "1224                  0.0      0.0           0.0             0.0   \n",
      "1242                  0.0      0.0           0.0             0.0   \n",
      "1243                  0.0      0.0           0.0             0.0   \n",
      "1244                  0.0      0.0           0.0             0.0   \n",
      "1245                  0.0      0.0           0.0             0.0   \n",
      "1251                  0.0      0.0           0.0             0.0   \n",
      "1256                  0.0      0.0           0.0             0.0   \n",
      "\n",
      "     mqtt.protoname mqtt.topic  mqtt.topic_len  mqtt.ver  mbtcp.len  \\\n",
      "1221            0.0        0.0             0.0       0.0        0.0   \n",
      "1222            0.0        0.0             0.0       0.0        0.0   \n",
      "1223            0.0        0.0             0.0       0.0        0.0   \n",
      "1224            0.0        0.0             0.0       0.0        0.0   \n",
      "1242            0.0        0.0             0.0       0.0        0.0   \n",
      "1243            0.0        0.0             0.0       0.0        0.0   \n",
      "1244            0.0        0.0             0.0       0.0        0.0   \n",
      "1245            0.0        0.0             0.0       0.0        0.0   \n",
      "1251            0.0        0.0             0.0       0.0        0.0   \n",
      "1256            0.0        0.0             0.0       0.0        0.0   \n",
      "\n",
      "      mbtcp.trans_id  mbtcp.unit_id  Attack_label     Attack_type  \n",
      "1221             0.0            0.0             1  Fingerprinting  \n",
      "1222             0.0            0.0             1  Fingerprinting  \n",
      "1223             0.0            0.0             1  Fingerprinting  \n",
      "1224             0.0            0.0             1  Fingerprinting  \n",
      "1242             0.0            0.0             1  Fingerprinting  \n",
      "1243             0.0            0.0             1  Fingerprinting  \n",
      "1244             0.0            0.0             1  Fingerprinting  \n",
      "1245             0.0            0.0             1  Fingerprinting  \n",
      "1251             0.0            0.0             1  Fingerprinting  \n",
      "1256             0.0            0.0             1  Fingerprinting  \n"
     ]
    }
   ],
   "source": [
    "# How many rows have the same ip.src_host and ip.dst_host value in the same row\n",
    "print(\"Number of rows where ip.src_host and ip.dst_host are the same:\")\n",
    "print(df[df[\"ip.src_host\"] == df[\"ip.dst_host\"]].shape[0])\n",
    "\n",
    "# Show the first 10 rows where ip.src_host and ip.dst_host are the same\n",
    "print(df[df[\"ip.src_host\"] == df[\"ip.dst_host\"]].head(10))\n"
   ]
  },
  {
   "cell_type": "code",
   "execution_count": null,
   "metadata": {},
   "outputs": [],
   "source": []
  }
 ],
 "metadata": {
  "kernelspec": {
   "display_name": "py310",
   "language": "python",
   "name": "python3"
  },
  "language_info": {
   "codemirror_mode": {
    "name": "ipython",
    "version": 3
   },
   "file_extension": ".py",
   "mimetype": "text/x-python",
   "name": "python",
   "nbconvert_exporter": "python",
   "pygments_lexer": "ipython3",
   "version": "3.10.11"
  },
  "orig_nbformat": 4
 },
 "nbformat": 4,
 "nbformat_minor": 2
}
