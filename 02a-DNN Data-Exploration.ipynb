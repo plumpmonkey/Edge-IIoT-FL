{
 "cells": [
  {
   "cell_type": "code",
   "execution_count": 2,
   "metadata": {},
   "outputs": [],
   "source": [
    "import os\n",
    "import pandas as pd\n",
    "import numpy as np\n",
    "from sklearn.utils import shuffle\n",
    "from sklearn.model_selection import train_test_split\n",
    "from sklearn.preprocessing import StandardScaler\n",
    "from sklearn import preprocessing"
   ]
  },
  {
   "cell_type": "code",
   "execution_count": 3,
   "metadata": {},
   "outputs": [],
   "source": [
    "dataset_path = \"../datasets/Edge-IIoT/\"\n",
    "\n",
    "df = pd.read_pickle(dataset_path + \"Edge-IIoTset dataset/Selected dataset for ML and DL/DNN-EdgeIIoT-dataset.pkl\")   "
   ]
  },
  {
   "cell_type": "markdown",
   "metadata": {},
   "source": [
    "## Explore the dataset"
   ]
  },
  {
   "cell_type": "code",
   "execution_count": 4,
   "metadata": {},
   "outputs": [
    {
     "name": "stdout",
     "output_type": "stream",
     "text": [
      "Total number of samples:  2219201\n"
     ]
    }
   ],
   "source": [
    "print(\"Total number of samples: \", df.shape[0])"
   ]
  },
  {
   "cell_type": "markdown",
   "metadata": {},
   "source": [
    "### Attack types and counts"
   ]
  },
  {
   "cell_type": "code",
   "execution_count": 5,
   "metadata": {},
   "outputs": [
    {
     "name": "stdout",
     "output_type": "stream",
     "text": [
      "Normal                   1615643\n",
      "DDoS_UDP                  121568\n",
      "DDoS_ICMP                 116436\n",
      "SQL_injection              51203\n",
      "Password                   50153\n",
      "Vulnerability_scanner      50110\n",
      "DDoS_TCP                   50062\n",
      "DDoS_HTTP                  49911\n",
      "Uploading                  37634\n",
      "Backdoor                   24862\n",
      "Port_Scanning              22564\n",
      "XSS                        15915\n",
      "Ransomware                 10925\n",
      "MITM                        1214\n",
      "Fingerprinting              1001\n",
      "Name: Attack_type, dtype: int64\n",
      "2219201\n"
     ]
    }
   ],
   "source": [
    "print(df['Attack_type'].value_counts()) # print the number of each type of attack\n",
    "\n",
    "# Sum the counts of each type of attack\n",
    "print(df['Attack_type'].value_counts().sum())\n"
   ]
  },
  {
   "cell_type": "code",
   "execution_count": 26,
   "metadata": {},
   "outputs": [
    {
     "name": "stdout",
     "output_type": "stream",
     "text": [
      "Total number of attack rows = 603558\n",
      "Veryify: Total rows 2219201 - Attack rows 1615643 = 603558\n"
     ]
    }
   ],
   "source": [
    "# Sum the number of rows where Attack_type != 'Normal'\n",
    "print(f\"Total number of attack rows = {df[df['Attack_type'] != 'Normal'].shape[0]}\")\n",
    "\n",
    "print(f'Veryify: Total rows 2219201 - Attack rows 1615643 = {2219201 - 1615643}')"
   ]
  },
  {
   "cell_type": "markdown",
   "metadata": {},
   "source": [
    "### IP Addresses"
   ]
  },
  {
   "cell_type": "markdown",
   "metadata": {},
   "source": [
    "Show the different IP addresses in the dataset for Attack Type 0 (Benign) and Attack Type 1 (Malicious)"
   ]
  },
  {
   "cell_type": "code",
   "execution_count": 27,
   "metadata": {},
   "outputs": [
    {
     "name": "stdout",
     "output_type": "stream",
     "text": [
      "Number of unique IP addresses for attack_label 0: 28\n",
      "Attack type 0 unique IPs:\n",
      "['192.168.0.128' '192.168.0.101' '0' '0.0.0.0' '192.168.0.1'\n",
      " '146.101.60.86' '168.167.71.131' '94.228.220.14' '143.107.229.210'\n",
      " '85.254.217.5' '197.82.150.123' '13.244.55.14' '197.84.150.123'\n",
      " '160.119.193.252' '196.200.160.123' '224.0.0.1' '224.0.0.251'\n",
      " '31.131.0.123' '255.255.255.255' '192.168.0.255' '45.159.204.28'\n",
      " '62.149.0.30' '5.189.141.35' '196.10.52.58' '45.85.15.7' '196.10.55.57'\n",
      " '45.222.43.250' '224.0.0.252']\n"
     ]
    }
   ],
   "source": [
    "# Filter the DataFrame to only include rows where attack_label is 0\n",
    "attack_label_0 = df[df[\"Attack_label\"] == 0]\n",
    "\n",
    "# Get the unique IP addresses in the ip.src_host and ip.dst_host columns\n",
    "unique_ips = pd.concat([attack_label_0[\"ip.src_host\"], attack_label_0[\"ip.dst_host\"]]).unique()\n",
    "\n",
    "# Get the number of unique IP addresses\n",
    "num_unique_ips = len(unique_ips)\n",
    "\n",
    "# Print the number of unique IP addresses\n",
    "print(\"Number of unique IP addresses for attack_label 0:\", num_unique_ips)\n",
    "\n",
    "# print out the unique IPs\n",
    "print(\"Attack type 0 unique IPs:\")\n",
    "print(unique_ips)"
   ]
  },
  {
   "cell_type": "code",
   "execution_count": 28,
   "metadata": {},
   "outputs": [
    {
     "name": "stdout",
     "output_type": "stream",
     "text": [
      "Number of unique IP addresses for attack_label 0: 176675\n",
      "Attack type 1 unique IPs:\n",
      "['192.168.0.152' '192.168.0.101' '0' ... '158.218.153.182'\n",
      " '191.173.55.173' '242.206.172.124']\n"
     ]
    }
   ],
   "source": [
    "# Filter the DataFrame to only include rows where attack_label is 0\n",
    "attack_label_0 = df[df[\"Attack_label\"] == 1]\n",
    "\n",
    "# Get the unique IP addresses in the ip.src_host and ip.dst_host columns\n",
    "unique_ips = pd.concat([attack_label_0[\"ip.src_host\"], attack_label_0[\"ip.dst_host\"]]).unique()\n",
    "\n",
    "# Get the number of unique IP addresses\n",
    "num_unique_ips = len(unique_ips)\n",
    "\n",
    "# Print the number of unique IP addresses\n",
    "print(\"Number of unique IP addresses for attack_label 0:\", num_unique_ips)\n",
    "\n",
    "# print out the unique IPs\n",
    "print(\"Attack type 1 unique IPs:\")\n",
    "print(unique_ips)"
   ]
  },
  {
   "cell_type": "markdown",
   "metadata": {},
   "source": [
    "Explore the src/dst combinations"
   ]
  },
  {
   "cell_type": "code",
   "execution_count": 29,
   "metadata": {},
   "outputs": [
    {
     "name": "stdout",
     "output_type": "stream",
     "text": [
      "ip.src_host    ip.dst_host    \n",
      "192.168.0.170  192.168.0.128      164980\n",
      "192.168.0.128  192.168.0.170      143311\n",
      "               0                  110035\n",
      "0              0                    5068\n",
      "               0.0                   873\n",
      "192.168.0.128  224.0.0.251           275\n",
      "0.0.0.0        224.0.0.1             272\n",
      "192.168.0.128  224.0.0.252           196\n",
      "192.168.0.101  0.0                   155\n",
      "192.168.0.152  0.0                   120\n",
      "0.0.0.0        0.0                    58\n",
      "192.168.0.128  172.217.19.42          29\n",
      "172.217.19.42  192.168.0.128          22\n",
      "192.168.0.128  104.16.87.20           21\n",
      "               142.250.200.205        19\n",
      "dtype: int64\n",
      "603558\n"
     ]
    }
   ],
   "source": [
    "# Count the number of unique combinations of ip.src_host and ip.dst_host where Attack_label == 1. Show the top 5 results\n",
    "print(df[df[\"Attack_label\"] == 1].groupby([\"ip.src_host\", \"ip.dst_host\"]).size().sort_values(ascending=False).head(15))\n",
    "print(df[df[\"Attack_label\"] == 1].groupby([\"ip.src_host\", \"ip.dst_host\"]).size().sum())  \n",
    "\n"
   ]
  },
  {
   "cell_type": "markdown",
   "metadata": {},
   "source": [
    "Find Invalid IP Addresses"
   ]
  },
  {
   "cell_type": "code",
   "execution_count": 30,
   "metadata": {},
   "outputs": [
    {
     "name": "stdout",
     "output_type": "stream",
     "text": [
      "Total number of rows where ip.src_host or ip.dst_host is 0, 0.0, 0.0.0.0\n",
      "(396939, 63)\n"
     ]
    }
   ],
   "source": [
    "\n",
    "# Count the number of lines with an IP of 0, 0.0, 0.0.0.0 or Null in ip.src_host or ip.dst_host\n",
    "print(\"Total number of rows where ip.src_host or ip.dst_host is 0, 0.0, 0.0.0.0\")\n",
    "print(df[(df[\"ip.src_host\"] == \"0\") | (df[\"ip.src_host\"] == \"0.0\") | (df[\"ip.src_host\"] == \"0.0.0.0\") | (df[\"ip.src_host\"].isnull()) | (df[\"ip.dst_host\"] == \"0\") | (df[\"ip.dst_host\"] == \"0.0\") | (df[\"ip.dst_host\"] == \"0.0.0.0\") | (df[\"ip.dst_host\"].isnull())].shape)\n"
   ]
  },
  {
   "cell_type": "code",
   "execution_count": 31,
   "metadata": {},
   "outputs": [],
   "source": [
    "# # Remove those rows from the df\n",
    "# df = df[(df[\"ip.src_host\"] != \"0\") & (df[\"ip.src_host\"] != \"0.0\") & (df[\"ip.src_host\"] != \"0.0.0.0\") & (df[\"ip.src_host\"].notnull()) & (df[\"ip.dst_host\"] != \"0\") & (df[\"ip.dst_host\"] != \"0.0\") & (df[\"ip.dst_host\"] != \"0.0.0.0\") & (df[\"ip.dst_host\"].notnull())]\n"
   ]
  },
  {
   "cell_type": "code",
   "execution_count": 35,
   "metadata": {},
   "outputs": [
    {
     "name": "stdout",
     "output_type": "stream",
     "text": [
      "The top 15 unique combinations of ip.src_host and ip.dst_host where Attack_label == 1\n",
      "ip.src_host    ip.dst_host    Attack_type          \n",
      "192.168.0.128  0              DDoS_UDP                 110035\n",
      "192.168.0.170  192.168.0.128  DDoS_HTTP                 33330\n",
      "                              SQL_injection             26375\n",
      "192.168.0.128  192.168.0.170  Password                  25265\n",
      "                              Vulnerability_scanner     25085\n",
      "192.168.0.170  192.168.0.128  Vulnerability_scanner     24886\n",
      "                              Password                  24814\n",
      "192.168.0.128  192.168.0.170  SQL_injection             24771\n",
      "192.168.0.170  192.168.0.128  Uploading                 20470\n",
      "192.168.0.128  192.168.0.170  Uploading                 17101\n",
      "                              DDoS_HTTP                 16564\n",
      "                              Backdoor                  12200\n",
      "192.168.0.170  192.168.0.128  Backdoor                  11826\n",
      "                              Port_Scanning              9987\n",
      "192.168.0.128  192.168.0.170  Port_Scanning              9987\n",
      "dtype: int64\n",
      "603558\n"
     ]
    }
   ],
   "source": [
    "# Count the number of unique combinations of ip.src_host and ip.dst_host where Attack_label == 1. Show the top 5 results\n",
    "print(\"The top 15 unique combinations of ip.src_host and ip.dst_host where Attack_label == 1\")\n",
    "print(df[df[\"Attack_label\"] == 1].groupby([\"ip.src_host\", \"ip.dst_host\", \"Attack_type\"]).size().sort_values(ascending=False).head(15))                                       \n",
    "print(df[df[\"Attack_label\"] == 1].groupby([\"ip.src_host\", \"ip.dst_host\"]).size().sum()) "
   ]
  },
  {
   "cell_type": "code",
   "execution_count": 37,
   "metadata": {},
   "outputs": [
    {
     "name": "stdout",
     "output_type": "stream",
     "text": [
      "Number of unique IP addresses in the ip.src_host column that contains 192.168:\n",
      "5\n",
      "['192.168.0.128' '192.168.0.101' '192.168.0.1' '192.168.0.152'\n",
      " '192.168.0.170']\n",
      "\n",
      "Number of unique IP addresses in the ip.src_host column that contains 192.168 and Attack_label == 1:\n",
      "5\n",
      "['192.168.0.152' '192.168.0.101' '192.168.0.128' '192.168.0.1'\n",
      " '192.168.0.170']\n",
      "192.168.0.128    294788\n",
      "192.168.0.170    164982\n",
      "192.168.0.101       155\n",
      "192.168.0.152       120\n",
      "192.168.0.1           2\n",
      "Name: ip.src_host, dtype: int64\n",
      "\n",
      "Number of unique IP addresses in the ip.dst_host column that contains 192.168:\n",
      "5\n",
      "\n",
      "Unique IP addresses in the ip.dst_host column that contains 192.168:\n",
      "['192.168.0.101' '192.168.0.128' '192.168.0.1' '192.168.0.255'\n",
      " '192.168.0.170']\n",
      "\n",
      "Number of unique IP addresses in the ip.dst_host column that contains 192.168 and Attack_label == 1:\n",
      "3\n",
      "['192.168.0.128' '192.168.0.170' '192.168.0.101']\n",
      "192.168.0.128    290687\n",
      "192.168.0.170    143311\n",
      "192.168.0.101        12\n",
      "Name: ip.dst_host, dtype: int64\n",
      "\n",
      "Number of unique ip.src_host and ip.dst_host combinations where Attack_label == 1 and neither column contains 192.168:\n",
      "ip.src_host    11535\n",
      "ip.dst_host    11536\n",
      "dtype: int64\n",
      "ip.src_host     ip.dst_host   \n",
      "0               0                 5068\n",
      "                0.0                873\n",
      "0.0.0.0         224.0.0.1          272\n",
      "                0.0                 58\n",
      "240.134.101.46  240.134.101.46       1\n",
      "                                  ... \n",
      "163.46.46.210   163.46.46.210        1\n",
      "163.51.242.242  163.51.242.242       1\n",
      "163.57.226.239  163.57.226.239       1\n",
      "163.6.58.173    163.6.58.173         1\n",
      "99.91.245.167   99.91.245.167        1\n",
      "Length: 11537, dtype: int64\n",
      "\n",
      "Attack types for the unique combinations of ip.src_host and ip.dst_host where Attack_label == 1 and neither column contains 192.168:\n",
      "ip.src_host     ip.dst_host     Attack_type  \n",
      "0               0               Port_Scanning    2430\n",
      "                                Ransomware       1039\n",
      "                0.0             MITM              873\n",
      "                0               Backdoor          690\n",
      "                                XSS               552\n",
      "                                                 ... \n",
      "163.43.129.182  163.43.129.182  DDoS_UDP            1\n",
      "163.44.68.73    163.44.68.73    DDoS_UDP            1\n",
      "163.46.46.210   163.46.46.210   DDoS_UDP            1\n",
      "163.51.242.242  163.51.242.242  DDoS_UDP            1\n",
      "99.91.245.167   99.91.245.167   DDoS_UDP            1\n",
      "Length: 11557, dtype: int64\n"
     ]
    }
   ],
   "source": [
    "# Count the number of unique IP address in the ip.src_host column that contains 192.168\n",
    "print(\"Number of unique IP addresses in the ip.src_host column that contains 192.168:\")\n",
    "print(df[df[\"ip.src_host\"].str.contains(\"192.168\")][\"ip.src_host\"].nunique())\n",
    "\n",
    "# Show them\n",
    "print(df[df[\"ip.src_host\"].str.contains(\"192.168\")][\"ip.src_host\"].unique())\n",
    "\n",
    "# Count the number of unique IP addresses in the ip.src_host column that contains 192.168 and Attack_label == 1\n",
    "print(\"\\nNumber of unique IP addresses in the ip.src_host column that contains 192.168 and Attack_label == 1:\")\n",
    "print(df[(df[\"ip.src_host\"].str.contains(\"192.168\")) & (df[\"Attack_label\"] == 1)][\"ip.src_host\"].nunique())\n",
    "print(df[(df[\"ip.src_host\"].str.contains(\"192.168\")) & (df[\"Attack_label\"] == 1)][\"ip.src_host\"].unique())\n",
    "# Show the count of each unique value in the ip.src_host column that contains 192.168 and Attack_label == 1\n",
    "print(df[(df[\"ip.src_host\"].str.contains(\"192.168\")) & (df[\"Attack_label\"] == 1)][\"ip.src_host\"].value_counts())\n",
    "\n",
    "# Do the same again for the ip.dst_host column\n",
    "print(\"\\nNumber of unique IP addresses in the ip.dst_host column that contains 192.168:\")\n",
    "print(df[df[\"ip.dst_host\"].str.contains(\"192.168\")][\"ip.dst_host\"].nunique())\n",
    "\n",
    "# Show them\n",
    "print(\"\\nUnique IP addresses in the ip.dst_host column that contains 192.168:\")\n",
    "print(df[df[\"ip.dst_host\"].str.contains(\"192.168\")][\"ip.dst_host\"].unique())\n",
    "\n",
    "# Count the number of unique IP addresses in the ip.dst_host column that contains 192.168 and Attack_label == 1 \n",
    "print(\"\\nNumber of unique IP addresses in the ip.dst_host column that contains 192.168 and Attack_label == 1:\")\n",
    "print(df[(df[\"ip.dst_host\"].str.contains(\"192.168\")) & (df[\"Attack_label\"] == 1)][\"ip.dst_host\"].nunique())\n",
    "print(df[(df[\"ip.dst_host\"].str.contains(\"192.168\")) & (df[\"Attack_label\"] == 1)][\"ip.dst_host\"].unique())\n",
    "# Show the count of each unique value in the ip.dst_host column that contains 192.168 and Attack_label == 1\n",
    "print(df[(df[\"ip.dst_host\"].str.contains(\"192.168\")) & (df[\"Attack_label\"] == 1)][\"ip.dst_host\"].value_counts())\n",
    "\n",
    "# Count the number of unique ip.src_host and ip.dst_host combinations where Attack_label == 1 and neither column contains 192.168\n",
    "print(\"\\nNumber of unique ip.src_host and ip.dst_host combinations where Attack_label == 1 and neither column contains 192.168:\")\n",
    "print(df[(~df[\"ip.src_host\"].str.contains(\"192.168\")) & (~df[\"ip.dst_host\"].str.contains(\"192.168\")) & (df[\"Attack_label\"] == 1)][[\"ip.src_host\", \"ip.dst_host\"]].nunique())\n",
    "# Show counts of each unique combination\n",
    "print(df[(~df[\"ip.src_host\"].str.contains(\"192.168\")) & (~df[\"ip.dst_host\"].str.contains(\"192.168\")) & (df[\"Attack_label\"] == 1)][[\"ip.src_host\", \"ip.dst_host\"]].value_counts())\n",
    "\n",
    "# Show the attack types for the unique combinations of ip.src_host and ip.dst_host where Attack_label == 1 and neither column contains 192.168\n",
    "print(\"\\nAttack types for the unique combinations of ip.src_host and ip.dst_host where Attack_label == 1 and neither column contains 192.168:\")\n",
    "print(df[(~df[\"ip.src_host\"].str.contains(\"192.168\")) & (~df[\"ip.dst_host\"].str.contains(\"192.168\")) & (df[\"Attack_label\"] == 1)][[\"ip.src_host\", \"ip.dst_host\", \"Attack_type\"]].value_counts())\n",
    "\n"
   ]
  },
  {
   "cell_type": "code",
   "execution_count": 40,
   "metadata": {},
   "outputs": [
    {
     "name": "stdout",
     "output_type": "stream",
     "text": [
      "Number of rows where ip.src_host and ip.dst_host are the same:\n",
      "296264\n",
      "                    frame.time ip.src_host ip.dst_host arp.dst.proto_ipv4  \\\n",
      "386   2021 11:44:32.409815000            0           0      192.168.0.128   \n",
      "387   2021 11:44:32.409849000            0           0        192.168.0.1   \n",
      "693   2021 11:44:51.587220000            0           0                  0   \n",
      "694   2021 11:44:51.993461000            0           0                  0   \n",
      "712   2021 11:44:52.990740000            0           0                  0   \n",
      "761   2021 11:44:56.487014000            0           0                  0   \n",
      "810   2021 11:44:58.721757000            0           0                  0   \n",
      "811   2021 11:44:59.361750000            0           0                  0   \n",
      "908   2021 11:45:04.641742000            0           0        192.168.0.1   \n",
      "909   2021 11:45:04.642986000            0           0      192.168.0.128   \n",
      "\n",
      "     arp.opcode  arp.hw.size arp.src.proto_ipv4  icmp.checksum  icmp.seq_le  \\\n",
      "386         1.0          6.0        192.168.0.1            0.0          0.0   \n",
      "387         2.0          6.0      192.168.0.128            0.0          0.0   \n",
      "693         0.0          0.0                  0            0.0          0.0   \n",
      "694         0.0          0.0                  0            0.0          0.0   \n",
      "712         0.0          0.0                  0            0.0          0.0   \n",
      "761         0.0          0.0                  0            0.0          0.0   \n",
      "810         0.0          0.0                  0            0.0          0.0   \n",
      "811         0.0          0.0                  0            0.0          0.0   \n",
      "908         1.0          6.0      192.168.0.128            0.0          0.0   \n",
      "909         2.0          6.0        192.168.0.1            0.0          0.0   \n",
      "\n",
      "     icmp.transmit_timestamp  ...  mqtt.proto_len mqtt.protoname  mqtt.topic  \\\n",
      "386                      0.0  ...             0.0              0           0   \n",
      "387                      0.0  ...             0.0              0           0   \n",
      "693                      0.0  ...             0.0              0           0   \n",
      "694                      0.0  ...             0.0              0           0   \n",
      "712                      0.0  ...             0.0              0           0   \n",
      "761                      0.0  ...             0.0              0           0   \n",
      "810                      0.0  ...             0.0              0           0   \n",
      "811                      0.0  ...             0.0              0           0   \n",
      "908                      0.0  ...             0.0              0           0   \n",
      "909                      0.0  ...             0.0              0           0   \n",
      "\n",
      "    mqtt.topic_len mqtt.ver mbtcp.len mbtcp.trans_id mbtcp.unit_id  \\\n",
      "386            0.0      0.0       0.0            0.0           0.0   \n",
      "387            0.0      0.0       0.0            0.0           0.0   \n",
      "693            0.0      0.0       0.0            0.0           0.0   \n",
      "694            0.0      0.0       0.0            0.0           0.0   \n",
      "712            0.0      0.0       0.0            0.0           0.0   \n",
      "761            0.0      0.0       0.0            0.0           0.0   \n",
      "810            0.0      0.0       0.0            0.0           0.0   \n",
      "811            0.0      0.0       0.0            0.0           0.0   \n",
      "908            0.0      0.0       0.0            0.0           0.0   \n",
      "909            0.0      0.0       0.0            0.0           0.0   \n",
      "\n",
      "     Attack_label  Attack_type  \n",
      "386             0       Normal  \n",
      "387             0       Normal  \n",
      "693             0       Normal  \n",
      "694             0       Normal  \n",
      "712             0       Normal  \n",
      "761             0       Normal  \n",
      "810             0       Normal  \n",
      "811             0       Normal  \n",
      "908             0       Normal  \n",
      "909             0       Normal  \n",
      "\n",
      "[10 rows x 63 columns]\n"
     ]
    }
   ],
   "source": [
    "# How many rows have the same ip.src_host and ip.dst_host value in the same row\n",
    "print(\"Number of rows where ip.src_host and ip.dst_host are the same:\")\n",
    "print(df[df[\"ip.src_host\"] == df[\"ip.dst_host\"]].shape[0])\n",
    "\n",
    "# Show the first 10 rows where ip.src_host and ip.dst_host are the same\n",
    "print(df[df[\"ip.src_host\"] == df[\"ip.dst_host\"]].head(10))\n"
   ]
  },
  {
   "cell_type": "code",
   "execution_count": 43,
   "metadata": {},
   "outputs": [
    {
     "name": "stdout",
     "output_type": "stream",
     "text": [
      "frame.time             2021 11:44:10.162218000 \n",
      "ip.src_host                       192.168.0.101\n",
      "ip.dst_host                       192.168.0.128\n",
      "arp.dst.proto_ipv4                            0\n",
      "arp.opcode                                  0.0\n",
      "                                ...            \n",
      "mbtcp.len                                   0.0\n",
      "mbtcp.trans_id                              0.0\n",
      "mbtcp.unit_id                               0.0\n",
      "Attack_label                                  0\n",
      "Attack_type                              Normal\n",
      "Name: 1, Length: 63, dtype: object\n"
     ]
    }
   ],
   "source": [
    "# Show row 1 of the dataframe in full without any truncation\n",
    "pd.set_option(\"display.max_columns\", None)\n",
    "print(df.iloc[1])\n"
   ]
  },
  {
   "cell_type": "code",
   "execution_count": null,
   "metadata": {},
   "outputs": [],
   "source": []
  }
 ],
 "metadata": {
  "kernelspec": {
   "display_name": "py310",
   "language": "python",
   "name": "python3"
  },
  "language_info": {
   "codemirror_mode": {
    "name": "ipython",
    "version": 3
   },
   "file_extension": ".py",
   "mimetype": "text/x-python",
   "name": "python",
   "nbconvert_exporter": "python",
   "pygments_lexer": "ipython3",
   "version": "3.10.11"
  },
  "orig_nbformat": 4
 },
 "nbformat": 4,
 "nbformat_minor": 2
}
