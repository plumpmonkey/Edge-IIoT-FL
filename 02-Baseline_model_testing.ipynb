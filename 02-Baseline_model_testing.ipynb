{
 "cells": [
  {
   "attachments": {},
   "cell_type": "markdown",
   "metadata": {},
   "source": [
    "# A baseline ML models for comparison"
   ]
  },
  {
   "attachments": {},
   "cell_type": "markdown",
   "metadata": {},
   "source": [
    "## 1. Load the data"
   ]
  },
  {
   "cell_type": "code",
   "execution_count": 1,
   "metadata": {},
   "outputs": [],
   "source": [
    "import os\n",
    "import pandas as pd\n",
    "import numpy as np\n",
    "from sklearn import preprocessing\n",
    "from sklearn.utils import shuffle\n",
    "from sklearn.model_selection import train_test_split\n",
    "from sklearn.preprocessing import StandardScaler\n",
    "from sklearn.preprocessing import MinMaxScaler\n",
    "from sklearn.metrics import classification_report\n",
    "from sklearn.metrics import confusion_matrix\n",
    "from sklearn.metrics import accuracy_score\n"
   ]
  },
  {
   "cell_type": "code",
   "execution_count": 2,
   "metadata": {},
   "outputs": [],
   "source": [
    "dataset_path = \"../datasets/Edge-IIoT/\"\n",
    "\n",
    "df = pd.read_pickle(dataset_path + \"Edge-IIoTset dataset/Selected dataset for ML and DL/ML-EdgeIIoT-dataset.pkl\")   "
   ]
  },
  {
   "cell_type": "code",
   "execution_count": 3,
   "metadata": {},
   "outputs": [
    {
     "data": {
      "text/html": [
       "<div>\n",
       "<style scoped>\n",
       "    .dataframe tbody tr th:only-of-type {\n",
       "        vertical-align: middle;\n",
       "    }\n",
       "\n",
       "    .dataframe tbody tr th {\n",
       "        vertical-align: top;\n",
       "    }\n",
       "\n",
       "    .dataframe thead th {\n",
       "        text-align: right;\n",
       "    }\n",
       "</style>\n",
       "<table border=\"1\" class=\"dataframe\">\n",
       "  <thead>\n",
       "    <tr style=\"text-align: right;\">\n",
       "      <th></th>\n",
       "      <th>frame.time</th>\n",
       "      <th>ip.src_host</th>\n",
       "      <th>ip.dst_host</th>\n",
       "      <th>arp.dst.proto_ipv4</th>\n",
       "      <th>arp.opcode</th>\n",
       "      <th>arp.hw.size</th>\n",
       "      <th>arp.src.proto_ipv4</th>\n",
       "      <th>icmp.checksum</th>\n",
       "      <th>icmp.seq_le</th>\n",
       "      <th>icmp.transmit_timestamp</th>\n",
       "      <th>...</th>\n",
       "      <th>mqtt.proto_len</th>\n",
       "      <th>mqtt.protoname</th>\n",
       "      <th>mqtt.topic</th>\n",
       "      <th>mqtt.topic_len</th>\n",
       "      <th>mqtt.ver</th>\n",
       "      <th>mbtcp.len</th>\n",
       "      <th>mbtcp.trans_id</th>\n",
       "      <th>mbtcp.unit_id</th>\n",
       "      <th>Attack_label</th>\n",
       "      <th>Attack_type</th>\n",
       "    </tr>\n",
       "  </thead>\n",
       "  <tbody>\n",
       "    <tr>\n",
       "      <th>0</th>\n",
       "      <td>6.0</td>\n",
       "      <td>192.168.0.152</td>\n",
       "      <td>0.0</td>\n",
       "      <td>0.0</td>\n",
       "      <td>0.0</td>\n",
       "      <td>0.0</td>\n",
       "      <td>0.0</td>\n",
       "      <td>0.0</td>\n",
       "      <td>0.0</td>\n",
       "      <td>0.0</td>\n",
       "      <td>...</td>\n",
       "      <td>0.0</td>\n",
       "      <td>0.0</td>\n",
       "      <td>0.0</td>\n",
       "      <td>0.0</td>\n",
       "      <td>0.0</td>\n",
       "      <td>0.0</td>\n",
       "      <td>0.0</td>\n",
       "      <td>0.0</td>\n",
       "      <td>1</td>\n",
       "      <td>MITM</td>\n",
       "    </tr>\n",
       "    <tr>\n",
       "      <th>1</th>\n",
       "      <td>6.0</td>\n",
       "      <td>192.168.0.101</td>\n",
       "      <td>0.0</td>\n",
       "      <td>0.0</td>\n",
       "      <td>0.0</td>\n",
       "      <td>0.0</td>\n",
       "      <td>0.0</td>\n",
       "      <td>0.0</td>\n",
       "      <td>0.0</td>\n",
       "      <td>0.0</td>\n",
       "      <td>...</td>\n",
       "      <td>0.0</td>\n",
       "      <td>0.0</td>\n",
       "      <td>0.0</td>\n",
       "      <td>0.0</td>\n",
       "      <td>0.0</td>\n",
       "      <td>0.0</td>\n",
       "      <td>0.0</td>\n",
       "      <td>0.0</td>\n",
       "      <td>1</td>\n",
       "      <td>MITM</td>\n",
       "    </tr>\n",
       "    <tr>\n",
       "      <th>2</th>\n",
       "      <td>6.0</td>\n",
       "      <td>192.168.0.152</td>\n",
       "      <td>0.0</td>\n",
       "      <td>0.0</td>\n",
       "      <td>0.0</td>\n",
       "      <td>0.0</td>\n",
       "      <td>0.0</td>\n",
       "      <td>0.0</td>\n",
       "      <td>0.0</td>\n",
       "      <td>0.0</td>\n",
       "      <td>...</td>\n",
       "      <td>0.0</td>\n",
       "      <td>0.0</td>\n",
       "      <td>0.0</td>\n",
       "      <td>0.0</td>\n",
       "      <td>0.0</td>\n",
       "      <td>0.0</td>\n",
       "      <td>0.0</td>\n",
       "      <td>0.0</td>\n",
       "      <td>1</td>\n",
       "      <td>MITM</td>\n",
       "    </tr>\n",
       "    <tr>\n",
       "      <th>3</th>\n",
       "      <td>6.0</td>\n",
       "      <td>192.168.0.101</td>\n",
       "      <td>0.0</td>\n",
       "      <td>0.0</td>\n",
       "      <td>0.0</td>\n",
       "      <td>0.0</td>\n",
       "      <td>0.0</td>\n",
       "      <td>0.0</td>\n",
       "      <td>0.0</td>\n",
       "      <td>0.0</td>\n",
       "      <td>...</td>\n",
       "      <td>0.0</td>\n",
       "      <td>0.0</td>\n",
       "      <td>0.0</td>\n",
       "      <td>0.0</td>\n",
       "      <td>0.0</td>\n",
       "      <td>0.0</td>\n",
       "      <td>0.0</td>\n",
       "      <td>0.0</td>\n",
       "      <td>1</td>\n",
       "      <td>MITM</td>\n",
       "    </tr>\n",
       "    <tr>\n",
       "      <th>4</th>\n",
       "      <td>6.0</td>\n",
       "      <td>192.168.0.152</td>\n",
       "      <td>0.0</td>\n",
       "      <td>0.0</td>\n",
       "      <td>0.0</td>\n",
       "      <td>0.0</td>\n",
       "      <td>0.0</td>\n",
       "      <td>0.0</td>\n",
       "      <td>0.0</td>\n",
       "      <td>0.0</td>\n",
       "      <td>...</td>\n",
       "      <td>0.0</td>\n",
       "      <td>0.0</td>\n",
       "      <td>0.0</td>\n",
       "      <td>0.0</td>\n",
       "      <td>0.0</td>\n",
       "      <td>0.0</td>\n",
       "      <td>0.0</td>\n",
       "      <td>0.0</td>\n",
       "      <td>1</td>\n",
       "      <td>MITM</td>\n",
       "    </tr>\n",
       "  </tbody>\n",
       "</table>\n",
       "<p>5 rows × 63 columns</p>\n",
       "</div>"
      ],
      "text/plain": [
       "  frame.time    ip.src_host ip.dst_host arp.dst.proto_ipv4  arp.opcode  \\\n",
       "0        6.0  192.168.0.152         0.0                0.0         0.0   \n",
       "1        6.0  192.168.0.101         0.0                0.0         0.0   \n",
       "2        6.0  192.168.0.152         0.0                0.0         0.0   \n",
       "3        6.0  192.168.0.101         0.0                0.0         0.0   \n",
       "4        6.0  192.168.0.152         0.0                0.0         0.0   \n",
       "\n",
       "   arp.hw.size arp.src.proto_ipv4  icmp.checksum  icmp.seq_le  \\\n",
       "0          0.0                0.0            0.0          0.0   \n",
       "1          0.0                0.0            0.0          0.0   \n",
       "2          0.0                0.0            0.0          0.0   \n",
       "3          0.0                0.0            0.0          0.0   \n",
       "4          0.0                0.0            0.0          0.0   \n",
       "\n",
       "   icmp.transmit_timestamp  ...  mqtt.proto_len mqtt.protoname  mqtt.topic  \\\n",
       "0                      0.0  ...             0.0            0.0         0.0   \n",
       "1                      0.0  ...             0.0            0.0         0.0   \n",
       "2                      0.0  ...             0.0            0.0         0.0   \n",
       "3                      0.0  ...             0.0            0.0         0.0   \n",
       "4                      0.0  ...             0.0            0.0         0.0   \n",
       "\n",
       "  mqtt.topic_len mqtt.ver mbtcp.len mbtcp.trans_id mbtcp.unit_id  \\\n",
       "0            0.0      0.0       0.0            0.0           0.0   \n",
       "1            0.0      0.0       0.0            0.0           0.0   \n",
       "2            0.0      0.0       0.0            0.0           0.0   \n",
       "3            0.0      0.0       0.0            0.0           0.0   \n",
       "4            0.0      0.0       0.0            0.0           0.0   \n",
       "\n",
       "   Attack_label  Attack_type  \n",
       "0             1         MITM  \n",
       "1             1         MITM  \n",
       "2             1         MITM  \n",
       "3             1         MITM  \n",
       "4             1         MITM  \n",
       "\n",
       "[5 rows x 63 columns]"
      ]
     },
     "execution_count": 3,
     "metadata": {},
     "output_type": "execute_result"
    }
   ],
   "source": [
    "# Show the first 5 rows of the dataset\n",
    "df.head()"
   ]
  },
  {
   "cell_type": "code",
   "execution_count": 4,
   "metadata": {},
   "outputs": [
    {
     "name": "stdout",
     "output_type": "stream",
     "text": [
      "Normal                   24301\n",
      "DDoS_UDP                 14498\n",
      "DDoS_ICMP                14090\n",
      "Ransomware               10925\n",
      "DDoS_HTTP                10561\n",
      "SQL_injection            10311\n",
      "Uploading                10269\n",
      "DDoS_TCP                 10247\n",
      "Backdoor                 10195\n",
      "Vulnerability_scanner    10076\n",
      "Port_Scanning            10071\n",
      "XSS                      10052\n",
      "Password                  9989\n",
      "MITM                      1214\n",
      "Fingerprinting            1001\n",
      "Name: Attack_type, dtype: int64\n",
      "\n",
      "Dataframe shape: (157800, 63)\n"
     ]
    }
   ],
   "source": [
    "# Show the different attack labels\n",
    "print(df['Attack_type'].value_counts())\n",
    "\n",
    "# Show the shape and size of the dataset\n",
    "print(f\"\\nDataframe shape: {df.shape}\")"
   ]
  },
  {
   "cell_type": "markdown",
   "metadata": {},
   "source": [
    "### Data Preparation - Drop data (Columns, duplicated rows, NAN, Null..)"
   ]
  },
  {
   "cell_type": "code",
   "execution_count": 5,
   "metadata": {},
   "outputs": [
    {
     "data": {
      "text/plain": [
       "arp.opcode                   0\n",
       "arp.hw.size                  0\n",
       "icmp.checksum                0\n",
       "icmp.seq_le                  0\n",
       "icmp.unused                  0\n",
       "http.content_length          0\n",
       "http.request.method          0\n",
       "http.referer                 0\n",
       "http.request.version         0\n",
       "http.response                0\n",
       "http.tls_port                0\n",
       "tcp.ack                      0\n",
       "tcp.ack_raw                  0\n",
       "tcp.checksum                 0\n",
       "tcp.connection.fin           0\n",
       "tcp.connection.rst           0\n",
       "tcp.connection.syn           0\n",
       "tcp.connection.synack        0\n",
       "tcp.flags                    0\n",
       "tcp.flags.ack                0\n",
       "tcp.len                      0\n",
       "tcp.seq                      0\n",
       "udp.stream                   0\n",
       "udp.time_delta               0\n",
       "dns.qry.name                 0\n",
       "dns.qry.name.len             0\n",
       "dns.qry.qu                   0\n",
       "dns.qry.type                 0\n",
       "dns.retransmission           0\n",
       "dns.retransmit_request       0\n",
       "dns.retransmit_request_in    0\n",
       "mqtt.conack.flags            0\n",
       "mqtt.conflag.cleansess       0\n",
       "mqtt.conflags                0\n",
       "mqtt.hdrflags                0\n",
       "mqtt.len                     0\n",
       "mqtt.msg_decoded_as          0\n",
       "mqtt.msgtype                 0\n",
       "mqtt.proto_len               0\n",
       "mqtt.protoname               0\n",
       "mqtt.topic                   0\n",
       "mqtt.topic_len               0\n",
       "mqtt.ver                     0\n",
       "mbtcp.len                    0\n",
       "mbtcp.trans_id               0\n",
       "mbtcp.unit_id                0\n",
       "Attack_label                 0\n",
       "Attack_type                  0\n",
       "dtype: int64"
      ]
     },
     "execution_count": 5,
     "metadata": {},
     "output_type": "execute_result"
    }
   ],
   "source": [
    "drop_columns = [\"frame.time\", \"ip.src_host\", \"ip.dst_host\", \"arp.src.proto_ipv4\",\"arp.dst.proto_ipv4\", \n",
    "\n",
    "         \"http.file_data\",\"http.request.full_uri\",\"icmp.transmit_timestamp\",\n",
    "\n",
    "         \"http.request.uri.query\", \"tcp.options\",\"tcp.payload\",\"tcp.srcport\",\n",
    "\n",
    "         \"tcp.dstport\", \"udp.port\", \"mqtt.msg\"]\n",
    "\n",
    "df.drop(drop_columns, axis=1, inplace=True)\n",
    "\n",
    "df.dropna(axis=0, how='any', inplace=True)\n",
    "\n",
    "df.drop_duplicates(subset=None, keep=\"first\", inplace=True)\n",
    "\n",
    "df = shuffle(df)\n",
    "\n",
    "# Compute the number of missing values (NaN or null) in each column of a pandas DataFrame object named df.\n",
    "df.isna().sum()"
   ]
  },
  {
   "cell_type": "code",
   "execution_count": 6,
   "metadata": {},
   "outputs": [
    {
     "name": "stdout",
     "output_type": "stream",
     "text": [
      "\n",
      "Dataframe shape: (152196, 48)\n"
     ]
    },
    {
     "data": {
      "text/html": [
       "<div>\n",
       "<style scoped>\n",
       "    .dataframe tbody tr th:only-of-type {\n",
       "        vertical-align: middle;\n",
       "    }\n",
       "\n",
       "    .dataframe tbody tr th {\n",
       "        vertical-align: top;\n",
       "    }\n",
       "\n",
       "    .dataframe thead th {\n",
       "        text-align: right;\n",
       "    }\n",
       "</style>\n",
       "<table border=\"1\" class=\"dataframe\">\n",
       "  <thead>\n",
       "    <tr style=\"text-align: right;\">\n",
       "      <th></th>\n",
       "      <th>arp.opcode</th>\n",
       "      <th>arp.hw.size</th>\n",
       "      <th>icmp.checksum</th>\n",
       "      <th>icmp.seq_le</th>\n",
       "      <th>icmp.unused</th>\n",
       "      <th>http.content_length</th>\n",
       "      <th>http.request.method</th>\n",
       "      <th>http.referer</th>\n",
       "      <th>http.request.version</th>\n",
       "      <th>http.response</th>\n",
       "      <th>...</th>\n",
       "      <th>mqtt.proto_len</th>\n",
       "      <th>mqtt.protoname</th>\n",
       "      <th>mqtt.topic</th>\n",
       "      <th>mqtt.topic_len</th>\n",
       "      <th>mqtt.ver</th>\n",
       "      <th>mbtcp.len</th>\n",
       "      <th>mbtcp.trans_id</th>\n",
       "      <th>mbtcp.unit_id</th>\n",
       "      <th>Attack_label</th>\n",
       "      <th>Attack_type</th>\n",
       "    </tr>\n",
       "  </thead>\n",
       "  <tbody>\n",
       "    <tr>\n",
       "      <th>3029</th>\n",
       "      <td>0.0</td>\n",
       "      <td>0.0</td>\n",
       "      <td>0.0</td>\n",
       "      <td>0.0</td>\n",
       "      <td>0.0</td>\n",
       "      <td>0.0</td>\n",
       "      <td>0.0</td>\n",
       "      <td>0.0</td>\n",
       "      <td>0.0</td>\n",
       "      <td>0.0</td>\n",
       "      <td>...</td>\n",
       "      <td>0.0</td>\n",
       "      <td>0.0</td>\n",
       "      <td>0.0</td>\n",
       "      <td>0.0</td>\n",
       "      <td>0.0</td>\n",
       "      <td>0.0</td>\n",
       "      <td>0.0</td>\n",
       "      <td>0.0</td>\n",
       "      <td>1</td>\n",
       "      <td>Ransomware</td>\n",
       "    </tr>\n",
       "    <tr>\n",
       "      <th>70872</th>\n",
       "      <td>0.0</td>\n",
       "      <td>0.0</td>\n",
       "      <td>0.0</td>\n",
       "      <td>0.0</td>\n",
       "      <td>0.0</td>\n",
       "      <td>0.0</td>\n",
       "      <td>0.0</td>\n",
       "      <td>0.0</td>\n",
       "      <td>0.0</td>\n",
       "      <td>0.0</td>\n",
       "      <td>...</td>\n",
       "      <td>0.0</td>\n",
       "      <td>0.0</td>\n",
       "      <td>0.0</td>\n",
       "      <td>0.0</td>\n",
       "      <td>0.0</td>\n",
       "      <td>0.0</td>\n",
       "      <td>0.0</td>\n",
       "      <td>0.0</td>\n",
       "      <td>1</td>\n",
       "      <td>Port_Scanning</td>\n",
       "    </tr>\n",
       "    <tr>\n",
       "      <th>110027</th>\n",
       "      <td>0.0</td>\n",
       "      <td>0.0</td>\n",
       "      <td>0.0</td>\n",
       "      <td>0.0</td>\n",
       "      <td>0.0</td>\n",
       "      <td>0.0</td>\n",
       "      <td>0.0</td>\n",
       "      <td>0.0</td>\n",
       "      <td>0.0</td>\n",
       "      <td>0.0</td>\n",
       "      <td>...</td>\n",
       "      <td>0.0</td>\n",
       "      <td>0</td>\n",
       "      <td>0</td>\n",
       "      <td>0.0</td>\n",
       "      <td>0.0</td>\n",
       "      <td>0.0</td>\n",
       "      <td>0.0</td>\n",
       "      <td>0.0</td>\n",
       "      <td>0</td>\n",
       "      <td>Normal</td>\n",
       "    </tr>\n",
       "    <tr>\n",
       "      <th>118800</th>\n",
       "      <td>0.0</td>\n",
       "      <td>0.0</td>\n",
       "      <td>0.0</td>\n",
       "      <td>0.0</td>\n",
       "      <td>0.0</td>\n",
       "      <td>0.0</td>\n",
       "      <td>0.0</td>\n",
       "      <td>0.0</td>\n",
       "      <td>0.0</td>\n",
       "      <td>0.0</td>\n",
       "      <td>...</td>\n",
       "      <td>0.0</td>\n",
       "      <td>0</td>\n",
       "      <td>0</td>\n",
       "      <td>0.0</td>\n",
       "      <td>0.0</td>\n",
       "      <td>0.0</td>\n",
       "      <td>0.0</td>\n",
       "      <td>0.0</td>\n",
       "      <td>0</td>\n",
       "      <td>Normal</td>\n",
       "    </tr>\n",
       "    <tr>\n",
       "      <th>131458</th>\n",
       "      <td>0.0</td>\n",
       "      <td>0.0</td>\n",
       "      <td>0.0</td>\n",
       "      <td>0.0</td>\n",
       "      <td>0.0</td>\n",
       "      <td>0.0</td>\n",
       "      <td>0.0</td>\n",
       "      <td>0.0</td>\n",
       "      <td>0.0</td>\n",
       "      <td>0.0</td>\n",
       "      <td>...</td>\n",
       "      <td>0.0</td>\n",
       "      <td>0.0</td>\n",
       "      <td>0.0</td>\n",
       "      <td>0.0</td>\n",
       "      <td>0.0</td>\n",
       "      <td>0.0</td>\n",
       "      <td>0.0</td>\n",
       "      <td>0.0</td>\n",
       "      <td>1</td>\n",
       "      <td>DDoS_UDP</td>\n",
       "    </tr>\n",
       "  </tbody>\n",
       "</table>\n",
       "<p>5 rows × 48 columns</p>\n",
       "</div>"
      ],
      "text/plain": [
       "        arp.opcode  arp.hw.size  icmp.checksum  icmp.seq_le  icmp.unused  \\\n",
       "3029           0.0          0.0            0.0          0.0          0.0   \n",
       "70872          0.0          0.0            0.0          0.0          0.0   \n",
       "110027         0.0          0.0            0.0          0.0          0.0   \n",
       "118800         0.0          0.0            0.0          0.0          0.0   \n",
       "131458         0.0          0.0            0.0          0.0          0.0   \n",
       "\n",
       "        http.content_length http.request.method http.referer  \\\n",
       "3029                    0.0                 0.0          0.0   \n",
       "70872                   0.0                 0.0          0.0   \n",
       "110027                  0.0                 0.0          0.0   \n",
       "118800                  0.0                 0.0          0.0   \n",
       "131458                  0.0                 0.0          0.0   \n",
       "\n",
       "       http.request.version  http.response  ...  mqtt.proto_len  \\\n",
       "3029                    0.0            0.0  ...             0.0   \n",
       "70872                   0.0            0.0  ...             0.0   \n",
       "110027                  0.0            0.0  ...             0.0   \n",
       "118800                  0.0            0.0  ...             0.0   \n",
       "131458                  0.0            0.0  ...             0.0   \n",
       "\n",
       "        mqtt.protoname  mqtt.topic  mqtt.topic_len  mqtt.ver  mbtcp.len  \\\n",
       "3029               0.0         0.0             0.0       0.0        0.0   \n",
       "70872              0.0         0.0             0.0       0.0        0.0   \n",
       "110027               0           0             0.0       0.0        0.0   \n",
       "118800               0           0             0.0       0.0        0.0   \n",
       "131458             0.0         0.0             0.0       0.0        0.0   \n",
       "\n",
       "        mbtcp.trans_id  mbtcp.unit_id  Attack_label    Attack_type  \n",
       "3029               0.0            0.0             1     Ransomware  \n",
       "70872              0.0            0.0             1  Port_Scanning  \n",
       "110027             0.0            0.0             0         Normal  \n",
       "118800             0.0            0.0             0         Normal  \n",
       "131458             0.0            0.0             1       DDoS_UDP  \n",
       "\n",
       "[5 rows x 48 columns]"
      ]
     },
     "execution_count": 6,
     "metadata": {},
     "output_type": "execute_result"
    }
   ],
   "source": [
    "# Show the shape and size of the dataset\n",
    "print(f\"\\nDataframe shape: {df.shape}\")\n",
    "\n",
    "# Show the first 5 rows of the dataset\n",
    "df.head()"
   ]
  },
  {
   "cell_type": "code",
   "execution_count": 7,
   "metadata": {},
   "outputs": [
    {
     "name": "stdout",
     "output_type": "stream",
     "text": [
      "<class 'pandas.core.frame.DataFrame'>\n",
      "Int64Index: 152196 entries, 3029 to 13290\n",
      "Data columns (total 48 columns):\n",
      " #   Column                     Non-Null Count   Dtype  \n",
      "---  ------                     --------------   -----  \n",
      " 0   arp.opcode                 152196 non-null  float64\n",
      " 1   arp.hw.size                152196 non-null  float64\n",
      " 2   icmp.checksum              152196 non-null  float64\n",
      " 3   icmp.seq_le                152196 non-null  float64\n",
      " 4   icmp.unused                152196 non-null  float64\n",
      " 5   http.content_length        152196 non-null  float64\n",
      " 6   http.request.method        152196 non-null  object \n",
      " 7   http.referer               152196 non-null  object \n",
      " 8   http.request.version       152196 non-null  object \n",
      " 9   http.response              152196 non-null  float64\n",
      " 10  http.tls_port              152196 non-null  float64\n",
      " 11  tcp.ack                    152196 non-null  float64\n",
      " 12  tcp.ack_raw                152196 non-null  float64\n",
      " 13  tcp.checksum               152196 non-null  float64\n",
      " 14  tcp.connection.fin         152196 non-null  float64\n",
      " 15  tcp.connection.rst         152196 non-null  float64\n",
      " 16  tcp.connection.syn         152196 non-null  float64\n",
      " 17  tcp.connection.synack      152196 non-null  float64\n",
      " 18  tcp.flags                  152196 non-null  float64\n",
      " 19  tcp.flags.ack              152196 non-null  float64\n",
      " 20  tcp.len                    152196 non-null  float64\n",
      " 21  tcp.seq                    152196 non-null  float64\n",
      " 22  udp.stream                 152196 non-null  float64\n",
      " 23  udp.time_delta             152196 non-null  float64\n",
      " 24  dns.qry.name               152196 non-null  float64\n",
      " 25  dns.qry.name.len           152196 non-null  object \n",
      " 26  dns.qry.qu                 152196 non-null  float64\n",
      " 27  dns.qry.type               152196 non-null  float64\n",
      " 28  dns.retransmission         152196 non-null  float64\n",
      " 29  dns.retransmit_request     152196 non-null  float64\n",
      " 30  dns.retransmit_request_in  152196 non-null  float64\n",
      " 31  mqtt.conack.flags          152196 non-null  object \n",
      " 32  mqtt.conflag.cleansess     152196 non-null  float64\n",
      " 33  mqtt.conflags              152196 non-null  float64\n",
      " 34  mqtt.hdrflags              152196 non-null  float64\n",
      " 35  mqtt.len                   152196 non-null  float64\n",
      " 36  mqtt.msg_decoded_as        152196 non-null  float64\n",
      " 37  mqtt.msgtype               152196 non-null  float64\n",
      " 38  mqtt.proto_len             152196 non-null  float64\n",
      " 39  mqtt.protoname             152196 non-null  object \n",
      " 40  mqtt.topic                 152196 non-null  object \n",
      " 41  mqtt.topic_len             152196 non-null  float64\n",
      " 42  mqtt.ver                   152196 non-null  float64\n",
      " 43  mbtcp.len                  152196 non-null  float64\n",
      " 44  mbtcp.trans_id             152196 non-null  float64\n",
      " 45  mbtcp.unit_id              152196 non-null  float64\n",
      " 46  Attack_label               152196 non-null  int64  \n",
      " 47  Attack_type                152196 non-null  object \n",
      "dtypes: float64(39), int64(1), object(8)\n",
      "memory usage: 56.9+ MB\n"
     ]
    }
   ],
   "source": [
    "df.info()"
   ]
  },
  {
   "cell_type": "markdown",
   "metadata": {},
   "source": [
    "### Step 4 : Categorical data encoding (Dummy Encoding):\n",
    "\n",
    "EG. Takes a product category and converts it to a binary vector\n",
    "```\n",
    "   customer_id product_category  apparel  books  electronics\n",
    "0            1     electronics        0      0            1\n",
    "1            2          apparel       1      0            0\n",
    "2            3            books       0      1            0\n",
    "3            4     electronics        0      0            1\n",
    "4            5          apparel       1      0            0\n",
    "```\n",
    "\n"
   ]
  },
  {
   "cell_type": "code",
   "execution_count": 8,
   "metadata": {},
   "outputs": [],
   "source": [
    "def encode_text_dummy(df, name):\n",
    "\n",
    "    dummies = pd.get_dummies(df[name])\n",
    "\n",
    "    for x in dummies.columns:\n",
    "\n",
    "        dummy_name = f\"{name}-{x}\"\n",
    "\n",
    "        df[dummy_name] = dummies[x]\n",
    "\n",
    "    df.drop(name, axis=1, inplace=True)\n",
    "\n",
    "encode_text_dummy(df,'http.request.method')\n",
    "\n",
    "encode_text_dummy(df,'http.referer')\n",
    "\n",
    "encode_text_dummy(df,\"http.request.version\")\n",
    "\n",
    "encode_text_dummy(df,\"dns.qry.name.len\")\n",
    "\n",
    "encode_text_dummy(df,\"mqtt.conack.flags\")\n",
    "\n",
    "encode_text_dummy(df,\"mqtt.protoname\")\n",
    "\n",
    "encode_text_dummy(df,\"mqtt.topic\")"
   ]
  },
  {
   "cell_type": "markdown",
   "metadata": {},
   "source": [
    "Grab the Attack type and attack label"
   ]
  },
  {
   "cell_type": "code",
   "execution_count": 9,
   "metadata": {},
   "outputs": [],
   "source": [
    "# Save the attack type and attack label\n",
    "attack_type = df.pop('Attack_type')\n",
    "attack_label = df.pop('Attack_label')"
   ]
  },
  {
   "cell_type": "code",
   "execution_count": 10,
   "metadata": {},
   "outputs": [
    {
     "name": "stdout",
     "output_type": "stream",
     "text": [
      "Normal                   24101\n",
      "DDoS_UDP                 14498\n",
      "DDoS_ICMP                13096\n",
      "DDoS_HTTP                10495\n",
      "SQL_injection            10282\n",
      "DDoS_TCP                 10247\n",
      "Uploading                10214\n",
      "Vulnerability_scanner    10062\n",
      "Password                  9972\n",
      "Backdoor                  9865\n",
      "Ransomware                9689\n",
      "XSS                       9543\n",
      "Port_Scanning             8921\n",
      "Fingerprinting             853\n",
      "MITM                       358\n",
      "Name: Attack_type, dtype: int64\n",
      "1    128095\n",
      "0     24101\n",
      "Name: Attack_label, dtype: int64\n"
     ]
    }
   ],
   "source": [
    "print(attack_type.value_counts())\n",
    "print(attack_label.value_counts())\n"
   ]
  },
  {
   "cell_type": "markdown",
   "metadata": {},
   "source": [
    "Scaling of features"
   ]
  },
  {
   "cell_type": "code",
   "execution_count": 63,
   "metadata": {},
   "outputs": [],
   "source": [
    "# Scaling of features to fit within defined range\n",
    "from sklearn.preprocessing import StandardScaler\n",
    "from sklearn.preprocessing import MinMaxScaler\n",
    "\n",
    "scaled_features = StandardScaler().fit_transform(df.values)\n",
    "\n",
    "# Label Preprocessing\n",
    "from sklearn import preprocessing\n",
    "le = preprocessing.LabelEncoder()\n",
    "label_n = le.fit_transform(attack_type.values)\n",
    "\n",
    "# Reverse map the numerical labels to original labels.\n",
    "label_orig = le.inverse_transform(label_n)\n"
   ]
  },
  {
   "cell_type": "code",
   "execution_count": 64,
   "metadata": {},
   "outputs": [
    {
     "name": "stdout",
     "output_type": "stream",
     "text": [
      "Numerical label mapping:\n",
      "0 --> Backdoor\n",
      "1 --> DDoS_HTTP\n",
      "2 --> DDoS_ICMP\n",
      "3 --> DDoS_TCP\n",
      "4 --> DDoS_UDP\n",
      "5 --> Fingerprinting\n",
      "6 --> MITM\n",
      "7 --> Normal\n",
      "8 --> Password\n",
      "9 --> Port_Scanning\n",
      "10 --> Ransomware\n",
      "11 --> SQL_injection\n",
      "12 --> Uploading\n",
      "13 --> Vulnerability_scanner\n",
      "14 --> XSS\n"
     ]
    }
   ],
   "source": [
    "# Print the mapping of numerical labels to original labels\n",
    "print(\"Numerical label mapping:\")\n",
    "for i, label in enumerate(le.classes_):\n",
    "    print(i, \"-->\", label)"
   ]
  },
  {
   "cell_type": "code",
   "execution_count": 12,
   "metadata": {},
   "outputs": [
    {
     "name": "stdout",
     "output_type": "stream",
     "text": [
      "Train: (121756, 74) (121756,)\n",
      "Test: (30440, 74) (30440,)\n"
     ]
    }
   ],
   "source": [
    "# Test / train split\n",
    "from sklearn.model_selection import train_test_split\n",
    "#X_train, X_test, y_train, y_test = train_test_split(scaled_features, label_n, stratify=label_n, random_state=42)\n",
    "X_train, X_test, y_train, y_test = train_test_split(scaled_features, label_n, stratify=label_n, test_size=0.2, random_state=42)\n",
    "print (\"Train:\", X_train.shape, y_train.shape)\n",
    "print (\"Test:\", X_test.shape, y_test.shape)"
   ]
  },
  {
   "cell_type": "code",
   "execution_count": 51,
   "metadata": {},
   "outputs": [
    {
     "data": {
      "text/plain": [
       "Normal                   19281\n",
       "DDoS_UDP                 11598\n",
       "DDoS_ICMP                10477\n",
       "DDoS_HTTP                 8396\n",
       "SQL_injection             8225\n",
       "DDoS_TCP                  8198\n",
       "Uploading                 8171\n",
       "Vulnerability_scanner     8050\n",
       "Password                  7978\n",
       "Backdoor                  7892\n",
       "Ransomware                7751\n",
       "XSS                       7634\n",
       "Port_Scanning             7137\n",
       "Fingerprinting             682\n",
       "MITM                       286\n",
       "dtype: int64"
      ]
     },
     "execution_count": 51,
     "metadata": {},
     "output_type": "execute_result"
    }
   ],
   "source": [
    "orig = list(le.inverse_transform(y_train))  \n",
    "pd.value_counts(orig)"
   ]
  },
  {
   "cell_type": "code",
   "execution_count": 14,
   "metadata": {},
   "outputs": [
    {
     "data": {
      "text/plain": [
       "15"
      ]
     },
     "execution_count": 14,
     "metadata": {},
     "output_type": "execute_result"
    }
   ],
   "source": [
    "len(np.unique(y_test))"
   ]
  },
  {
   "cell_type": "code",
   "execution_count": 15,
   "metadata": {},
   "outputs": [
    {
     "name": "stdout",
     "output_type": "stream",
     "text": [
      "(121756, 74)\n",
      "(30440, 74)\n",
      "(121756,)\n",
      "(30440,)\n"
     ]
    }
   ],
   "source": [
    "print (X_train.shape)\n",
    "print (X_test.shape)\n",
    "print (y_train.shape)\n",
    "print (y_test.shape)"
   ]
  },
  {
   "cell_type": "markdown",
   "metadata": {},
   "source": [
    "We now have our data in a typical ***X_train, X_test, y_train, y_test*** format, where we can then deploy centralised and decentralised ML models."
   ]
  },
  {
   "attachments": {},
   "cell_type": "markdown",
   "metadata": {},
   "source": [
    "## 2. Centralised Machine Learning Models"
   ]
  },
  {
   "attachments": {},
   "cell_type": "markdown",
   "metadata": {},
   "source": [
    "### 2.1 Decision Tree Classifier"
   ]
  },
  {
   "cell_type": "code",
   "execution_count": 16,
   "metadata": {},
   "outputs": [],
   "source": [
    "from sklearn.tree import DecisionTreeClassifier"
   ]
  },
  {
   "cell_type": "code",
   "execution_count": 17,
   "metadata": {},
   "outputs": [
    {
     "name": "stdout",
     "output_type": "stream",
     "text": [
      "CPU times: total: 703 ms\n",
      "Wall time: 732 ms\n"
     ]
    },
    {
     "data": {
      "text/html": [
       "<style>#sk-container-id-1 {color: black;background-color: white;}#sk-container-id-1 pre{padding: 0;}#sk-container-id-1 div.sk-toggleable {background-color: white;}#sk-container-id-1 label.sk-toggleable__label {cursor: pointer;display: block;width: 100%;margin-bottom: 0;padding: 0.3em;box-sizing: border-box;text-align: center;}#sk-container-id-1 label.sk-toggleable__label-arrow:before {content: \"▸\";float: left;margin-right: 0.25em;color: #696969;}#sk-container-id-1 label.sk-toggleable__label-arrow:hover:before {color: black;}#sk-container-id-1 div.sk-estimator:hover label.sk-toggleable__label-arrow:before {color: black;}#sk-container-id-1 div.sk-toggleable__content {max-height: 0;max-width: 0;overflow: hidden;text-align: left;background-color: #f0f8ff;}#sk-container-id-1 div.sk-toggleable__content pre {margin: 0.2em;color: black;border-radius: 0.25em;background-color: #f0f8ff;}#sk-container-id-1 input.sk-toggleable__control:checked~div.sk-toggleable__content {max-height: 200px;max-width: 100%;overflow: auto;}#sk-container-id-1 input.sk-toggleable__control:checked~label.sk-toggleable__label-arrow:before {content: \"▾\";}#sk-container-id-1 div.sk-estimator input.sk-toggleable__control:checked~label.sk-toggleable__label {background-color: #d4ebff;}#sk-container-id-1 div.sk-label input.sk-toggleable__control:checked~label.sk-toggleable__label {background-color: #d4ebff;}#sk-container-id-1 input.sk-hidden--visually {border: 0;clip: rect(1px 1px 1px 1px);clip: rect(1px, 1px, 1px, 1px);height: 1px;margin: -1px;overflow: hidden;padding: 0;position: absolute;width: 1px;}#sk-container-id-1 div.sk-estimator {font-family: monospace;background-color: #f0f8ff;border: 1px dotted black;border-radius: 0.25em;box-sizing: border-box;margin-bottom: 0.5em;}#sk-container-id-1 div.sk-estimator:hover {background-color: #d4ebff;}#sk-container-id-1 div.sk-parallel-item::after {content: \"\";width: 100%;border-bottom: 1px solid gray;flex-grow: 1;}#sk-container-id-1 div.sk-label:hover label.sk-toggleable__label {background-color: #d4ebff;}#sk-container-id-1 div.sk-serial::before {content: \"\";position: absolute;border-left: 1px solid gray;box-sizing: border-box;top: 0;bottom: 0;left: 50%;z-index: 0;}#sk-container-id-1 div.sk-serial {display: flex;flex-direction: column;align-items: center;background-color: white;padding-right: 0.2em;padding-left: 0.2em;position: relative;}#sk-container-id-1 div.sk-item {position: relative;z-index: 1;}#sk-container-id-1 div.sk-parallel {display: flex;align-items: stretch;justify-content: center;background-color: white;position: relative;}#sk-container-id-1 div.sk-item::before, #sk-container-id-1 div.sk-parallel-item::before {content: \"\";position: absolute;border-left: 1px solid gray;box-sizing: border-box;top: 0;bottom: 0;left: 50%;z-index: -1;}#sk-container-id-1 div.sk-parallel-item {display: flex;flex-direction: column;z-index: 1;position: relative;background-color: white;}#sk-container-id-1 div.sk-parallel-item:first-child::after {align-self: flex-end;width: 50%;}#sk-container-id-1 div.sk-parallel-item:last-child::after {align-self: flex-start;width: 50%;}#sk-container-id-1 div.sk-parallel-item:only-child::after {width: 0;}#sk-container-id-1 div.sk-dashed-wrapped {border: 1px dashed gray;margin: 0 0.4em 0.5em 0.4em;box-sizing: border-box;padding-bottom: 0.4em;background-color: white;}#sk-container-id-1 div.sk-label label {font-family: monospace;font-weight: bold;display: inline-block;line-height: 1.2em;}#sk-container-id-1 div.sk-label-container {text-align: center;}#sk-container-id-1 div.sk-container {/* jupyter's `normalize.less` sets `[hidden] { display: none; }` but bootstrap.min.css set `[hidden] { display: none !important; }` so we also need the `!important` here to be able to override the default hidden behavior on the sphinx rendered scikit-learn.org. See: https://github.com/scikit-learn/scikit-learn/issues/21755 */display: inline-block !important;position: relative;}#sk-container-id-1 div.sk-text-repr-fallback {display: none;}</style><div id=\"sk-container-id-1\" class=\"sk-top-container\"><div class=\"sk-text-repr-fallback\"><pre>DecisionTreeClassifier()</pre><b>In a Jupyter environment, please rerun this cell to show the HTML representation or trust the notebook. <br />On GitHub, the HTML representation is unable to render, please try loading this page with nbviewer.org.</b></div><div class=\"sk-container\" hidden><div class=\"sk-item\"><div class=\"sk-estimator sk-toggleable\"><input class=\"sk-toggleable__control sk-hidden--visually\" id=\"sk-estimator-id-1\" type=\"checkbox\" checked><label for=\"sk-estimator-id-1\" class=\"sk-toggleable__label sk-toggleable__label-arrow\">DecisionTreeClassifier</label><div class=\"sk-toggleable__content\"><pre>DecisionTreeClassifier()</pre></div></div></div></div></div>"
      ],
      "text/plain": [
       "DecisionTreeClassifier()"
      ]
     },
     "execution_count": 17,
     "metadata": {},
     "output_type": "execute_result"
    }
   ],
   "source": [
    "%%time\n",
    "dTree_clf = DecisionTreeClassifier()\n",
    "dTree_clf.fit(X_train,y_train)"
   ]
  },
  {
   "cell_type": "code",
   "execution_count": 18,
   "metadata": {},
   "outputs": [
    {
     "name": "stdout",
     "output_type": "stream",
     "text": [
      "Accuracy of Model:: 0.9278580814717478\n"
     ]
    }
   ],
   "source": [
    "dt_score = dTree_clf.score(X_test, y_test)\n",
    "print(\"Accuracy of Model::\", dt_score)"
   ]
  },
  {
   "cell_type": "code",
   "execution_count": 19,
   "metadata": {},
   "outputs": [
    {
     "data": {
      "image/png": "[encoded data removed]",
      "text/plain": [
       "<Figure size 640x480 with 2 Axes>"
      ]
     },
     "metadata": {},
     "output_type": "display_data"
    }
   ],
   "source": [
    "dt_predictions = dTree_clf.predict(X_test)\n",
    "\n",
    "import matplotlib.pyplot as plt\n",
    "from sklearn.metrics import confusion_matrix, ConfusionMatrixDisplay\n",
    "dt_cm = confusion_matrix(y_test, dt_predictions, labels=dTree_clf.classes_)\n",
    "disp = ConfusionMatrixDisplay(confusion_matrix=dt_cm, display_labels=dTree_clf.classes_)\n",
    "disp.plot()\n",
    "plt.show()"
   ]
  },
  {
   "cell_type": "code",
   "execution_count": 20,
   "metadata": {},
   "outputs": [
    {
     "name": "stdout",
     "output_type": "stream",
     "text": [
      "Macro: (0.9066886305165823, 0.9100118951403419, 0.9082555334575476, None)\n",
      "Micro: (0.9278580814717478, 0.9278580814717478, 0.9278580814717478, None)\n",
      "Weighted: (0.9280019730964065, 0.9278580814717478, 0.9279107331204198, None)\n",
      "Per-label: (array([0.93893894, 0.88167939, 0.99961832, 1.        , 1.        ,\n",
      "       0.66666667, 1.        , 1.        , 0.7817999 , 0.94485503,\n",
      "       0.94175767, 0.81813701, 0.79576108, 0.95441031, 0.87670514]), array([0.95083629, 0.88041925, 1.        , 1.        , 0.99965517,\n",
      "       0.7251462 , 1.        , 1.        , 0.77983952, 0.93161435,\n",
      "       0.93446852, 0.80700049, 0.80861478, 0.95725646, 0.8753274 ]), array([0.94485016, 0.88104887, 0.99980912, 1.        , 0.99982756,\n",
      "       0.69467787, 1.        , 1.        , 0.78081848, 0.93818798,\n",
      "       0.93809894, 0.81253059, 0.80213644, 0.95583127, 0.87601573]), array([1973, 2099, 2619, 2049, 2900,  171,   72, 4820, 1994, 1784, 1938,\n",
      "       2057, 2043, 2012, 1909], dtype=int64))\n"
     ]
    }
   ],
   "source": [
    "from sklearn.metrics import precision_recall_fscore_support\n",
    "print ( \"Macro:\", precision_recall_fscore_support(y_test, dt_predictions, average='macro') )\n",
    "print ( \"Micro:\", precision_recall_fscore_support(y_test, dt_predictions, average='micro') )\n",
    "print ( \"Weighted:\", precision_recall_fscore_support(y_test, dt_predictions, average='weighted') )\n",
    "print ( \"Per-label:\", precision_recall_fscore_support(y_test, dt_predictions, average=None, labels=np.unique(y_test)) )"
   ]
  },
  {
   "cell_type": "code",
   "execution_count": 21,
   "metadata": {},
   "outputs": [
    {
     "name": "stdout",
     "output_type": "stream",
     "text": [
      "[[1876    0    0    0    0   10    0    0    0   35   52    0    0    0\n",
      "     0]\n",
      " [   0 1848    0    0    0    0    0    0    0    0    0    0    0   51\n",
      "   200]\n",
      " [   0    0 2619    0    0    0    0    0    0    0    0    0    0    0\n",
      "     0]\n",
      " [   0    0    0 2049    0    0    0    0    0    0    0    0    0    0\n",
      "     0]\n",
      " [   0    0    1    0 2899    0    0    0    0    0    0    0    0    0\n",
      "     0]\n",
      " [  11    0    0    0    0  124    0    0    0   26   10    0    0    0\n",
      "     0]\n",
      " [   0    0    0    0    0    0   72    0    0    0    0    0    0    0\n",
      "     0]\n",
      " [   0    0    0    0    0    0    0 4820    0    0    0    0    0    0\n",
      "     0]\n",
      " [   0    0    0    0    0    0    0    0 1555    0    0  198  241    0\n",
      "     0]\n",
      " [  43    0    0    0    0   29    0    0    0 1662   50    0    0    0\n",
      "     0]\n",
      " [  68    0    0    0    0   23    0    0    0   36 1811    0    0    0\n",
      "     0]\n",
      " [   0    0    0    0    0    0    0    0  214    0    0 1660  183    0\n",
      "     0]\n",
      " [   0    0    0    0    0    0    0    0  220    0    0  171 1652    0\n",
      "     0]\n",
      " [   0   51    0    0    0    0    0    0    0    0    0    0    0 1926\n",
      "    35]\n",
      " [   0  197    0    0    0    0    0    0    0    0    0    0    0   41\n",
      "  1671]]\n"
     ]
    }
   ],
   "source": [
    "print(confusion_matrix(y_test, dt_predictions))\n"
   ]
  },
  {
   "cell_type": "code",
   "execution_count": 61,
   "metadata": {},
   "outputs": [
    {
     "name": "stdout",
     "output_type": "stream",
     "text": [
      "DT Classification Report\n",
      "              precision    recall  f1-score   support\n",
      "\n",
      "           0       0.94      0.95      0.94      1973\n",
      "           1       0.88      0.88      0.88      2099\n",
      "           2       1.00      1.00      1.00      2619\n",
      "           3       1.00      1.00      1.00      2049\n",
      "           4       1.00      1.00      1.00      2900\n",
      "           5       0.67      0.73      0.69       171\n",
      "           6       1.00      1.00      1.00        72\n",
      "           7       1.00      1.00      1.00      4820\n",
      "           8       0.78      0.78      0.78      1994\n",
      "           9       0.94      0.93      0.94      1784\n",
      "          10       0.94      0.93      0.94      1938\n",
      "          11       0.82      0.81      0.81      2057\n",
      "          12       0.80      0.81      0.80      2043\n",
      "          13       0.95      0.96      0.96      2012\n",
      "          14       0.88      0.88      0.88      1909\n",
      "\n",
      "    accuracy                           0.93     30440\n",
      "   macro avg       0.91      0.91      0.91     30440\n",
      "weighted avg       0.93      0.93      0.93     30440\n",
      "\n"
     ]
    }
   ],
   "source": [
    "print(\"DT Classification Report\")\n",
    "print(classification_report(y_test, dt_predictions))\n"
   ]
  },
  {
   "attachments": {},
   "cell_type": "markdown",
   "metadata": {},
   "source": [
    "### 2.2 Multi Layer Perception"
   ]
  },
  {
   "cell_type": "code",
   "execution_count": 23,
   "metadata": {},
   "outputs": [],
   "source": [
    "from sklearn.neural_network import MLPClassifier"
   ]
  },
  {
   "cell_type": "code",
   "execution_count": 24,
   "metadata": {},
   "outputs": [
    {
     "name": "stdout",
     "output_type": "stream",
     "text": [
      "CPU times: total: 9min 30s\n",
      "Wall time: 1min 46s\n"
     ]
    }
   ],
   "source": [
    "%%time\n",
    "mlp_clf = MLPClassifier(random_state=42, max_iter=300).fit(X_train, y_train)\n",
    "mlp_score = mlp_clf.score(X_test, y_test)"
   ]
  },
  {
   "cell_type": "code",
   "execution_count": 25,
   "metadata": {},
   "outputs": [
    {
     "name": "stdout",
     "output_type": "stream",
     "text": [
      "Accuracy of MLP model: 0.8238173455978975\n"
     ]
    }
   ],
   "source": [
    "print(\"Accuracy of MLP model:\", mlp_score)\n"
   ]
  },
  {
   "cell_type": "code",
   "execution_count": 26,
   "metadata": {},
   "outputs": [
    {
     "data": {
      "image/png": "[encoded data removed]",
      "text/plain": [
       "<Figure size 640x480 with 2 Axes>"
      ]
     },
     "metadata": {},
     "output_type": "display_data"
    }
   ],
   "source": [
    "mlp_predictions = mlp_clf.predict(X_test)\n",
    "\n",
    "import matplotlib.pyplot as plt\n",
    "from sklearn.metrics import confusion_matrix, ConfusionMatrixDisplay\n",
    "mlp_cm = confusion_matrix(y_test, mlp_predictions, labels=mlp_clf.classes_)\n",
    "disp = ConfusionMatrixDisplay(confusion_matrix=mlp_cm, display_labels=mlp_clf.classes_)\n",
    "disp.plot()\n",
    "plt.show()"
   ]
  },
  {
   "cell_type": "code",
   "execution_count": 60,
   "metadata": {},
   "outputs": [
    {
     "name": "stdout",
     "output_type": "stream",
     "text": [
      "Macro: (0.8361641352496915, 0.8049580033253041, 0.8070236247895597, None)\n",
      "Micro: (0.8238173455978975, 0.8238173455978975, 0.8238173455978975, None)\n",
      "Weighted: (0.8489394955564277, 0.8238173455978975, 0.823823865273272, None)\n",
      "Per-label: (array([0.94223108, 0.8305504 , 1.        , 0.99499165, 0.99931082,\n",
      "       0.85925926, 1.        , 1.        , 0.43490566, 0.64839181,\n",
      "       0.97142857, 0.51067961, 0.73172515, 0.99132447, 0.62766355]), array([0.95894577, 0.63982849, 0.99274532, 0.58174719, 1.        ,\n",
      "       0.67836257, 1.        , 1.        , 0.69358074, 0.99439462,\n",
      "       0.92982456, 0.3835683 , 0.48996574, 0.85188867, 0.87951807]), array([0.95051495, 0.72282024, 0.99635946, 0.7342162 , 0.99965529,\n",
      "       0.75816993, 1.        , 1.        , 0.53459606, 0.78495575,\n",
      "       0.95017137, 0.43808995, 0.58692466, 0.91633253, 0.73254799]), array([1973, 2099, 2619, 2049, 2900,  171,   72, 4820, 1994, 1784, 1938,\n",
      "       2057, 2043, 2012, 1909], dtype=int64))\n",
      "MLP Classification Report: \n",
      "              precision    recall  f1-score   support\n",
      "\n",
      "           0       0.94      0.96      0.95      1973\n",
      "           1       0.83      0.64      0.72      2099\n",
      "           2       1.00      0.99      1.00      2619\n",
      "           3       0.99      0.58      0.73      2049\n",
      "           4       1.00      1.00      1.00      2900\n",
      "           5       0.86      0.68      0.76       171\n",
      "           6       1.00      1.00      1.00        72\n",
      "           7       1.00      1.00      1.00      4820\n",
      "           8       0.43      0.69      0.53      1994\n",
      "           9       0.65      0.99      0.78      1784\n",
      "          10       0.97      0.93      0.95      1938\n",
      "          11       0.51      0.38      0.44      2057\n",
      "          12       0.73      0.49      0.59      2043\n",
      "          13       0.99      0.85      0.92      2012\n",
      "          14       0.63      0.88      0.73      1909\n",
      "\n",
      "    accuracy                           0.82     30440\n",
      "   macro avg       0.84      0.80      0.81     30440\n",
      "weighted avg       0.85      0.82      0.82     30440\n",
      "\n"
     ]
    }
   ],
   "source": [
    "from sklearn.metrics import precision_recall_fscore_support\n",
    "print ( \"Macro:\", precision_recall_fscore_support(y_test, mlp_predictions, average='macro') )\n",
    "print ( \"Micro:\", precision_recall_fscore_support(y_test, mlp_predictions, average='micro') )\n",
    "print ( \"Weighted:\", precision_recall_fscore_support(y_test, mlp_predictions, average='weighted') )\n",
    "print ( \"Per-label:\", precision_recall_fscore_support(y_test, mlp_predictions, average=None, labels=np.unique(y_test)) )\n",
    "\n",
    "# print classification report\n",
    "print(\"MLP Classification Report: \")\n",
    "print(classification_report(y_test, mlp_predictions))"
   ]
  },
  {
   "cell_type": "code",
   "execution_count": 28,
   "metadata": {},
   "outputs": [
    {
     "name": "stdout",
     "output_type": "stream",
     "text": [
      "2\n",
      "(74, 100)\n",
      "(100, 15)\n",
      "2\n",
      "(100,)\n",
      "(15,)\n",
      "3\n",
      "<class 'numpy.ndarray'>\n"
     ]
    }
   ],
   "source": [
    "print (len(mlp_clf.coefs_))\n",
    "print (mlp_clf.coefs_[0].shape)\n",
    "print (mlp_clf.coefs_[1].shape)\n",
    "print (len(mlp_clf.intercepts_))\n",
    "print (mlp_clf.intercepts_[0].shape)\n",
    "print (mlp_clf.intercepts_[1].shape)\n",
    "print (mlp_clf.n_layers_)\n",
    "print (type(mlp_clf.coefs_[0]))"
   ]
  },
  {
   "attachments": {},
   "cell_type": "markdown",
   "metadata": {},
   "source": [
    "### 2.3 Extreme Gradient Boosting"
   ]
  },
  {
   "cell_type": "code",
   "execution_count": 29,
   "metadata": {},
   "outputs": [
    {
     "name": "stdout",
     "output_type": "stream",
     "text": [
      "Requirement already satisfied: xgboost in c:\\users\\jon\\anaconda3\\envs\\py310\\lib\\site-packages (1.7.4)\n",
      "Requirement already satisfied: numpy in c:\\users\\jon\\anaconda3\\envs\\py310\\lib\\site-packages (from xgboost) (1.24.2)\n",
      "Requirement already satisfied: scipy in c:\\users\\jon\\anaconda3\\envs\\py310\\lib\\site-packages (from xgboost) (1.9.3)\n"
     ]
    },
    {
     "name": "stderr",
     "output_type": "stream",
     "text": [
      "WARNING: Ignoring invalid distribution -rotobuf (c:\\users\\jon\\anaconda3\\envs\\py310\\lib\\site-packages)\n",
      "WARNING: Ignoring invalid distribution -rotobuf (c:\\users\\jon\\anaconda3\\envs\\py310\\lib\\site-packages)\n",
      "WARNING: Ignoring invalid distribution -rotobuf (c:\\users\\jon\\anaconda3\\envs\\py310\\lib\\site-packages)\n",
      "WARNING: Ignoring invalid distribution -rotobuf (c:\\users\\jon\\anaconda3\\envs\\py310\\lib\\site-packages)\n",
      "WARNING: Ignoring invalid distribution -rotobuf (c:\\users\\jon\\anaconda3\\envs\\py310\\lib\\site-packages)\n",
      "WARNING: Ignoring invalid distribution -rotobuf (c:\\users\\jon\\anaconda3\\envs\\py310\\lib\\site-packages)\n"
     ]
    }
   ],
   "source": [
    "# https://www.geeksforgeeks.org/xgboost/\n",
    "# https://www.section.io/engineering-education/machine-learning-with-xgboost-and-scikit-learn/\n",
    "\n",
    "!pip install xgboost\n",
    "import xgboost as xgb\n"
   ]
  },
  {
   "cell_type": "code",
   "execution_count": 30,
   "metadata": {},
   "outputs": [
    {
     "name": "stdout",
     "output_type": "stream",
     "text": [
      "CPU times: total: 10min 17s\n",
      "Wall time: 28.2 s\n"
     ]
    },
    {
     "data": {
      "text/html": [
       "<style>#sk-container-id-2 {color: black;background-color: white;}#sk-container-id-2 pre{padding: 0;}#sk-container-id-2 div.sk-toggleable {background-color: white;}#sk-container-id-2 label.sk-toggleable__label {cursor: pointer;display: block;width: 100%;margin-bottom: 0;padding: 0.3em;box-sizing: border-box;text-align: center;}#sk-container-id-2 label.sk-toggleable__label-arrow:before {content: \"▸\";float: left;margin-right: 0.25em;color: #696969;}#sk-container-id-2 label.sk-toggleable__label-arrow:hover:before {color: black;}#sk-container-id-2 div.sk-estimator:hover label.sk-toggleable__label-arrow:before {color: black;}#sk-container-id-2 div.sk-toggleable__content {max-height: 0;max-width: 0;overflow: hidden;text-align: left;background-color: #f0f8ff;}#sk-container-id-2 div.sk-toggleable__content pre {margin: 0.2em;color: black;border-radius: 0.25em;background-color: #f0f8ff;}#sk-container-id-2 input.sk-toggleable__control:checked~div.sk-toggleable__content {max-height: 200px;max-width: 100%;overflow: auto;}#sk-container-id-2 input.sk-toggleable__control:checked~label.sk-toggleable__label-arrow:before {content: \"▾\";}#sk-container-id-2 div.sk-estimator input.sk-toggleable__control:checked~label.sk-toggleable__label {background-color: #d4ebff;}#sk-container-id-2 div.sk-label input.sk-toggleable__control:checked~label.sk-toggleable__label {background-color: #d4ebff;}#sk-container-id-2 input.sk-hidden--visually {border: 0;clip: rect(1px 1px 1px 1px);clip: rect(1px, 1px, 1px, 1px);height: 1px;margin: -1px;overflow: hidden;padding: 0;position: absolute;width: 1px;}#sk-container-id-2 div.sk-estimator {font-family: monospace;background-color: #f0f8ff;border: 1px dotted black;border-radius: 0.25em;box-sizing: border-box;margin-bottom: 0.5em;}#sk-container-id-2 div.sk-estimator:hover {background-color: #d4ebff;}#sk-container-id-2 div.sk-parallel-item::after {content: \"\";width: 100%;border-bottom: 1px solid gray;flex-grow: 1;}#sk-container-id-2 div.sk-label:hover label.sk-toggleable__label {background-color: #d4ebff;}#sk-container-id-2 div.sk-serial::before {content: \"\";position: absolute;border-left: 1px solid gray;box-sizing: border-box;top: 0;bottom: 0;left: 50%;z-index: 0;}#sk-container-id-2 div.sk-serial {display: flex;flex-direction: column;align-items: center;background-color: white;padding-right: 0.2em;padding-left: 0.2em;position: relative;}#sk-container-id-2 div.sk-item {position: relative;z-index: 1;}#sk-container-id-2 div.sk-parallel {display: flex;align-items: stretch;justify-content: center;background-color: white;position: relative;}#sk-container-id-2 div.sk-item::before, #sk-container-id-2 div.sk-parallel-item::before {content: \"\";position: absolute;border-left: 1px solid gray;box-sizing: border-box;top: 0;bottom: 0;left: 50%;z-index: -1;}#sk-container-id-2 div.sk-parallel-item {display: flex;flex-direction: column;z-index: 1;position: relative;background-color: white;}#sk-container-id-2 div.sk-parallel-item:first-child::after {align-self: flex-end;width: 50%;}#sk-container-id-2 div.sk-parallel-item:last-child::after {align-self: flex-start;width: 50%;}#sk-container-id-2 div.sk-parallel-item:only-child::after {width: 0;}#sk-container-id-2 div.sk-dashed-wrapped {border: 1px dashed gray;margin: 0 0.4em 0.5em 0.4em;box-sizing: border-box;padding-bottom: 0.4em;background-color: white;}#sk-container-id-2 div.sk-label label {font-family: monospace;font-weight: bold;display: inline-block;line-height: 1.2em;}#sk-container-id-2 div.sk-label-container {text-align: center;}#sk-container-id-2 div.sk-container {/* jupyter's `normalize.less` sets `[hidden] { display: none; }` but bootstrap.min.css set `[hidden] { display: none !important; }` so we also need the `!important` here to be able to override the default hidden behavior on the sphinx rendered scikit-learn.org. See: https://github.com/scikit-learn/scikit-learn/issues/21755 */display: inline-block !important;position: relative;}#sk-container-id-2 div.sk-text-repr-fallback {display: none;}</style><div id=\"sk-container-id-2\" class=\"sk-top-container\"><div class=\"sk-text-repr-fallback\"><pre>XGBClassifier(base_score=None, booster=None, callbacks=None,\n",
       "              colsample_bylevel=None, colsample_bynode=None,\n",
       "              colsample_bytree=None, early_stopping_rounds=None,\n",
       "              enable_categorical=False, eval_metric=None, feature_types=None,\n",
       "              gamma=None, gpu_id=None, grow_policy=None, importance_type=None,\n",
       "              interaction_constraints=None, learning_rate=None, max_bin=None,\n",
       "              max_cat_threshold=None, max_cat_to_onehot=None,\n",
       "              max_delta_step=None, max_depth=None, max_leaves=None,\n",
       "              min_child_weight=None, missing=nan, monotone_constraints=None,\n",
       "              n_estimators=100, n_jobs=None, num_parallel_tree=None,\n",
       "              objective=&#x27;multi:softprob&#x27;, predictor=None, ...)</pre><b>In a Jupyter environment, please rerun this cell to show the HTML representation or trust the notebook. <br />On GitHub, the HTML representation is unable to render, please try loading this page with nbviewer.org.</b></div><div class=\"sk-container\" hidden><div class=\"sk-item\"><div class=\"sk-estimator sk-toggleable\"><input class=\"sk-toggleable__control sk-hidden--visually\" id=\"sk-estimator-id-2\" type=\"checkbox\" checked><label for=\"sk-estimator-id-2\" class=\"sk-toggleable__label sk-toggleable__label-arrow\">XGBClassifier</label><div class=\"sk-toggleable__content\"><pre>XGBClassifier(base_score=None, booster=None, callbacks=None,\n",
       "              colsample_bylevel=None, colsample_bynode=None,\n",
       "              colsample_bytree=None, early_stopping_rounds=None,\n",
       "              enable_categorical=False, eval_metric=None, feature_types=None,\n",
       "              gamma=None, gpu_id=None, grow_policy=None, importance_type=None,\n",
       "              interaction_constraints=None, learning_rate=None, max_bin=None,\n",
       "              max_cat_threshold=None, max_cat_to_onehot=None,\n",
       "              max_delta_step=None, max_depth=None, max_leaves=None,\n",
       "              min_child_weight=None, missing=nan, monotone_constraints=None,\n",
       "              n_estimators=100, n_jobs=None, num_parallel_tree=None,\n",
       "              objective=&#x27;multi:softprob&#x27;, predictor=None, ...)</pre></div></div></div></div></div>"
      ],
      "text/plain": [
       "XGBClassifier(base_score=None, booster=None, callbacks=None,\n",
       "              colsample_bylevel=None, colsample_bynode=None,\n",
       "              colsample_bytree=None, early_stopping_rounds=None,\n",
       "              enable_categorical=False, eval_metric=None, feature_types=None,\n",
       "              gamma=None, gpu_id=None, grow_policy=None, importance_type=None,\n",
       "              interaction_constraints=None, learning_rate=None, max_bin=None,\n",
       "              max_cat_threshold=None, max_cat_to_onehot=None,\n",
       "              max_delta_step=None, max_depth=None, max_leaves=None,\n",
       "              min_child_weight=None, missing=nan, monotone_constraints=None,\n",
       "              n_estimators=100, n_jobs=None, num_parallel_tree=None,\n",
       "              objective='multi:softprob', predictor=None, ...)"
      ]
     },
     "execution_count": 30,
     "metadata": {},
     "output_type": "execute_result"
    }
   ],
   "source": [
    "\n",
    "%%time\n",
    "xgb_classifier = xgb.XGBClassifier()\n",
    "xgb_classifier.fit(X_train,y_train)\n"
   ]
  },
  {
   "cell_type": "code",
   "execution_count": 31,
   "metadata": {},
   "outputs": [
    {
     "name": "stdout",
     "output_type": "stream",
     "text": [
      "Accuracy of XGB model: 0.9507884362680683\n"
     ]
    }
   ],
   "source": [
    "\n",
    "#predictions = xgb_classifier.predict(X_test)\n",
    "#print(\"Accuracy of XGB Model::\",accuracy_score(y_test,predictions))\n",
    "\n",
    "xgb_score = xgb_classifier.score(X_test, y_test)\n",
    "print(\"Accuracy of XGB model:\", xgb_score)\n",
    "\n",
    "# print classification report\n",
    "xgb_predictions = xgb_classifier.predict(X_test)\n"
   ]
  },
  {
   "cell_type": "code",
   "execution_count": 32,
   "metadata": {},
   "outputs": [
    {
     "data": {
      "image/png": "[encoded data removed]",
      "text/plain": [
       "<Figure size 640x480 with 2 Axes>"
      ]
     },
     "metadata": {},
     "output_type": "display_data"
    }
   ],
   "source": [
    "xgb_predictions = xgb_classifier.predict(X_test)\n",
    "\n",
    "import matplotlib.pyplot as plt\n",
    "from sklearn.metrics import confusion_matrix, ConfusionMatrixDisplay\n",
    "xgb_cm = confusion_matrix(y_test, xgb_predictions, labels=xgb_classifier.classes_)\n",
    "disp = ConfusionMatrixDisplay(confusion_matrix=xgb_cm, display_labels=xgb_classifier.classes_)\n",
    "disp.plot()\n",
    "plt.show()\n"
   ]
  },
  {
   "cell_type": "code",
   "execution_count": 62,
   "metadata": {},
   "outputs": [
    {
     "name": "stdout",
     "output_type": "stream",
     "text": [
      "Macro: (0.9485275724786476, 0.9310818719744531, 0.9379446500111649, None)\n",
      "Micro: (0.9507884362680683, 0.9507884362680683, 0.9507884362680682, None)\n",
      "Weighted: (0.9512152303611882, 0.9507884362680683, 0.9506252004756434, None)\n",
      "Per-label: (array([0.97891407, 0.91693437, 0.99923693, 1.        , 1.        ,\n",
      "       0.96694215, 1.        , 1.        , 0.85602911, 0.94379639,\n",
      "       0.94849567, 0.85714286, 0.83250113, 0.99434156, 0.93357934]), array([0.94120628, 0.95188185, 1.        , 1.        , 0.99965517,\n",
      "       0.68421053, 1.        , 1.        , 0.82597793, 0.99775785,\n",
      "       0.95975232, 0.81964025, 0.89769946, 0.96073559, 0.92771084]), array([0.95968992, 0.93408135, 0.99961832, 1.        , 0.99982756,\n",
      "       0.80136986, 1.        , 1.        , 0.84073507, 0.97002725,\n",
      "       0.95409079, 0.83797217, 0.86387188, 0.97724975, 0.93063584]), array([1973, 2099, 2619, 2049, 2900,  171,   72, 4820, 1994, 1784, 1938,\n",
      "       2057, 2043, 2012, 1909], dtype=int64))\n",
      "XGB Classification Report: \n",
      "              precision    recall  f1-score   support\n",
      "\n",
      "           0       0.98      0.94      0.96      1973\n",
      "           1       0.92      0.95      0.93      2099\n",
      "           2       1.00      1.00      1.00      2619\n",
      "           3       1.00      1.00      1.00      2049\n",
      "           4       1.00      1.00      1.00      2900\n",
      "           5       0.97      0.68      0.80       171\n",
      "           6       1.00      1.00      1.00        72\n",
      "           7       1.00      1.00      1.00      4820\n",
      "           8       0.86      0.83      0.84      1994\n",
      "           9       0.94      1.00      0.97      1784\n",
      "          10       0.95      0.96      0.95      1938\n",
      "          11       0.86      0.82      0.84      2057\n",
      "          12       0.83      0.90      0.86      2043\n",
      "          13       0.99      0.96      0.98      2012\n",
      "          14       0.93      0.93      0.93      1909\n",
      "\n",
      "    accuracy                           0.95     30440\n",
      "   macro avg       0.95      0.93      0.94     30440\n",
      "weighted avg       0.95      0.95      0.95     30440\n",
      "\n"
     ]
    }
   ],
   "source": [
    "\n",
    "from sklearn.metrics import precision_recall_fscore_support\n",
    "print ( \"Macro:\", precision_recall_fscore_support(y_test, xgb_predictions, average='macro') )\n",
    "print ( \"Micro:\", precision_recall_fscore_support(y_test, xgb_predictions, average='micro') )\n",
    "print ( \"Weighted:\", precision_recall_fscore_support(y_test, xgb_predictions, average='weighted') )\n",
    "print ( \"Per-label:\", precision_recall_fscore_support(y_test, xgb_predictions, average=None, labels=np.unique(y_test)) )\n",
    "\n",
    "print(\"XGB Classification Report: \")\n",
    "print(classification_report(y_test, xgb_predictions))\n"
   ]
  },
  {
   "cell_type": "markdown",
   "metadata": {},
   "source": [
    "### 2.4 KNN"
   ]
  },
  {
   "cell_type": "code",
   "execution_count": 34,
   "metadata": {},
   "outputs": [],
   "source": [
    "# Perform KNN classification on the data\n",
    "from sklearn.neighbors import KNeighborsClassifier\n",
    "\n",
    "# Create a k-NN classifier with 7 neighbors: knn\n",
    "knn = KNeighborsClassifier(n_neighbors=7)\n"
   ]
  },
  {
   "cell_type": "code",
   "execution_count": 35,
   "metadata": {},
   "outputs": [
    {
     "name": "stdout",
     "output_type": "stream",
     "text": [
      "CPU times: total: 31.2 ms\n",
      "Wall time: 18 ms\n"
     ]
    },
    {
     "data": {
      "text/html": [
       "<style>#sk-container-id-3 {color: black;background-color: white;}#sk-container-id-3 pre{padding: 0;}#sk-container-id-3 div.sk-toggleable {background-color: white;}#sk-container-id-3 label.sk-toggleable__label {cursor: pointer;display: block;width: 100%;margin-bottom: 0;padding: 0.3em;box-sizing: border-box;text-align: center;}#sk-container-id-3 label.sk-toggleable__label-arrow:before {content: \"▸\";float: left;margin-right: 0.25em;color: #696969;}#sk-container-id-3 label.sk-toggleable__label-arrow:hover:before {color: black;}#sk-container-id-3 div.sk-estimator:hover label.sk-toggleable__label-arrow:before {color: black;}#sk-container-id-3 div.sk-toggleable__content {max-height: 0;max-width: 0;overflow: hidden;text-align: left;background-color: #f0f8ff;}#sk-container-id-3 div.sk-toggleable__content pre {margin: 0.2em;color: black;border-radius: 0.25em;background-color: #f0f8ff;}#sk-container-id-3 input.sk-toggleable__control:checked~div.sk-toggleable__content {max-height: 200px;max-width: 100%;overflow: auto;}#sk-container-id-3 input.sk-toggleable__control:checked~label.sk-toggleable__label-arrow:before {content: \"▾\";}#sk-container-id-3 div.sk-estimator input.sk-toggleable__control:checked~label.sk-toggleable__label {background-color: #d4ebff;}#sk-container-id-3 div.sk-label input.sk-toggleable__control:checked~label.sk-toggleable__label {background-color: #d4ebff;}#sk-container-id-3 input.sk-hidden--visually {border: 0;clip: rect(1px 1px 1px 1px);clip: rect(1px, 1px, 1px, 1px);height: 1px;margin: -1px;overflow: hidden;padding: 0;position: absolute;width: 1px;}#sk-container-id-3 div.sk-estimator {font-family: monospace;background-color: #f0f8ff;border: 1px dotted black;border-radius: 0.25em;box-sizing: border-box;margin-bottom: 0.5em;}#sk-container-id-3 div.sk-estimator:hover {background-color: #d4ebff;}#sk-container-id-3 div.sk-parallel-item::after {content: \"\";width: 100%;border-bottom: 1px solid gray;flex-grow: 1;}#sk-container-id-3 div.sk-label:hover label.sk-toggleable__label {background-color: #d4ebff;}#sk-container-id-3 div.sk-serial::before {content: \"\";position: absolute;border-left: 1px solid gray;box-sizing: border-box;top: 0;bottom: 0;left: 50%;z-index: 0;}#sk-container-id-3 div.sk-serial {display: flex;flex-direction: column;align-items: center;background-color: white;padding-right: 0.2em;padding-left: 0.2em;position: relative;}#sk-container-id-3 div.sk-item {position: relative;z-index: 1;}#sk-container-id-3 div.sk-parallel {display: flex;align-items: stretch;justify-content: center;background-color: white;position: relative;}#sk-container-id-3 div.sk-item::before, #sk-container-id-3 div.sk-parallel-item::before {content: \"\";position: absolute;border-left: 1px solid gray;box-sizing: border-box;top: 0;bottom: 0;left: 50%;z-index: -1;}#sk-container-id-3 div.sk-parallel-item {display: flex;flex-direction: column;z-index: 1;position: relative;background-color: white;}#sk-container-id-3 div.sk-parallel-item:first-child::after {align-self: flex-end;width: 50%;}#sk-container-id-3 div.sk-parallel-item:last-child::after {align-self: flex-start;width: 50%;}#sk-container-id-3 div.sk-parallel-item:only-child::after {width: 0;}#sk-container-id-3 div.sk-dashed-wrapped {border: 1px dashed gray;margin: 0 0.4em 0.5em 0.4em;box-sizing: border-box;padding-bottom: 0.4em;background-color: white;}#sk-container-id-3 div.sk-label label {font-family: monospace;font-weight: bold;display: inline-block;line-height: 1.2em;}#sk-container-id-3 div.sk-label-container {text-align: center;}#sk-container-id-3 div.sk-container {/* jupyter's `normalize.less` sets `[hidden] { display: none; }` but bootstrap.min.css set `[hidden] { display: none !important; }` so we also need the `!important` here to be able to override the default hidden behavior on the sphinx rendered scikit-learn.org. See: https://github.com/scikit-learn/scikit-learn/issues/21755 */display: inline-block !important;position: relative;}#sk-container-id-3 div.sk-text-repr-fallback {display: none;}</style><div id=\"sk-container-id-3\" class=\"sk-top-container\"><div class=\"sk-text-repr-fallback\"><pre>KNeighborsClassifier(n_neighbors=7)</pre><b>In a Jupyter environment, please rerun this cell to show the HTML representation or trust the notebook. <br />On GitHub, the HTML representation is unable to render, please try loading this page with nbviewer.org.</b></div><div class=\"sk-container\" hidden><div class=\"sk-item\"><div class=\"sk-estimator sk-toggleable\"><input class=\"sk-toggleable__control sk-hidden--visually\" id=\"sk-estimator-id-3\" type=\"checkbox\" checked><label for=\"sk-estimator-id-3\" class=\"sk-toggleable__label sk-toggleable__label-arrow\">KNeighborsClassifier</label><div class=\"sk-toggleable__content\"><pre>KNeighborsClassifier(n_neighbors=7)</pre></div></div></div></div></div>"
      ],
      "text/plain": [
       "KNeighborsClassifier(n_neighbors=7)"
      ]
     },
     "execution_count": 35,
     "metadata": {},
     "output_type": "execute_result"
    }
   ],
   "source": [
    "\n",
    "%%time\n",
    "# Fit the classifier to the training data\n",
    "knn.fit(X_train, y_train)"
   ]
  },
  {
   "cell_type": "code",
   "execution_count": 36,
   "metadata": {},
   "outputs": [
    {
     "name": "stdout",
     "output_type": "stream",
     "text": [
      "Accuracy: 0.8105453350854139\n",
      "              precision    recall  f1-score   support\n",
      "\n",
      "           0       0.97      0.94      0.96      1973\n",
      "           1       0.72      0.73      0.73      2099\n",
      "           2       1.00      0.99      1.00      2619\n",
      "           3       0.75      0.80      0.78      2049\n",
      "           4       1.00      1.00      1.00      2900\n",
      "           5       0.76      0.68      0.72       171\n",
      "           6       1.00      1.00      1.00        72\n",
      "           7       1.00      1.00      1.00      4820\n",
      "           8       0.46      0.51      0.48      1994\n",
      "           9       0.74      0.73      0.73      1784\n",
      "          10       0.95      0.95      0.95      1938\n",
      "          11       0.48      0.50      0.49      2057\n",
      "          12       0.60      0.51      0.55      2043\n",
      "          13       0.85      0.85      0.85      2012\n",
      "          14       0.63      0.62      0.63      1909\n",
      "\n",
      "    accuracy                           0.81     30440\n",
      "   macro avg       0.79      0.79      0.79     30440\n",
      "weighted avg       0.81      0.81      0.81     30440\n",
      "\n"
     ]
    }
   ],
   "source": [
    "\n",
    "# Train the KNN classifier on the training data\n",
    "knn.fit(X_train, y_train)\n",
    "\n",
    "# Predict the labels of the test data\n",
    "knn_predictions = knn.predict(X_test)\n",
    "\n",
    "# Compute the accuracy of the KNN classifier on the test data\n",
    "accuracy = accuracy_score(y_test, knn_predictions)\n",
    "print(\"Accuracy:\", accuracy)\n",
    "\n",
    "print(classification_report(y_test, knn_predictions))\n"
   ]
  },
  {
   "cell_type": "markdown",
   "metadata": {},
   "source": [
    "### 2.5 Random Forest"
   ]
  },
  {
   "cell_type": "code",
   "execution_count": 37,
   "metadata": {},
   "outputs": [],
   "source": [
    "# Random Forest Classifier\n",
    "from sklearn.ensemble import RandomForestClassifier\n"
   ]
  },
  {
   "cell_type": "code",
   "execution_count": 38,
   "metadata": {},
   "outputs": [
    {
     "name": "stdout",
     "output_type": "stream",
     "text": [
      "CPU times: total: 12.8 s\n",
      "Wall time: 12.9 s\n"
     ]
    },
    {
     "data": {
      "text/html": [
       "<style>#sk-container-id-4 {color: black;background-color: white;}#sk-container-id-4 pre{padding: 0;}#sk-container-id-4 div.sk-toggleable {background-color: white;}#sk-container-id-4 label.sk-toggleable__label {cursor: pointer;display: block;width: 100%;margin-bottom: 0;padding: 0.3em;box-sizing: border-box;text-align: center;}#sk-container-id-4 label.sk-toggleable__label-arrow:before {content: \"▸\";float: left;margin-right: 0.25em;color: #696969;}#sk-container-id-4 label.sk-toggleable__label-arrow:hover:before {color: black;}#sk-container-id-4 div.sk-estimator:hover label.sk-toggleable__label-arrow:before {color: black;}#sk-container-id-4 div.sk-toggleable__content {max-height: 0;max-width: 0;overflow: hidden;text-align: left;background-color: #f0f8ff;}#sk-container-id-4 div.sk-toggleable__content pre {margin: 0.2em;color: black;border-radius: 0.25em;background-color: #f0f8ff;}#sk-container-id-4 input.sk-toggleable__control:checked~div.sk-toggleable__content {max-height: 200px;max-width: 100%;overflow: auto;}#sk-container-id-4 input.sk-toggleable__control:checked~label.sk-toggleable__label-arrow:before {content: \"▾\";}#sk-container-id-4 div.sk-estimator input.sk-toggleable__control:checked~label.sk-toggleable__label {background-color: #d4ebff;}#sk-container-id-4 div.sk-label input.sk-toggleable__control:checked~label.sk-toggleable__label {background-color: #d4ebff;}#sk-container-id-4 input.sk-hidden--visually {border: 0;clip: rect(1px 1px 1px 1px);clip: rect(1px, 1px, 1px, 1px);height: 1px;margin: -1px;overflow: hidden;padding: 0;position: absolute;width: 1px;}#sk-container-id-4 div.sk-estimator {font-family: monospace;background-color: #f0f8ff;border: 1px dotted black;border-radius: 0.25em;box-sizing: border-box;margin-bottom: 0.5em;}#sk-container-id-4 div.sk-estimator:hover {background-color: #d4ebff;}#sk-container-id-4 div.sk-parallel-item::after {content: \"\";width: 100%;border-bottom: 1px solid gray;flex-grow: 1;}#sk-container-id-4 div.sk-label:hover label.sk-toggleable__label {background-color: #d4ebff;}#sk-container-id-4 div.sk-serial::before {content: \"\";position: absolute;border-left: 1px solid gray;box-sizing: border-box;top: 0;bottom: 0;left: 50%;z-index: 0;}#sk-container-id-4 div.sk-serial {display: flex;flex-direction: column;align-items: center;background-color: white;padding-right: 0.2em;padding-left: 0.2em;position: relative;}#sk-container-id-4 div.sk-item {position: relative;z-index: 1;}#sk-container-id-4 div.sk-parallel {display: flex;align-items: stretch;justify-content: center;background-color: white;position: relative;}#sk-container-id-4 div.sk-item::before, #sk-container-id-4 div.sk-parallel-item::before {content: \"\";position: absolute;border-left: 1px solid gray;box-sizing: border-box;top: 0;bottom: 0;left: 50%;z-index: -1;}#sk-container-id-4 div.sk-parallel-item {display: flex;flex-direction: column;z-index: 1;position: relative;background-color: white;}#sk-container-id-4 div.sk-parallel-item:first-child::after {align-self: flex-end;width: 50%;}#sk-container-id-4 div.sk-parallel-item:last-child::after {align-self: flex-start;width: 50%;}#sk-container-id-4 div.sk-parallel-item:only-child::after {width: 0;}#sk-container-id-4 div.sk-dashed-wrapped {border: 1px dashed gray;margin: 0 0.4em 0.5em 0.4em;box-sizing: border-box;padding-bottom: 0.4em;background-color: white;}#sk-container-id-4 div.sk-label label {font-family: monospace;font-weight: bold;display: inline-block;line-height: 1.2em;}#sk-container-id-4 div.sk-label-container {text-align: center;}#sk-container-id-4 div.sk-container {/* jupyter's `normalize.less` sets `[hidden] { display: none; }` but bootstrap.min.css set `[hidden] { display: none !important; }` so we also need the `!important` here to be able to override the default hidden behavior on the sphinx rendered scikit-learn.org. See: https://github.com/scikit-learn/scikit-learn/issues/21755 */display: inline-block !important;position: relative;}#sk-container-id-4 div.sk-text-repr-fallback {display: none;}</style><div id=\"sk-container-id-4\" class=\"sk-top-container\"><div class=\"sk-text-repr-fallback\"><pre>RandomForestClassifier(random_state=42)</pre><b>In a Jupyter environment, please rerun this cell to show the HTML representation or trust the notebook. <br />On GitHub, the HTML representation is unable to render, please try loading this page with nbviewer.org.</b></div><div class=\"sk-container\" hidden><div class=\"sk-item\"><div class=\"sk-estimator sk-toggleable\"><input class=\"sk-toggleable__control sk-hidden--visually\" id=\"sk-estimator-id-4\" type=\"checkbox\" checked><label for=\"sk-estimator-id-4\" class=\"sk-toggleable__label sk-toggleable__label-arrow\">RandomForestClassifier</label><div class=\"sk-toggleable__content\"><pre>RandomForestClassifier(random_state=42)</pre></div></div></div></div></div>"
      ],
      "text/plain": [
       "RandomForestClassifier(random_state=42)"
      ]
     },
     "execution_count": 38,
     "metadata": {},
     "output_type": "execute_result"
    }
   ],
   "source": [
    "\n",
    "%%time\n",
    "rf = RandomForestClassifier(n_estimators=100, random_state=42)\n",
    "rf.fit(X_train, y_train)"
   ]
  },
  {
   "cell_type": "code",
   "execution_count": 39,
   "metadata": {},
   "outputs": [
    {
     "name": "stdout",
     "output_type": "stream",
     "text": [
      "Accuracy of Random Forest model: 0.9325229960578186\n"
     ]
    },
    {
     "data": {
      "image/png": "[encoded data removed]",
      "text/plain": [
       "<Figure size 640x480 with 2 Axes>"
      ]
     },
     "metadata": {},
     "output_type": "display_data"
    }
   ],
   "source": [
    "rf_score = rf.score(X_test, y_test)\n",
    "print(\"Accuracy of Random Forest model:\", rf_score)\n",
    "\n",
    "rf_predictions = rf.predict(X_test)\n",
    "\n",
    "import matplotlib.pyplot as plt\n",
    "from sklearn.metrics import confusion_matrix, ConfusionMatrixDisplay\n",
    "rf_cm = confusion_matrix(y_test, rf_predictions, labels=rf.classes_)\n",
    "disp = ConfusionMatrixDisplay(confusion_matrix=rf_cm, display_labels=rf.classes_)\n",
    "disp.plot()\n",
    "\n",
    "plt.show()\n",
    "\n"
   ]
  },
  {
   "cell_type": "code",
   "execution_count": 40,
   "metadata": {},
   "outputs": [
    {
     "name": "stdout",
     "output_type": "stream",
     "text": [
      "              precision    recall  f1-score   support\n",
      "\n",
      "           0       0.97      0.95      0.96      1973\n",
      "           1       0.85      0.90      0.87      2099\n",
      "           2       1.00      1.00      1.00      2619\n",
      "           3       1.00      1.00      1.00      2049\n",
      "           4       1.00      1.00      1.00      2900\n",
      "           5       0.79      0.72      0.75       171\n",
      "           6       1.00      1.00      1.00        72\n",
      "           7       1.00      1.00      1.00      4820\n",
      "           8       0.78      0.79      0.79      1994\n",
      "           9       0.94      0.99      0.97      1784\n",
      "          10       0.96      0.94      0.95      1938\n",
      "          11       0.81      0.82      0.82      2057\n",
      "          12       0.82      0.81      0.82      2043\n",
      "          13       0.98      0.95      0.97      2012\n",
      "          14       0.88      0.84      0.86      1909\n",
      "\n",
      "    accuracy                           0.93     30440\n",
      "   macro avg       0.92      0.91      0.92     30440\n",
      "weighted avg       0.93      0.93      0.93     30440\n",
      "\n"
     ]
    }
   ],
   "source": [
    "print(classification_report(y_test,rf_predictions))"
   ]
  },
  {
   "cell_type": "markdown",
   "metadata": {},
   "source": [
    "### 2.6 Support Vector machine"
   ]
  },
  {
   "cell_type": "code",
   "execution_count": 41,
   "metadata": {},
   "outputs": [],
   "source": [
    "from sklearn.svm import SVC\n",
    "\n",
    "# Create an SVM object\n",
    "svm = SVC(kernel='linear')"
   ]
  },
  {
   "cell_type": "code",
   "execution_count": 42,
   "metadata": {},
   "outputs": [
    {
     "name": "stdout",
     "output_type": "stream",
     "text": [
      "CPU times: total: 4min 58s\n",
      "Wall time: 5min 1s\n"
     ]
    },
    {
     "data": {
      "text/html": [
       "<style>#sk-container-id-5 {color: black;background-color: white;}#sk-container-id-5 pre{padding: 0;}#sk-container-id-5 div.sk-toggleable {background-color: white;}#sk-container-id-5 label.sk-toggleable__label {cursor: pointer;display: block;width: 100%;margin-bottom: 0;padding: 0.3em;box-sizing: border-box;text-align: center;}#sk-container-id-5 label.sk-toggleable__label-arrow:before {content: \"▸\";float: left;margin-right: 0.25em;color: #696969;}#sk-container-id-5 label.sk-toggleable__label-arrow:hover:before {color: black;}#sk-container-id-5 div.sk-estimator:hover label.sk-toggleable__label-arrow:before {color: black;}#sk-container-id-5 div.sk-toggleable__content {max-height: 0;max-width: 0;overflow: hidden;text-align: left;background-color: #f0f8ff;}#sk-container-id-5 div.sk-toggleable__content pre {margin: 0.2em;color: black;border-radius: 0.25em;background-color: #f0f8ff;}#sk-container-id-5 input.sk-toggleable__control:checked~div.sk-toggleable__content {max-height: 200px;max-width: 100%;overflow: auto;}#sk-container-id-5 input.sk-toggleable__control:checked~label.sk-toggleable__label-arrow:before {content: \"▾\";}#sk-container-id-5 div.sk-estimator input.sk-toggleable__control:checked~label.sk-toggleable__label {background-color: #d4ebff;}#sk-container-id-5 div.sk-label input.sk-toggleable__control:checked~label.sk-toggleable__label {background-color: #d4ebff;}#sk-container-id-5 input.sk-hidden--visually {border: 0;clip: rect(1px 1px 1px 1px);clip: rect(1px, 1px, 1px, 1px);height: 1px;margin: -1px;overflow: hidden;padding: 0;position: absolute;width: 1px;}#sk-container-id-5 div.sk-estimator {font-family: monospace;background-color: #f0f8ff;border: 1px dotted black;border-radius: 0.25em;box-sizing: border-box;margin-bottom: 0.5em;}#sk-container-id-5 div.sk-estimator:hover {background-color: #d4ebff;}#sk-container-id-5 div.sk-parallel-item::after {content: \"\";width: 100%;border-bottom: 1px solid gray;flex-grow: 1;}#sk-container-id-5 div.sk-label:hover label.sk-toggleable__label {background-color: #d4ebff;}#sk-container-id-5 div.sk-serial::before {content: \"\";position: absolute;border-left: 1px solid gray;box-sizing: border-box;top: 0;bottom: 0;left: 50%;z-index: 0;}#sk-container-id-5 div.sk-serial {display: flex;flex-direction: column;align-items: center;background-color: white;padding-right: 0.2em;padding-left: 0.2em;position: relative;}#sk-container-id-5 div.sk-item {position: relative;z-index: 1;}#sk-container-id-5 div.sk-parallel {display: flex;align-items: stretch;justify-content: center;background-color: white;position: relative;}#sk-container-id-5 div.sk-item::before, #sk-container-id-5 div.sk-parallel-item::before {content: \"\";position: absolute;border-left: 1px solid gray;box-sizing: border-box;top: 0;bottom: 0;left: 50%;z-index: -1;}#sk-container-id-5 div.sk-parallel-item {display: flex;flex-direction: column;z-index: 1;position: relative;background-color: white;}#sk-container-id-5 div.sk-parallel-item:first-child::after {align-self: flex-end;width: 50%;}#sk-container-id-5 div.sk-parallel-item:last-child::after {align-self: flex-start;width: 50%;}#sk-container-id-5 div.sk-parallel-item:only-child::after {width: 0;}#sk-container-id-5 div.sk-dashed-wrapped {border: 1px dashed gray;margin: 0 0.4em 0.5em 0.4em;box-sizing: border-box;padding-bottom: 0.4em;background-color: white;}#sk-container-id-5 div.sk-label label {font-family: monospace;font-weight: bold;display: inline-block;line-height: 1.2em;}#sk-container-id-5 div.sk-label-container {text-align: center;}#sk-container-id-5 div.sk-container {/* jupyter's `normalize.less` sets `[hidden] { display: none; }` but bootstrap.min.css set `[hidden] { display: none !important; }` so we also need the `!important` here to be able to override the default hidden behavior on the sphinx rendered scikit-learn.org. See: https://github.com/scikit-learn/scikit-learn/issues/21755 */display: inline-block !important;position: relative;}#sk-container-id-5 div.sk-text-repr-fallback {display: none;}</style><div id=\"sk-container-id-5\" class=\"sk-top-container\"><div class=\"sk-text-repr-fallback\"><pre>SVC(kernel=&#x27;linear&#x27;)</pre><b>In a Jupyter environment, please rerun this cell to show the HTML representation or trust the notebook. <br />On GitHub, the HTML representation is unable to render, please try loading this page with nbviewer.org.</b></div><div class=\"sk-container\" hidden><div class=\"sk-item\"><div class=\"sk-estimator sk-toggleable\"><input class=\"sk-toggleable__control sk-hidden--visually\" id=\"sk-estimator-id-5\" type=\"checkbox\" checked><label for=\"sk-estimator-id-5\" class=\"sk-toggleable__label sk-toggleable__label-arrow\">SVC</label><div class=\"sk-toggleable__content\"><pre>SVC(kernel=&#x27;linear&#x27;)</pre></div></div></div></div></div>"
      ],
      "text/plain": [
       "SVC(kernel='linear')"
      ]
     },
     "execution_count": 42,
     "metadata": {},
     "output_type": "execute_result"
    }
   ],
   "source": [
    "\n",
    "%%time\n",
    "# Train the SVM on the training data\n",
    "svm.fit(X_train, y_train)"
   ]
  },
  {
   "cell_type": "code",
   "execution_count": 43,
   "metadata": {},
   "outputs": [
    {
     "name": "stdout",
     "output_type": "stream",
     "text": [
      "Accuracy: 0.777299605781866\n",
      "              precision    recall  f1-score   support\n",
      "\n",
      "           0       0.63      0.77      0.70      1973\n",
      "           1       0.89      0.60      0.71      2099\n",
      "           2       1.00      0.99      1.00      2619\n",
      "           3       1.00      0.58      0.73      2049\n",
      "           4       1.00      1.00      1.00      2900\n",
      "           5       0.84      0.67      0.74       171\n",
      "           6       1.00      1.00      1.00        72\n",
      "           7       1.00      1.00      1.00      4820\n",
      "           8       0.62      0.25      0.36      1994\n",
      "           9       0.64      0.99      0.78      1784\n",
      "          10       0.70      0.51      0.59      1938\n",
      "          11       0.41      0.82      0.55      2057\n",
      "          12       0.69      0.40      0.50      2043\n",
      "          13       0.95      0.85      0.90      2012\n",
      "          14       0.62      0.90      0.73      1909\n",
      "\n",
      "    accuracy                           0.78     30440\n",
      "   macro avg       0.80      0.76      0.75     30440\n",
      "weighted avg       0.81      0.78      0.77     30440\n",
      "\n"
     ]
    }
   ],
   "source": [
    "# Predict the labels of the test data\n",
    "svm_predications = svm.predict(X_test)\n",
    "\n",
    "# Compute the accuracy of the SVM on the test data\n",
    "accuracy = accuracy_score(y_test, svm_predications)\n",
    "print(\"Accuracy:\", accuracy)\n",
    "print(classification_report(y_test, svm_predications))\n"
   ]
  },
  {
   "cell_type": "code",
   "execution_count": 65,
   "metadata": {},
   "outputs": [
    {
     "name": "stdout",
     "output_type": "stream",
     "text": [
      "Numerical label mapping:\n",
      "0 --> Backdoor\n",
      "1 --> DDoS_HTTP\n",
      "2 --> DDoS_ICMP\n",
      "3 --> DDoS_TCP\n",
      "4 --> DDoS_UDP\n",
      "5 --> Fingerprinting\n",
      "6 --> MITM\n",
      "7 --> Normal\n",
      "8 --> Password\n",
      "9 --> Port_Scanning\n",
      "10 --> Ransomware\n",
      "11 --> SQL_injection\n",
      "12 --> Uploading\n",
      "13 --> Vulnerability_scanner\n",
      "14 --> XSS\n"
     ]
    }
   ],
   "source": [
    "# Print the mapping of numerical labels to original labels\n",
    "print(\"Numerical label mapping:\")\n",
    "for i, label in enumerate(le.classes_):\n",
    "    print(i, \"-->\", label)"
   ]
  }
 ],
 "metadata": {
  "kernelspec": {
   "display_name": "py310",
   "language": "python",
   "name": "python3"
  },
  "language_info": {
   "codemirror_mode": {
    "name": "ipython",
    "version": 3
   },
   "file_extension": ".py",
   "mimetype": "text/x-python",
   "name": "python",
   "nbconvert_exporter": "python",
   "pygments_lexer": "ipython3",
   "version": "3.10.9"
  },
  "orig_nbformat": 4,
  "vscode": {
   "interpreter": {
    "hash": "13889281186302bdc36c7f868260bf3605ac7141689b3024570e3e86051ebcc7"
   }
  }
 },
 "nbformat": 4,
 "nbformat_minor": 2
}
